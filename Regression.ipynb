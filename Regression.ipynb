{
 "cells": [
  {
   "cell_type": "code",
   "execution_count": 1,
   "metadata": {},
   "outputs": [],
   "source": [
    "#What are the key factor which drive the sale of the Car"
   ]
  },
  {
   "cell_type": "code",
   "execution_count": 1,
   "metadata": {},
   "outputs": [
    {
     "name": "stderr",
     "output_type": "stream",
     "text": [
      "In C:\\ProgramData\\Anaconda3\\lib\\site-packages\\matplotlib\\mpl-data\\stylelib\\_classic_test.mplstyle: \n",
      "The text.latex.preview rcparam was deprecated in Matplotlib 3.3 and will be removed two minor releases later.\n",
      "In C:\\ProgramData\\Anaconda3\\lib\\site-packages\\matplotlib\\mpl-data\\stylelib\\_classic_test.mplstyle: \n",
      "The mathtext.fallback_to_cm rcparam was deprecated in Matplotlib 3.3 and will be removed two minor releases later.\n",
      "In C:\\ProgramData\\Anaconda3\\lib\\site-packages\\matplotlib\\mpl-data\\stylelib\\_classic_test.mplstyle: Support for setting the 'mathtext.fallback_to_cm' rcParam is deprecated since 3.3 and will be removed two minor releases later; use 'mathtext.fallback : 'cm' instead.\n",
      "In C:\\ProgramData\\Anaconda3\\lib\\site-packages\\matplotlib\\mpl-data\\stylelib\\_classic_test.mplstyle: \n",
      "The validate_bool_maybe_none function was deprecated in Matplotlib 3.3 and will be removed two minor releases later.\n",
      "In C:\\ProgramData\\Anaconda3\\lib\\site-packages\\matplotlib\\mpl-data\\stylelib\\_classic_test.mplstyle: \n",
      "The savefig.jpeg_quality rcparam was deprecated in Matplotlib 3.3 and will be removed two minor releases later.\n",
      "In C:\\ProgramData\\Anaconda3\\lib\\site-packages\\matplotlib\\mpl-data\\stylelib\\_classic_test.mplstyle: \n",
      "The keymap.all_axes rcparam was deprecated in Matplotlib 3.3 and will be removed two minor releases later.\n",
      "In C:\\ProgramData\\Anaconda3\\lib\\site-packages\\matplotlib\\mpl-data\\stylelib\\_classic_test.mplstyle: \n",
      "The animation.avconv_path rcparam was deprecated in Matplotlib 3.3 and will be removed two minor releases later.\n",
      "In C:\\ProgramData\\Anaconda3\\lib\\site-packages\\matplotlib\\mpl-data\\stylelib\\_classic_test.mplstyle: \n",
      "The animation.avconv_args rcparam was deprecated in Matplotlib 3.3 and will be removed two minor releases later.\n"
     ]
    }
   ],
   "source": [
    "import pandas as pd\n",
    "import numpy as np\n",
    "import os \n",
    "import matplotlib.pyplot as plt"
   ]
  },
  {
   "cell_type": "code",
   "execution_count": 10,
   "metadata": {},
   "outputs": [],
   "source": [
    "os.chdir(r\"C:\\Users\\Admin\\Desktop\\Training\\PGAA001\\LR\")"
   ]
  },
  {
   "cell_type": "code",
   "execution_count": 11,
   "metadata": {},
   "outputs": [
    {
     "data": {
      "text/plain": [
       "'C:\\\\Users\\\\Admin\\\\Desktop\\\\Training\\\\PGAA001\\\\LR'"
      ]
     },
     "execution_count": 11,
     "metadata": {},
     "output_type": "execute_result"
    }
   ],
   "source": [
    "os.getcwd()"
   ]
  },
  {
   "cell_type": "code",
   "execution_count": 12,
   "metadata": {
    "scrolled": true
   },
   "outputs": [
    {
     "data": {
      "text/plain": [
       "['Basic_Stats.xlsx',\n",
       " 'car_sales.csv',\n",
       " 'corr.csv',\n",
       " 'New WinRAR ZIP archive.zip',\n",
       " 'new.csv',\n",
       " 'Train_X.csv',\n",
       " 'Untitled.html',\n",
       " 'Untitled1.html']"
      ]
     },
     "execution_count": 12,
     "metadata": {},
     "output_type": "execute_result"
    }
   ],
   "source": [
    "os.listdir()  # list all the data , documents etc at the location"
   ]
  },
  {
   "cell_type": "code",
   "execution_count": 13,
   "metadata": {},
   "outputs": [],
   "source": [
    "df=pd.read_csv('car_sales.csv')"
   ]
  },
  {
   "cell_type": "code",
   "execution_count": 7,
   "metadata": {},
   "outputs": [],
   "source": [
    "#f,ax=plt.subplots(figsize=(9,8))\n",
    "#sns.heatmap(corrmT, ax=ax,cmap=\"Y1GnBu\", linewidths=0.1)"
   ]
  },
  {
   "cell_type": "code",
   "execution_count": 14,
   "metadata": {},
   "outputs": [
    {
     "data": {
      "text/plain": [
       "Index(['Manufacturer', 'Model', 'Sales_in_thousands', '__year_resale_value',\n",
       "       'Vehicle_type', 'Price_in_thousands', 'Engine_size', 'Horsepower',\n",
       "       'Wheelbase', 'Width', 'Length', 'Curb_weight', 'Fuel_capacity',\n",
       "       'Fuel_efficiency', 'Latest_Launch'],\n",
       "      dtype='object')"
      ]
     },
     "execution_count": 14,
     "metadata": {},
     "output_type": "execute_result"
    }
   ],
   "source": [
    "df.columns"
   ]
  },
  {
   "cell_type": "code",
   "execution_count": 16,
   "metadata": {},
   "outputs": [
    {
     "data": {
      "text/plain": [
       "__year_resale_value    36\n",
       "Fuel_efficiency         3\n",
       "Curb_weight             2\n",
       "Price_in_thousands      2\n",
       "Fuel_capacity           1\n",
       "Length                  1\n",
       "Width                   1\n",
       "Wheelbase               1\n",
       "Horsepower              1\n",
       "Engine_size             1\n",
       "Latest_Launch           0\n",
       "Vehicle_type            0\n",
       "Sales_in_thousands      0\n",
       "Model                   0\n",
       "Manufacturer            0\n",
       "dtype: int64"
      ]
     },
     "execution_count": 16,
     "metadata": {},
     "output_type": "execute_result"
    }
   ],
   "source": [
    "df.isnull().sum().sort_values(ascending=False)"
   ]
  },
  {
   "cell_type": "code",
   "execution_count": 20,
   "metadata": {},
   "outputs": [],
   "source": [
    "df1=df.drop(columns=[\"Manufacturer\", \"Model\", \"Latest_Launch\"])"
   ]
  },
  {
   "cell_type": "code",
   "execution_count": 22,
   "metadata": {},
   "outputs": [
    {
     "data": {
      "text/plain": [
       "Index(['Sales_in_thousands', '__year_resale_value', 'Vehicle_type',\n",
       "       'Price_in_thousands', 'Engine_size', 'Horsepower', 'Wheelbase', 'Width',\n",
       "       'Length', 'Curb_weight', 'Fuel_capacity', 'Fuel_efficiency'],\n",
       "      dtype='object')"
      ]
     },
     "execution_count": 22,
     "metadata": {},
     "output_type": "execute_result"
    }
   ],
   "source": [
    "df1.columns  "
   ]
  },
  {
   "cell_type": "markdown",
   "metadata": {},
   "source": [
    "## Univariate Analysis"
   ]
  },
  {
   "cell_type": "code",
   "execution_count": 12,
   "metadata": {},
   "outputs": [],
   "source": [
    "# Categorical Variables : Freq distribution, missing value. Plot - Pie graph, Histogram, Pareto Analysi"
   ]
  },
  {
   "cell_type": "code",
   "execution_count": 13,
   "metadata": {},
   "outputs": [],
   "source": [
    "# Numerical Variables : N, Min , max , Percentile Distribution , Normality , Skewness , Std , missing value , outlier etc."
   ]
  },
  {
   "cell_type": "markdown",
   "metadata": {},
   "source": [
    "## Bivariate Analysis"
   ]
  },
  {
   "cell_type": "code",
   "execution_count": 14,
   "metadata": {},
   "outputs": [],
   "source": [
    "# Cat-Cat : Cross table Analysis , Chisquare  etc. \n",
    "# Cat-Num : Pareto analysis , testing , Histogram , Cat level summary\n",
    "# Num-Num : etc......"
   ]
  },
  {
   "cell_type": "code",
   "execution_count": 23,
   "metadata": {},
   "outputs": [
    {
     "data": {
      "image/png": "[encoded data removed]",
      "text/plain": [
       "<Figure size 432x288 with 1 Axes>"
      ]
     },
     "metadata": {
      "needs_background": "light"
     },
     "output_type": "display_data"
    }
   ],
   "source": [
    "plt.scatter(df1[\"Sales_in_thousands\"], df1[\"__year_resale_value\"])\n",
    "plt.xlabel(\"Sale\")\n",
    "plt.ylabel(\"Resale\")\n",
    "plt.show()"
   ]
  },
  {
   "cell_type": "code",
   "execution_count": 11,
   "metadata": {
    "scrolled": true
   },
   "outputs": [
    {
     "data": {
      "image/png": "[encoded data removed]",
      "text/plain": [
       "<Figure size 432x288 with 1 Axes>"
      ]
     },
     "metadata": {
      "needs_background": "light"
     },
     "output_type": "display_data"
    }
   ],
   "source": [
    "plt.scatter(df1[\"Sales_in_thousands\"], df1[\"Price_in_thousands\"])\n",
    "plt.xlabel(\"Sale\")\n",
    "plt.ylabel(\"Price_in_thousands\")\n",
    "plt.show()"
   ]
  },
  {
   "cell_type": "code",
   "execution_count": 24,
   "metadata": {},
   "outputs": [
    {
     "data": {
      "image/png": "[encoded data removed]",
      "text/plain": [
       "<Figure size 432x288 with 1 Axes>"
      ]
     },
     "metadata": {
      "needs_background": "light"
     },
     "output_type": "display_data"
    }
   ],
   "source": [
    "plt.scatter(df1[\"Sales_in_thousands\"], df1[\"Engine_size\"])\n",
    "plt.xlabel(\"Sale\")\n",
    "plt.ylabel(\"Engine_size\")\n",
    "plt.show()"
   ]
  },
  {
   "cell_type": "code",
   "execution_count": 25,
   "metadata": {},
   "outputs": [
    {
     "data": {
      "image/png": "[encoded data removed]",
      "text/plain": [
       "<Figure size 432x288 with 1 Axes>"
      ]
     },
     "metadata": {
      "needs_background": "light"
     },
     "output_type": "display_data"
    }
   ],
   "source": [
    "plt.scatter(df1[\"Sales_in_thousands\"], df1[\"Horsepower\"])\n",
    "plt.xlabel(\"Sale\")\n",
    "plt.ylabel(\"Horsepower\")\n",
    "plt.show()"
   ]
  },
  {
   "cell_type": "code",
   "execution_count": 26,
   "metadata": {},
   "outputs": [
    {
     "data": {
      "image/png": "[encoded data removed]",
      "text/plain": [
       "<Figure size 432x288 with 1 Axes>"
      ]
     },
     "metadata": {
      "needs_background": "light"
     },
     "output_type": "display_data"
    }
   ],
   "source": [
    "plt.scatter(df1[\"Sales_in_thousands\"], df1[\"Wheelbase\"])\n",
    "plt.xlabel(\"Sale\")\n",
    "plt.ylabel(\"Wheelbase\")\n",
    "plt.show()"
   ]
  },
  {
   "cell_type": "code",
   "execution_count": 27,
   "metadata": {},
   "outputs": [
    {
     "data": {
      "image/png": "[encoded data removed]",
      "text/plain": [
       "<Figure size 432x288 with 1 Axes>"
      ]
     },
     "metadata": {
      "needs_background": "light"
     },
     "output_type": "display_data"
    }
   ],
   "source": [
    "plt.scatter(df1[\"Sales_in_thousands\"], df1[\"Width\"])\n",
    "plt.xlabel(\"Sale\")\n",
    "plt.ylabel(\"Width\")\n",
    "plt.show()"
   ]
  },
  {
   "cell_type": "code",
   "execution_count": 28,
   "metadata": {},
   "outputs": [
    {
     "data": {
      "image/png": "[encoded data removed]",
      "text/plain": [
       "<Figure size 432x288 with 1 Axes>"
      ]
     },
     "metadata": {
      "needs_background": "light"
     },
     "output_type": "display_data"
    }
   ],
   "source": [
    "plt.scatter(df1[\"Sales_in_thousands\"], df1[\"Length\"])\n",
    "plt.xlabel(\"Sale\")\n",
    "plt.ylabel(\"Length\")\n",
    "plt.show()"
   ]
  },
  {
   "cell_type": "code",
   "execution_count": 29,
   "metadata": {},
   "outputs": [
    {
     "data": {
      "image/png": "[encoded data removed]",
      "text/plain": [
       "<Figure size 432x288 with 1 Axes>"
      ]
     },
     "metadata": {
      "needs_background": "light"
     },
     "output_type": "display_data"
    }
   ],
   "source": [
    "plt.scatter(df1[\"Price_in_thousands\"], df1[\"__year_resale_value\"])\n",
    "plt.xlabel(\"Price_in_thousands\")\n",
    "plt.ylabel(\"Resale\")\n",
    "plt.show()"
   ]
  },
  {
   "cell_type": "code",
   "execution_count": 30,
   "metadata": {},
   "outputs": [],
   "source": [
    "# Outlier and Missing Value Treatment"
   ]
  },
  {
   "cell_type": "code",
   "execution_count": 31,
   "metadata": {},
   "outputs": [
    {
     "data": {
      "text/html": [
       "<div>\n",
       "<style scoped>\n",
       "    .dataframe tbody tr th:only-of-type {\n",
       "        vertical-align: middle;\n",
       "    }\n",
       "\n",
       "    .dataframe tbody tr th {\n",
       "        vertical-align: top;\n",
       "    }\n",
       "\n",
       "    .dataframe thead th {\n",
       "        text-align: right;\n",
       "    }\n",
       "</style>\n",
       "<table border=\"1\" class=\"dataframe\">\n",
       "  <thead>\n",
       "    <tr style=\"text-align: right;\">\n",
       "      <th></th>\n",
       "      <th>Sales_in_thousands</th>\n",
       "      <th>__year_resale_value</th>\n",
       "      <th>Price_in_thousands</th>\n",
       "      <th>Engine_size</th>\n",
       "      <th>Horsepower</th>\n",
       "      <th>Wheelbase</th>\n",
       "      <th>Width</th>\n",
       "      <th>Length</th>\n",
       "      <th>Curb_weight</th>\n",
       "      <th>Fuel_capacity</th>\n",
       "      <th>Fuel_efficiency</th>\n",
       "    </tr>\n",
       "  </thead>\n",
       "  <tbody>\n",
       "    <tr>\n",
       "      <td>count</td>\n",
       "      <td>157.000000</td>\n",
       "      <td>121.000000</td>\n",
       "      <td>155.000000</td>\n",
       "      <td>156.000000</td>\n",
       "      <td>156.000000</td>\n",
       "      <td>156.000000</td>\n",
       "      <td>156.000000</td>\n",
       "      <td>156.000000</td>\n",
       "      <td>155.000000</td>\n",
       "      <td>156.000000</td>\n",
       "      <td>154.000000</td>\n",
       "    </tr>\n",
       "    <tr>\n",
       "      <td>mean</td>\n",
       "      <td>52.998076</td>\n",
       "      <td>18.072975</td>\n",
       "      <td>27.390755</td>\n",
       "      <td>3.060897</td>\n",
       "      <td>185.948718</td>\n",
       "      <td>107.487179</td>\n",
       "      <td>71.150000</td>\n",
       "      <td>187.343590</td>\n",
       "      <td>3.378026</td>\n",
       "      <td>17.951923</td>\n",
       "      <td>23.844156</td>\n",
       "    </tr>\n",
       "    <tr>\n",
       "      <td>std</td>\n",
       "      <td>68.029422</td>\n",
       "      <td>11.453384</td>\n",
       "      <td>14.351653</td>\n",
       "      <td>1.044653</td>\n",
       "      <td>56.700321</td>\n",
       "      <td>7.641303</td>\n",
       "      <td>3.451872</td>\n",
       "      <td>13.431754</td>\n",
       "      <td>0.630502</td>\n",
       "      <td>3.887921</td>\n",
       "      <td>4.282706</td>\n",
       "    </tr>\n",
       "    <tr>\n",
       "      <td>min</td>\n",
       "      <td>0.110000</td>\n",
       "      <td>5.160000</td>\n",
       "      <td>9.235000</td>\n",
       "      <td>1.000000</td>\n",
       "      <td>55.000000</td>\n",
       "      <td>92.600000</td>\n",
       "      <td>62.600000</td>\n",
       "      <td>149.400000</td>\n",
       "      <td>1.895000</td>\n",
       "      <td>10.300000</td>\n",
       "      <td>15.000000</td>\n",
       "    </tr>\n",
       "    <tr>\n",
       "      <td>25%</td>\n",
       "      <td>14.114000</td>\n",
       "      <td>11.260000</td>\n",
       "      <td>18.017500</td>\n",
       "      <td>2.300000</td>\n",
       "      <td>149.500000</td>\n",
       "      <td>103.000000</td>\n",
       "      <td>68.400000</td>\n",
       "      <td>177.575000</td>\n",
       "      <td>2.971000</td>\n",
       "      <td>15.800000</td>\n",
       "      <td>21.000000</td>\n",
       "    </tr>\n",
       "    <tr>\n",
       "      <td>50%</td>\n",
       "      <td>29.450000</td>\n",
       "      <td>14.180000</td>\n",
       "      <td>22.799000</td>\n",
       "      <td>3.000000</td>\n",
       "      <td>177.500000</td>\n",
       "      <td>107.000000</td>\n",
       "      <td>70.550000</td>\n",
       "      <td>187.900000</td>\n",
       "      <td>3.342000</td>\n",
       "      <td>17.200000</td>\n",
       "      <td>24.000000</td>\n",
       "    </tr>\n",
       "    <tr>\n",
       "      <td>75%</td>\n",
       "      <td>67.956000</td>\n",
       "      <td>19.875000</td>\n",
       "      <td>31.947500</td>\n",
       "      <td>3.575000</td>\n",
       "      <td>215.000000</td>\n",
       "      <td>112.200000</td>\n",
       "      <td>73.425000</td>\n",
       "      <td>196.125000</td>\n",
       "      <td>3.799500</td>\n",
       "      <td>19.575000</td>\n",
       "      <td>26.000000</td>\n",
       "    </tr>\n",
       "    <tr>\n",
       "      <td>max</td>\n",
       "      <td>540.561000</td>\n",
       "      <td>67.550000</td>\n",
       "      <td>85.500000</td>\n",
       "      <td>8.000000</td>\n",
       "      <td>450.000000</td>\n",
       "      <td>138.700000</td>\n",
       "      <td>79.900000</td>\n",
       "      <td>224.500000</td>\n",
       "      <td>5.572000</td>\n",
       "      <td>32.000000</td>\n",
       "      <td>45.000000</td>\n",
       "    </tr>\n",
       "  </tbody>\n",
       "</table>\n",
       "</div>"
      ],
      "text/plain": [
       "       Sales_in_thousands  __year_resale_value  Price_in_thousands  \\\n",
       "count          157.000000           121.000000          155.000000   \n",
       "mean            52.998076            18.072975           27.390755   \n",
       "std             68.029422            11.453384           14.351653   \n",
       "min              0.110000             5.160000            9.235000   \n",
       "25%             14.114000            11.260000           18.017500   \n",
       "50%             29.450000            14.180000           22.799000   \n",
       "75%             67.956000            19.875000           31.947500   \n",
       "max            540.561000            67.550000           85.500000   \n",
       "\n",
       "       Engine_size  Horsepower   Wheelbase       Width      Length  \\\n",
       "count   156.000000  156.000000  156.000000  156.000000  156.000000   \n",
       "mean      3.060897  185.948718  107.487179   71.150000  187.343590   \n",
       "std       1.044653   56.700321    7.641303    3.451872   13.431754   \n",
       "min       1.000000   55.000000   92.600000   62.600000  149.400000   \n",
       "25%       2.300000  149.500000  103.000000   68.400000  177.575000   \n",
       "50%       3.000000  177.500000  107.000000   70.550000  187.900000   \n",
       "75%       3.575000  215.000000  112.200000   73.425000  196.125000   \n",
       "max       8.000000  450.000000  138.700000   79.900000  224.500000   \n",
       "\n",
       "       Curb_weight  Fuel_capacity  Fuel_efficiency  \n",
       "count   155.000000     156.000000       154.000000  \n",
       "mean      3.378026      17.951923        23.844156  \n",
       "std       0.630502       3.887921         4.282706  \n",
       "min       1.895000      10.300000        15.000000  \n",
       "25%       2.971000      15.800000        21.000000  \n",
       "50%       3.342000      17.200000        24.000000  \n",
       "75%       3.799500      19.575000        26.000000  \n",
       "max       5.572000      32.000000        45.000000  "
      ]
     },
     "execution_count": 31,
     "metadata": {},
     "output_type": "execute_result"
    }
   ],
   "source": [
    "df1.describe()"
   ]
  },
  {
   "cell_type": "code",
   "execution_count": 34,
   "metadata": {},
   "outputs": [],
   "source": [
    "Outliers=df1.describe(percentiles=[.01,.05,.1,.2,.25,.5,.75,.90,.95,.99]).T"
   ]
  },
  {
   "cell_type": "code",
   "execution_count": 35,
   "metadata": {},
   "outputs": [],
   "source": [
    "Outliers.to_csv(\"Outlier.csv\")"
   ]
  },
  {
   "cell_type": "code",
   "execution_count": 27,
   "metadata": {},
   "outputs": [
    {
     "data": {
      "text/plain": [
       "(157, 12)"
      ]
     },
     "execution_count": 27,
     "metadata": {},
     "output_type": "execute_result"
    }
   ],
   "source": [
    "df1.shape"
   ]
  },
  {
   "cell_type": "code",
   "execution_count": 37,
   "metadata": {},
   "outputs": [
    {
     "data": {
      "text/plain": [
       "Sales_in_thousands      0\n",
       "Vehicle_type            0\n",
       "Engine_size             1\n",
       "Horsepower              1\n",
       "Wheelbase               1\n",
       "Width                   1\n",
       "Length                  1\n",
       "Fuel_capacity           1\n",
       "Price_in_thousands      2\n",
       "Curb_weight             2\n",
       "Fuel_efficiency         3\n",
       "__year_resale_value    36\n",
       "dtype: int64"
      ]
     },
     "execution_count": 37,
     "metadata": {},
     "output_type": "execute_result"
    }
   ],
   "source": [
    "df1.isnull().sum().sort_values()"
   ]
  },
  {
   "cell_type": "code",
   "execution_count": 38,
   "metadata": {},
   "outputs": [],
   "source": [
    "df2=df1.drop([\"__year_resale_value\"], axis=1)"
   ]
  },
  {
   "cell_type": "code",
   "execution_count": 39,
   "metadata": {},
   "outputs": [
    {
     "data": {
      "text/plain": [
       "Index(['Sales_in_thousands', 'Vehicle_type', 'Price_in_thousands',\n",
       "       'Engine_size', 'Horsepower', 'Wheelbase', 'Width', 'Length',\n",
       "       'Curb_weight', 'Fuel_capacity', 'Fuel_efficiency'],\n",
       "      dtype='object')"
      ]
     },
     "execution_count": 39,
     "metadata": {},
     "output_type": "execute_result"
    }
   ],
   "source": [
    "df2.columns"
   ]
  },
  {
   "cell_type": "code",
   "execution_count": 41,
   "metadata": {},
   "outputs": [],
   "source": [
    "# Outlier Capping\n",
    "df2[df2['Sales_in_thousands'] >= 223.071631426884] = 223.071631426884\n",
    "df2[df2['Price_in_thousands'] >= 63.2698878118058] = 63.2698878118058\n",
    "df2[df2['Engine_size'] >= 5.67252986908698] = 5.67252986908698\n",
    "df2[df2['Horsepower'] >= 327.699520094651] = 327.699520094651\n",
    "df2[df2['Wheelbase'] >= 126.590437061704] = 126.590437061704\n",
    "df2[df2['Width'] >= 79.7796796561483] = 79.7796796561483\n",
    "df2[df2['Length'] >= 220.922975454881] = 220.922975454881\n",
    "df2[df2['Curb_weight'] >= 4.95427989252485] = 4.95427989252485\n",
    "df2[df2['Fuel_capacity'] >= 27.6717262390846] = 27.6717262390846\n",
    "df2[df2['Fuel_efficiency'] >= 34.5509197488687] = 34.5509197488687\n"
   ]
  },
  {
   "cell_type": "code",
   "execution_count": 42,
   "metadata": {},
   "outputs": [],
   "source": [
    "Outliers=df2.describe(percentiles=[.01,.05,.1,.2,.25,.5,.75,.90,.95,.99]).T\n",
    "Outliers.to_csv(\"Out.csv\")"
   ]
  },
  {
   "cell_type": "code",
   "execution_count": 43,
   "metadata": {},
   "outputs": [
    {
     "data": {
      "text/html": [
       "<div>\n",
       "<style scoped>\n",
       "    .dataframe tbody tr th:only-of-type {\n",
       "        vertical-align: middle;\n",
       "    }\n",
       "\n",
       "    .dataframe tbody tr th {\n",
       "        vertical-align: top;\n",
       "    }\n",
       "\n",
       "    .dataframe thead th {\n",
       "        text-align: right;\n",
       "    }\n",
       "</style>\n",
       "<table border=\"1\" class=\"dataframe\">\n",
       "  <thead>\n",
       "    <tr style=\"text-align: right;\">\n",
       "      <th></th>\n",
       "      <th>Sales_in_thousands</th>\n",
       "      <th>__year_resale_value</th>\n",
       "      <th>Price_in_thousands</th>\n",
       "      <th>Engine_size</th>\n",
       "      <th>Horsepower</th>\n",
       "      <th>Wheelbase</th>\n",
       "      <th>Width</th>\n",
       "      <th>Length</th>\n",
       "      <th>Curb_weight</th>\n",
       "      <th>Fuel_capacity</th>\n",
       "      <th>Fuel_efficiency</th>\n",
       "    </tr>\n",
       "  </thead>\n",
       "  <tbody>\n",
       "    <tr>\n",
       "      <td>count</td>\n",
       "      <td>157.000000</td>\n",
       "      <td>121.000000</td>\n",
       "      <td>155.000000</td>\n",
       "      <td>156.000000</td>\n",
       "      <td>156.000000</td>\n",
       "      <td>156.000000</td>\n",
       "      <td>156.000000</td>\n",
       "      <td>156.000000</td>\n",
       "      <td>155.000000</td>\n",
       "      <td>156.000000</td>\n",
       "      <td>154.000000</td>\n",
       "    </tr>\n",
       "    <tr>\n",
       "      <td>mean</td>\n",
       "      <td>52.998076</td>\n",
       "      <td>18.072975</td>\n",
       "      <td>27.390755</td>\n",
       "      <td>3.060897</td>\n",
       "      <td>185.948718</td>\n",
       "      <td>107.487179</td>\n",
       "      <td>71.150000</td>\n",
       "      <td>187.343590</td>\n",
       "      <td>3.378026</td>\n",
       "      <td>17.951923</td>\n",
       "      <td>23.844156</td>\n",
       "    </tr>\n",
       "    <tr>\n",
       "      <td>std</td>\n",
       "      <td>68.029422</td>\n",
       "      <td>11.453384</td>\n",
       "      <td>14.351653</td>\n",
       "      <td>1.044653</td>\n",
       "      <td>56.700321</td>\n",
       "      <td>7.641303</td>\n",
       "      <td>3.451872</td>\n",
       "      <td>13.431754</td>\n",
       "      <td>0.630502</td>\n",
       "      <td>3.887921</td>\n",
       "      <td>4.282706</td>\n",
       "    </tr>\n",
       "    <tr>\n",
       "      <td>min</td>\n",
       "      <td>0.110000</td>\n",
       "      <td>5.160000</td>\n",
       "      <td>9.235000</td>\n",
       "      <td>1.000000</td>\n",
       "      <td>55.000000</td>\n",
       "      <td>92.600000</td>\n",
       "      <td>62.600000</td>\n",
       "      <td>149.400000</td>\n",
       "      <td>1.895000</td>\n",
       "      <td>10.300000</td>\n",
       "      <td>15.000000</td>\n",
       "    </tr>\n",
       "    <tr>\n",
       "      <td>25%</td>\n",
       "      <td>14.114000</td>\n",
       "      <td>11.260000</td>\n",
       "      <td>18.017500</td>\n",
       "      <td>2.300000</td>\n",
       "      <td>149.500000</td>\n",
       "      <td>103.000000</td>\n",
       "      <td>68.400000</td>\n",
       "      <td>177.575000</td>\n",
       "      <td>2.971000</td>\n",
       "      <td>15.800000</td>\n",
       "      <td>21.000000</td>\n",
       "    </tr>\n",
       "    <tr>\n",
       "      <td>50%</td>\n",
       "      <td>29.450000</td>\n",
       "      <td>14.180000</td>\n",
       "      <td>22.799000</td>\n",
       "      <td>3.000000</td>\n",
       "      <td>177.500000</td>\n",
       "      <td>107.000000</td>\n",
       "      <td>70.550000</td>\n",
       "      <td>187.900000</td>\n",
       "      <td>3.342000</td>\n",
       "      <td>17.200000</td>\n",
       "      <td>24.000000</td>\n",
       "    </tr>\n",
       "    <tr>\n",
       "      <td>75%</td>\n",
       "      <td>67.956000</td>\n",
       "      <td>19.875000</td>\n",
       "      <td>31.947500</td>\n",
       "      <td>3.575000</td>\n",
       "      <td>215.000000</td>\n",
       "      <td>112.200000</td>\n",
       "      <td>73.425000</td>\n",
       "      <td>196.125000</td>\n",
       "      <td>3.799500</td>\n",
       "      <td>19.575000</td>\n",
       "      <td>26.000000</td>\n",
       "    </tr>\n",
       "    <tr>\n",
       "      <td>max</td>\n",
       "      <td>540.561000</td>\n",
       "      <td>67.550000</td>\n",
       "      <td>85.500000</td>\n",
       "      <td>8.000000</td>\n",
       "      <td>450.000000</td>\n",
       "      <td>138.700000</td>\n",
       "      <td>79.900000</td>\n",
       "      <td>224.500000</td>\n",
       "      <td>5.572000</td>\n",
       "      <td>32.000000</td>\n",
       "      <td>45.000000</td>\n",
       "    </tr>\n",
       "  </tbody>\n",
       "</table>\n",
       "</div>"
      ],
      "text/plain": [
       "       Sales_in_thousands  __year_resale_value  Price_in_thousands  \\\n",
       "count          157.000000           121.000000          155.000000   \n",
       "mean            52.998076            18.072975           27.390755   \n",
       "std             68.029422            11.453384           14.351653   \n",
       "min              0.110000             5.160000            9.235000   \n",
       "25%             14.114000            11.260000           18.017500   \n",
       "50%             29.450000            14.180000           22.799000   \n",
       "75%             67.956000            19.875000           31.947500   \n",
       "max            540.561000            67.550000           85.500000   \n",
       "\n",
       "       Engine_size  Horsepower   Wheelbase       Width      Length  \\\n",
       "count   156.000000  156.000000  156.000000  156.000000  156.000000   \n",
       "mean      3.060897  185.948718  107.487179   71.150000  187.343590   \n",
       "std       1.044653   56.700321    7.641303    3.451872   13.431754   \n",
       "min       1.000000   55.000000   92.600000   62.600000  149.400000   \n",
       "25%       2.300000  149.500000  103.000000   68.400000  177.575000   \n",
       "50%       3.000000  177.500000  107.000000   70.550000  187.900000   \n",
       "75%       3.575000  215.000000  112.200000   73.425000  196.125000   \n",
       "max       8.000000  450.000000  138.700000   79.900000  224.500000   \n",
       "\n",
       "       Curb_weight  Fuel_capacity  Fuel_efficiency  \n",
       "count   155.000000     156.000000       154.000000  \n",
       "mean      3.378026      17.951923        23.844156  \n",
       "std       0.630502       3.887921         4.282706  \n",
       "min       1.895000      10.300000        15.000000  \n",
       "25%       2.971000      15.800000        21.000000  \n",
       "50%       3.342000      17.200000        24.000000  \n",
       "75%       3.799500      19.575000        26.000000  \n",
       "max       5.572000      32.000000        45.000000  "
      ]
     },
     "execution_count": 43,
     "metadata": {},
     "output_type": "execute_result"
    }
   ],
   "source": [
    "df1.describe()"
   ]
  },
  {
   "cell_type": "code",
   "execution_count": 44,
   "metadata": {},
   "outputs": [
    {
     "data": {
      "text/plain": [
       "Sales_in_thousands    0\n",
       "Vehicle_type          0\n",
       "Price_in_thousands    2\n",
       "Engine_size           1\n",
       "Horsepower            1\n",
       "Wheelbase             1\n",
       "Width                 1\n",
       "Length                1\n",
       "Curb_weight           2\n",
       "Fuel_capacity         1\n",
       "Fuel_efficiency       3\n",
       "dtype: int64"
      ]
     },
     "execution_count": 44,
     "metadata": {},
     "output_type": "execute_result"
    }
   ],
   "source": [
    "df2.isnull().sum()"
   ]
  },
  {
   "cell_type": "code",
   "execution_count": 35,
   "metadata": {},
   "outputs": [],
   "source": [
    "# help(df2.fillna)"
   ]
  },
  {
   "cell_type": "code",
   "execution_count": 45,
   "metadata": {},
   "outputs": [],
   "source": [
    "d3=df2.fillna(0)  # Filling missing vaalue as \"0\""
   ]
  },
  {
   "cell_type": "code",
   "execution_count": 46,
   "metadata": {},
   "outputs": [
    {
     "data": {
      "text/plain": [
       "Sales_in_thousands    0\n",
       "Vehicle_type          0\n",
       "Price_in_thousands    0\n",
       "Engine_size           0\n",
       "Horsepower            0\n",
       "Wheelbase             0\n",
       "Width                 0\n",
       "Length                0\n",
       "Curb_weight           0\n",
       "Fuel_capacity         0\n",
       "Fuel_efficiency       0\n",
       "dtype: int64"
      ]
     },
     "execution_count": 46,
     "metadata": {},
     "output_type": "execute_result"
    }
   ],
   "source": [
    "d3.isnull().sum()"
   ]
  },
  {
   "cell_type": "code",
   "execution_count": 47,
   "metadata": {},
   "outputs": [
    {
     "data": {
      "text/plain": [
       "Sales_in_thousands    0\n",
       "Vehicle_type          0\n",
       "Price_in_thousands    2\n",
       "Engine_size           1\n",
       "Horsepower            1\n",
       "Wheelbase             1\n",
       "Width                 1\n",
       "Length                1\n",
       "Curb_weight           2\n",
       "Fuel_capacity         1\n",
       "Fuel_efficiency       3\n",
       "dtype: int64"
      ]
     },
     "execution_count": 47,
     "metadata": {},
     "output_type": "execute_result"
    }
   ],
   "source": [
    "df2.isnull().sum()"
   ]
  },
  {
   "cell_type": "code",
   "execution_count": 27,
   "metadata": {},
   "outputs": [
    {
     "data": {
      "text/plain": [
       "(157, 11)"
      ]
     },
     "execution_count": 27,
     "metadata": {},
     "output_type": "execute_result"
    }
   ],
   "source": [
    "df2.shape"
   ]
  },
  {
   "cell_type": "code",
   "execution_count": 48,
   "metadata": {},
   "outputs": [],
   "source": [
    "df3=df2.dropna()  # Dropping the missing values "
   ]
  },
  {
   "cell_type": "code",
   "execution_count": 49,
   "metadata": {},
   "outputs": [
    {
     "data": {
      "text/plain": [
       "(152, 11)"
      ]
     },
     "execution_count": 49,
     "metadata": {},
     "output_type": "execute_result"
    }
   ],
   "source": [
    "df3.shape"
   ]
  },
  {
   "cell_type": "code",
   "execution_count": 50,
   "metadata": {},
   "outputs": [
    {
     "data": {
      "text/plain": [
       "Sales_in_thousands    0\n",
       "Vehicle_type          0\n",
       "Price_in_thousands    0\n",
       "Engine_size           0\n",
       "Horsepower            0\n",
       "Wheelbase             0\n",
       "Width                 0\n",
       "Length                0\n",
       "Curb_weight           0\n",
       "Fuel_capacity         0\n",
       "Fuel_efficiency       0\n",
       "dtype: int64"
      ]
     },
     "execution_count": 50,
     "metadata": {},
     "output_type": "execute_result"
    }
   ],
   "source": [
    "df3.isnull().sum()"
   ]
  },
  {
   "cell_type": "markdown",
   "metadata": {},
   "source": [
    "## Multivariate Analysis"
   ]
  },
  {
   "cell_type": "code",
   "execution_count": 51,
   "metadata": {},
   "outputs": [],
   "source": [
    "corr_data=df3.corr()"
   ]
  },
  {
   "cell_type": "code",
   "execution_count": 52,
   "metadata": {},
   "outputs": [],
   "source": [
    "corr_data.to_csv(\"Corr.csv\")"
   ]
  },
  {
   "cell_type": "code",
   "execution_count": 53,
   "metadata": {},
   "outputs": [
    {
     "data": {
      "image/png": "[encoded data removed]",
      "text/plain": [
       "<Figure size 720x720 with 2 Axes>"
      ]
     },
     "metadata": {
      "needs_background": "light"
     },
     "output_type": "display_data"
    }
   ],
   "source": [
    "import seaborn as sns\n",
    "f,ax=plt.subplots(figsize=(10,10))\n",
    "sns.heatmap(corr_data, ax=ax,cmap=\"gist_rainbow\", linewidths=0.1)\n",
    "plt.show()"
   ]
  },
  {
   "cell_type": "code",
   "execution_count": 54,
   "metadata": {},
   "outputs": [
    {
     "data": {
      "text/html": [
       "<style  type=\"text/css\" >\n",
       "    #T_cb0c08e2_2bc0_11eb_ac0d_acd1b8a5e586row0_col0 {\n",
       "            background-color:  #b40426;\n",
       "            color:  #f1f1f1;\n",
       "        }    #T_cb0c08e2_2bc0_11eb_ac0d_acd1b8a5e586row0_col1 {\n",
       "            background-color:  #3b4cc0;\n",
       "            color:  #f1f1f1;\n",
       "        }    #T_cb0c08e2_2bc0_11eb_ac0d_acd1b8a5e586row0_col2 {\n",
       "            background-color:  #82a6fb;\n",
       "            color:  #000000;\n",
       "        }    #T_cb0c08e2_2bc0_11eb_ac0d_acd1b8a5e586row0_col3 {\n",
       "            background-color:  #9abbff;\n",
       "            color:  #000000;\n",
       "        }    #T_cb0c08e2_2bc0_11eb_ac0d_acd1b8a5e586row0_col4 {\n",
       "            background-color:  #dfdbd9;\n",
       "            color:  #000000;\n",
       "        }    #T_cb0c08e2_2bc0_11eb_ac0d_acd1b8a5e586row0_col5 {\n",
       "            background-color:  #d9dce1;\n",
       "            color:  #000000;\n",
       "        }    #T_cb0c08e2_2bc0_11eb_ac0d_acd1b8a5e586row0_col6 {\n",
       "            background-color:  #dfdbd9;\n",
       "            color:  #000000;\n",
       "        }    #T_cb0c08e2_2bc0_11eb_ac0d_acd1b8a5e586row0_col7 {\n",
       "            background-color:  #7ea1fa;\n",
       "            color:  #000000;\n",
       "        }    #T_cb0c08e2_2bc0_11eb_ac0d_acd1b8a5e586row0_col8 {\n",
       "            background-color:  #3b4cc0;\n",
       "            color:  #f1f1f1;\n",
       "        }    #T_cb0c08e2_2bc0_11eb_ac0d_acd1b8a5e586row0_col9 {\n",
       "            background-color:  #b7cff9;\n",
       "            color:  #000000;\n",
       "        }    #T_cb0c08e2_2bc0_11eb_ac0d_acd1b8a5e586row1_col0 {\n",
       "            background-color:  #3b4cc0;\n",
       "            color:  #f1f1f1;\n",
       "        }    #T_cb0c08e2_2bc0_11eb_ac0d_acd1b8a5e586row1_col1 {\n",
       "            background-color:  #b40426;\n",
       "            color:  #f1f1f1;\n",
       "        }    #T_cb0c08e2_2bc0_11eb_ac0d_acd1b8a5e586row1_col2 {\n",
       "            background-color:  #aac7fd;\n",
       "            color:  #000000;\n",
       "        }    #T_cb0c08e2_2bc0_11eb_ac0d_acd1b8a5e586row1_col3 {\n",
       "            background-color:  #de614d;\n",
       "            color:  #000000;\n",
       "        }    #T_cb0c08e2_2bc0_11eb_ac0d_acd1b8a5e586row1_col4 {\n",
       "            background-color:  #f7ad90;\n",
       "            color:  #000000;\n",
       "        }    #T_cb0c08e2_2bc0_11eb_ac0d_acd1b8a5e586row1_col5 {\n",
       "            background-color:  #f7af91;\n",
       "            color:  #000000;\n",
       "        }    #T_cb0c08e2_2bc0_11eb_ac0d_acd1b8a5e586row1_col6 {\n",
       "            background-color:  #f7af91;\n",
       "            color:  #000000;\n",
       "        }    #T_cb0c08e2_2bc0_11eb_ac0d_acd1b8a5e586row1_col7 {\n",
       "            background-color:  #a6c4fe;\n",
       "            color:  #000000;\n",
       "        }    #T_cb0c08e2_2bc0_11eb_ac0d_acd1b8a5e586row1_col8 {\n",
       "            background-color:  #f2c9b4;\n",
       "            color:  #000000;\n",
       "        }    #T_cb0c08e2_2bc0_11eb_ac0d_acd1b8a5e586row1_col9 {\n",
       "            background-color:  #c3d5f4;\n",
       "            color:  #000000;\n",
       "        }    #T_cb0c08e2_2bc0_11eb_ac0d_acd1b8a5e586row2_col0 {\n",
       "            background-color:  #455cce;\n",
       "            color:  #f1f1f1;\n",
       "        }    #T_cb0c08e2_2bc0_11eb_ac0d_acd1b8a5e586row2_col1 {\n",
       "            background-color:  #7295f4;\n",
       "            color:  #000000;\n",
       "        }    #T_cb0c08e2_2bc0_11eb_ac0d_acd1b8a5e586row2_col2 {\n",
       "            background-color:  #b40426;\n",
       "            color:  #f1f1f1;\n",
       "        }    #T_cb0c08e2_2bc0_11eb_ac0d_acd1b8a5e586row2_col3 {\n",
       "            background-color:  #3e51c5;\n",
       "            color:  #f1f1f1;\n",
       "        }    #T_cb0c08e2_2bc0_11eb_ac0d_acd1b8a5e586row2_col4 {\n",
       "            background-color:  #3b4cc0;\n",
       "            color:  #f1f1f1;\n",
       "        }    #T_cb0c08e2_2bc0_11eb_ac0d_acd1b8a5e586row2_col5 {\n",
       "            background-color:  #3b4cc0;\n",
       "            color:  #f1f1f1;\n",
       "        }    #T_cb0c08e2_2bc0_11eb_ac0d_acd1b8a5e586row2_col6 {\n",
       "            background-color:  #3b4cc0;\n",
       "            color:  #f1f1f1;\n",
       "        }    #T_cb0c08e2_2bc0_11eb_ac0d_acd1b8a5e586row2_col7 {\n",
       "            background-color:  #b50927;\n",
       "            color:  #f1f1f1;\n",
       "        }    #T_cb0c08e2_2bc0_11eb_ac0d_acd1b8a5e586row2_col8 {\n",
       "            background-color:  #3c4ec2;\n",
       "            color:  #f1f1f1;\n",
       "        }    #T_cb0c08e2_2bc0_11eb_ac0d_acd1b8a5e586row2_col9 {\n",
       "            background-color:  #3b4cc0;\n",
       "            color:  #f1f1f1;\n",
       "        }    #T_cb0c08e2_2bc0_11eb_ac0d_acd1b8a5e586row3_col0 {\n",
       "            background-color:  #7da0f9;\n",
       "            color:  #000000;\n",
       "        }    #T_cb0c08e2_2bc0_11eb_ac0d_acd1b8a5e586row3_col1 {\n",
       "            background-color:  #e26952;\n",
       "            color:  #000000;\n",
       "        }    #T_cb0c08e2_2bc0_11eb_ac0d_acd1b8a5e586row3_col2 {\n",
       "            background-color:  #5b7ae5;\n",
       "            color:  #000000;\n",
       "        }    #T_cb0c08e2_2bc0_11eb_ac0d_acd1b8a5e586row3_col3 {\n",
       "            background-color:  #b40426;\n",
       "            color:  #f1f1f1;\n",
       "        }    #T_cb0c08e2_2bc0_11eb_ac0d_acd1b8a5e586row3_col4 {\n",
       "            background-color:  #d85646;\n",
       "            color:  #000000;\n",
       "        }    #T_cb0c08e2_2bc0_11eb_ac0d_acd1b8a5e586row3_col5 {\n",
       "            background-color:  #da5a49;\n",
       "            color:  #000000;\n",
       "        }    #T_cb0c08e2_2bc0_11eb_ac0d_acd1b8a5e586row3_col6 {\n",
       "            background-color:  #d75445;\n",
       "            color:  #000000;\n",
       "        }    #T_cb0c08e2_2bc0_11eb_ac0d_acd1b8a5e586row3_col7 {\n",
       "            background-color:  #5470de;\n",
       "            color:  #000000;\n",
       "        }    #T_cb0c08e2_2bc0_11eb_ac0d_acd1b8a5e586row3_col8 {\n",
       "            background-color:  #f5c0a7;\n",
       "            color:  #000000;\n",
       "        }    #T_cb0c08e2_2bc0_11eb_ac0d_acd1b8a5e586row3_col9 {\n",
       "            background-color:  #ead4c8;\n",
       "            color:  #000000;\n",
       "        }    #T_cb0c08e2_2bc0_11eb_ac0d_acd1b8a5e586row4_col0 {\n",
       "            background-color:  #c1d4f4;\n",
       "            color:  #000000;\n",
       "        }    #T_cb0c08e2_2bc0_11eb_ac0d_acd1b8a5e586row4_col1 {\n",
       "            background-color:  #f5c1a9;\n",
       "            color:  #000000;\n",
       "        }    #T_cb0c08e2_2bc0_11eb_ac0d_acd1b8a5e586row4_col2 {\n",
       "            background-color:  #3f53c6;\n",
       "            color:  #f1f1f1;\n",
       "        }    #T_cb0c08e2_2bc0_11eb_ac0d_acd1b8a5e586row4_col3 {\n",
       "            background-color:  #dc5d4a;\n",
       "            color:  #000000;\n",
       "        }    #T_cb0c08e2_2bc0_11eb_ac0d_acd1b8a5e586row4_col4 {\n",
       "            background-color:  #b40426;\n",
       "            color:  #f1f1f1;\n",
       "        }    #T_cb0c08e2_2bc0_11eb_ac0d_acd1b8a5e586row4_col5 {\n",
       "            background-color:  #b50927;\n",
       "            color:  #f1f1f1;\n",
       "        }    #T_cb0c08e2_2bc0_11eb_ac0d_acd1b8a5e586row4_col6 {\n",
       "            background-color:  #b50927;\n",
       "            color:  #f1f1f1;\n",
       "        }    #T_cb0c08e2_2bc0_11eb_ac0d_acd1b8a5e586row4_col7 {\n",
       "            background-color:  #4055c8;\n",
       "            color:  #f1f1f1;\n",
       "        }    #T_cb0c08e2_2bc0_11eb_ac0d_acd1b8a5e586row4_col8 {\n",
       "            background-color:  #f6bea4;\n",
       "            color:  #000000;\n",
       "        }    #T_cb0c08e2_2bc0_11eb_ac0d_acd1b8a5e586row4_col9 {\n",
       "            background-color:  #ec7f63;\n",
       "            color:  #000000;\n",
       "        }    #T_cb0c08e2_2bc0_11eb_ac0d_acd1b8a5e586row5_col0 {\n",
       "            background-color:  #bfd3f6;\n",
       "            color:  #000000;\n",
       "        }    #T_cb0c08e2_2bc0_11eb_ac0d_acd1b8a5e586row5_col1 {\n",
       "            background-color:  #f5c0a7;\n",
       "            color:  #000000;\n",
       "        }    #T_cb0c08e2_2bc0_11eb_ac0d_acd1b8a5e586row5_col2 {\n",
       "            background-color:  #485fd1;\n",
       "            color:  #f1f1f1;\n",
       "        }    #T_cb0c08e2_2bc0_11eb_ac0d_acd1b8a5e586row5_col3 {\n",
       "            background-color:  #dd5f4b;\n",
       "            color:  #000000;\n",
       "        }    #T_cb0c08e2_2bc0_11eb_ac0d_acd1b8a5e586row5_col4 {\n",
       "            background-color:  #b50927;\n",
       "            color:  #f1f1f1;\n",
       "        }    #T_cb0c08e2_2bc0_11eb_ac0d_acd1b8a5e586row5_col5 {\n",
       "            background-color:  #b40426;\n",
       "            color:  #f1f1f1;\n",
       "        }    #T_cb0c08e2_2bc0_11eb_ac0d_acd1b8a5e586row5_col6 {\n",
       "            background-color:  #b70d28;\n",
       "            color:  #f1f1f1;\n",
       "        }    #T_cb0c08e2_2bc0_11eb_ac0d_acd1b8a5e586row5_col7 {\n",
       "            background-color:  #4961d2;\n",
       "            color:  #f1f1f1;\n",
       "        }    #T_cb0c08e2_2bc0_11eb_ac0d_acd1b8a5e586row5_col8 {\n",
       "            background-color:  #f7bca1;\n",
       "            color:  #000000;\n",
       "        }    #T_cb0c08e2_2bc0_11eb_ac0d_acd1b8a5e586row5_col9 {\n",
       "            background-color:  #e7745b;\n",
       "            color:  #000000;\n",
       "        }    #T_cb0c08e2_2bc0_11eb_ac0d_acd1b8a5e586row6_col0 {\n",
       "            background-color:  #bed2f6;\n",
       "            color:  #000000;\n",
       "        }    #T_cb0c08e2_2bc0_11eb_ac0d_acd1b8a5e586row6_col1 {\n",
       "            background-color:  #f4c5ad;\n",
       "            color:  #000000;\n",
       "        }    #T_cb0c08e2_2bc0_11eb_ac0d_acd1b8a5e586row6_col2 {\n",
       "            background-color:  #3b4cc0;\n",
       "            color:  #f1f1f1;\n",
       "        }    #T_cb0c08e2_2bc0_11eb_ac0d_acd1b8a5e586row6_col3 {\n",
       "            background-color:  #da5a49;\n",
       "            color:  #000000;\n",
       "        }    #T_cb0c08e2_2bc0_11eb_ac0d_acd1b8a5e586row6_col4 {\n",
       "            background-color:  #b50927;\n",
       "            color:  #f1f1f1;\n",
       "        }    #T_cb0c08e2_2bc0_11eb_ac0d_acd1b8a5e586row6_col5 {\n",
       "            background-color:  #b70d28;\n",
       "            color:  #f1f1f1;\n",
       "        }    #T_cb0c08e2_2bc0_11eb_ac0d_acd1b8a5e586row6_col6 {\n",
       "            background-color:  #b40426;\n",
       "            color:  #f1f1f1;\n",
       "        }    #T_cb0c08e2_2bc0_11eb_ac0d_acd1b8a5e586row6_col7 {\n",
       "            background-color:  #3b4cc0;\n",
       "            color:  #f1f1f1;\n",
       "        }    #T_cb0c08e2_2bc0_11eb_ac0d_acd1b8a5e586row6_col8 {\n",
       "            background-color:  #f3c7b1;\n",
       "            color:  #000000;\n",
       "        }    #T_cb0c08e2_2bc0_11eb_ac0d_acd1b8a5e586row6_col9 {\n",
       "            background-color:  #ee8468;\n",
       "            color:  #000000;\n",
       "        }    #T_cb0c08e2_2bc0_11eb_ac0d_acd1b8a5e586row7_col0 {\n",
       "            background-color:  #445acc;\n",
       "            color:  #f1f1f1;\n",
       "        }    #T_cb0c08e2_2bc0_11eb_ac0d_acd1b8a5e586row7_col1 {\n",
       "            background-color:  #7093f3;\n",
       "            color:  #000000;\n",
       "        }    #T_cb0c08e2_2bc0_11eb_ac0d_acd1b8a5e586row7_col2 {\n",
       "            background-color:  #b50927;\n",
       "            color:  #f1f1f1;\n",
       "        }    #T_cb0c08e2_2bc0_11eb_ac0d_acd1b8a5e586row7_col3 {\n",
       "            background-color:  #3b4cc0;\n",
       "            color:  #f1f1f1;\n",
       "        }    #T_cb0c08e2_2bc0_11eb_ac0d_acd1b8a5e586row7_col4 {\n",
       "            background-color:  #3f53c6;\n",
       "            color:  #f1f1f1;\n",
       "        }    #T_cb0c08e2_2bc0_11eb_ac0d_acd1b8a5e586row7_col5 {\n",
       "            background-color:  #3f53c6;\n",
       "            color:  #f1f1f1;\n",
       "        }    #T_cb0c08e2_2bc0_11eb_ac0d_acd1b8a5e586row7_col6 {\n",
       "            background-color:  #3e51c5;\n",
       "            color:  #f1f1f1;\n",
       "        }    #T_cb0c08e2_2bc0_11eb_ac0d_acd1b8a5e586row7_col7 {\n",
       "            background-color:  #b40426;\n",
       "            color:  #f1f1f1;\n",
       "        }    #T_cb0c08e2_2bc0_11eb_ac0d_acd1b8a5e586row7_col8 {\n",
       "            background-color:  #455cce;\n",
       "            color:  #f1f1f1;\n",
       "        }    #T_cb0c08e2_2bc0_11eb_ac0d_acd1b8a5e586row7_col9 {\n",
       "            background-color:  #4961d2;\n",
       "            color:  #f1f1f1;\n",
       "        }    #T_cb0c08e2_2bc0_11eb_ac0d_acd1b8a5e586row8_col0 {\n",
       "            background-color:  #a7c5fe;\n",
       "            color:  #000000;\n",
       "        }    #T_cb0c08e2_2bc0_11eb_ac0d_acd1b8a5e586row8_col1 {\n",
       "            background-color:  #f59f80;\n",
       "            color:  #000000;\n",
       "        }    #T_cb0c08e2_2bc0_11eb_ac0d_acd1b8a5e586row8_col2 {\n",
       "            background-color:  #d2dbe8;\n",
       "            color:  #000000;\n",
       "        }    #T_cb0c08e2_2bc0_11eb_ac0d_acd1b8a5e586row8_col3 {\n",
       "            background-color:  #f08b6e;\n",
       "            color:  #000000;\n",
       "        }    #T_cb0c08e2_2bc0_11eb_ac0d_acd1b8a5e586row8_col4 {\n",
       "            background-color:  #ed8366;\n",
       "            color:  #000000;\n",
       "        }    #T_cb0c08e2_2bc0_11eb_ac0d_acd1b8a5e586row8_col5 {\n",
       "            background-color:  #ed8366;\n",
       "            color:  #000000;\n",
       "        }    #T_cb0c08e2_2bc0_11eb_ac0d_acd1b8a5e586row8_col6 {\n",
       "            background-color:  #ef886b;\n",
       "            color:  #000000;\n",
       "        }    #T_cb0c08e2_2bc0_11eb_ac0d_acd1b8a5e586row8_col7 {\n",
       "            background-color:  #d4dbe6;\n",
       "            color:  #000000;\n",
       "        }    #T_cb0c08e2_2bc0_11eb_ac0d_acd1b8a5e586row8_col8 {\n",
       "            background-color:  #b40426;\n",
       "            color:  #f1f1f1;\n",
       "        }    #T_cb0c08e2_2bc0_11eb_ac0d_acd1b8a5e586row8_col9 {\n",
       "            background-color:  #f1cdba;\n",
       "            color:  #000000;\n",
       "        }    #T_cb0c08e2_2bc0_11eb_ac0d_acd1b8a5e586row9_col0 {\n",
       "            background-color:  #bbd1f8;\n",
       "            color:  #000000;\n",
       "        }    #T_cb0c08e2_2bc0_11eb_ac0d_acd1b8a5e586row9_col1 {\n",
       "            background-color:  #c5d6f2;\n",
       "            color:  #000000;\n",
       "        }    #T_cb0c08e2_2bc0_11eb_ac0d_acd1b8a5e586row9_col2 {\n",
       "            background-color:  #7da0f9;\n",
       "            color:  #000000;\n",
       "        }    #T_cb0c08e2_2bc0_11eb_ac0d_acd1b8a5e586row9_col3 {\n",
       "            background-color:  #f3c8b2;\n",
       "            color:  #000000;\n",
       "        }    #T_cb0c08e2_2bc0_11eb_ac0d_acd1b8a5e586row9_col4 {\n",
       "            background-color:  #e46e56;\n",
       "            color:  #000000;\n",
       "        }    #T_cb0c08e2_2bc0_11eb_ac0d_acd1b8a5e586row9_col5 {\n",
       "            background-color:  #e16751;\n",
       "            color:  #000000;\n",
       "        }    #T_cb0c08e2_2bc0_11eb_ac0d_acd1b8a5e586row9_col6 {\n",
       "            background-color:  #e57058;\n",
       "            color:  #000000;\n",
       "        }    #T_cb0c08e2_2bc0_11eb_ac0d_acd1b8a5e586row9_col7 {\n",
       "            background-color:  #86a9fc;\n",
       "            color:  #000000;\n",
       "        }    #T_cb0c08e2_2bc0_11eb_ac0d_acd1b8a5e586row9_col8 {\n",
       "            background-color:  #c1d4f4;\n",
       "            color:  #000000;\n",
       "        }    #T_cb0c08e2_2bc0_11eb_ac0d_acd1b8a5e586row9_col9 {\n",
       "            background-color:  #b40426;\n",
       "            color:  #f1f1f1;\n",
       "        }</style><table id=\"T_cb0c08e2_2bc0_11eb_ac0d_acd1b8a5e586\" ><thead>    <tr>        <th class=\"blank level0\" ></th>        <th class=\"col_heading level0 col0\" >Sales_in_thousands</th>        <th class=\"col_heading level0 col1\" >Price_in_thousands</th>        <th class=\"col_heading level0 col2\" >Engine_size</th>        <th class=\"col_heading level0 col3\" >Horsepower</th>        <th class=\"col_heading level0 col4\" >Wheelbase</th>        <th class=\"col_heading level0 col5\" >Width</th>        <th class=\"col_heading level0 col6\" >Length</th>        <th class=\"col_heading level0 col7\" >Curb_weight</th>        <th class=\"col_heading level0 col8\" >Fuel_capacity</th>        <th class=\"col_heading level0 col9\" >Fuel_efficiency</th>    </tr></thead><tbody>\n",
       "                <tr>\n",
       "                        <th id=\"T_cb0c08e2_2bc0_11eb_ac0d_acd1b8a5e586level0_row0\" class=\"row_heading level0 row0\" >Sales_in_thousands</th>\n",
       "                        <td id=\"T_cb0c08e2_2bc0_11eb_ac0d_acd1b8a5e586row0_col0\" class=\"data row0 col0\" >1</td>\n",
       "                        <td id=\"T_cb0c08e2_2bc0_11eb_ac0d_acd1b8a5e586row0_col1\" class=\"data row0 col1\" >-0.125</td>\n",
       "                        <td id=\"T_cb0c08e2_2bc0_11eb_ac0d_acd1b8a5e586row0_col2\" class=\"data row0 col2\" >-0.0845</td>\n",
       "                        <td id=\"T_cb0c08e2_2bc0_11eb_ac0d_acd1b8a5e586row0_col3\" class=\"data row0 col3\" >0.104</td>\n",
       "                        <td id=\"T_cb0c08e2_2bc0_11eb_ac0d_acd1b8a5e586row0_col4\" class=\"data row0 col4\" >0.331</td>\n",
       "                        <td id=\"T_cb0c08e2_2bc0_11eb_ac0d_acd1b8a5e586row0_col5\" class=\"data row0 col5\" >0.319</td>\n",
       "                        <td id=\"T_cb0c08e2_2bc0_11eb_ac0d_acd1b8a5e586row0_col6\" class=\"data row0 col6\" >0.319</td>\n",
       "                        <td id=\"T_cb0c08e2_2bc0_11eb_ac0d_acd1b8a5e586row0_col7\" class=\"data row0 col7\" >-0.0874</td>\n",
       "                        <td id=\"T_cb0c08e2_2bc0_11eb_ac0d_acd1b8a5e586row0_col8\" class=\"data row0 col8\" >0.241</td>\n",
       "                        <td id=\"T_cb0c08e2_2bc0_11eb_ac0d_acd1b8a5e586row0_col9\" class=\"data row0 col9\" >0.306</td>\n",
       "            </tr>\n",
       "            <tr>\n",
       "                        <th id=\"T_cb0c08e2_2bc0_11eb_ac0d_acd1b8a5e586level0_row1\" class=\"row_heading level0 row1\" >Price_in_thousands</th>\n",
       "                        <td id=\"T_cb0c08e2_2bc0_11eb_ac0d_acd1b8a5e586row1_col0\" class=\"data row1 col0\" >-0.125</td>\n",
       "                        <td id=\"T_cb0c08e2_2bc0_11eb_ac0d_acd1b8a5e586row1_col1\" class=\"data row1 col1\" >1</td>\n",
       "                        <td id=\"T_cb0c08e2_2bc0_11eb_ac0d_acd1b8a5e586row1_col2\" class=\"data row1 col2\" >0.0693</td>\n",
       "                        <td id=\"T_cb0c08e2_2bc0_11eb_ac0d_acd1b8a5e586row1_col3\" class=\"data row1 col3\" >0.84</td>\n",
       "                        <td id=\"T_cb0c08e2_2bc0_11eb_ac0d_acd1b8a5e586row1_col4\" class=\"data row1 col4\" >0.588</td>\n",
       "                        <td id=\"T_cb0c08e2_2bc0_11eb_ac0d_acd1b8a5e586row1_col5\" class=\"data row1 col5\" >0.593</td>\n",
       "                        <td id=\"T_cb0c08e2_2bc0_11eb_ac0d_acd1b8a5e586row1_col6\" class=\"data row1 col6\" >0.575</td>\n",
       "                        <td id=\"T_cb0c08e2_2bc0_11eb_ac0d_acd1b8a5e586row1_col7\" class=\"data row1 col7\" >0.0664</td>\n",
       "                        <td id=\"T_cb0c08e2_2bc0_11eb_ac0d_acd1b8a5e586row1_col8\" class=\"data row1 col8\" >0.703</td>\n",
       "                        <td id=\"T_cb0c08e2_2bc0_11eb_ac0d_acd1b8a5e586row1_col9\" class=\"data row1 col9\" >0.343</td>\n",
       "            </tr>\n",
       "            <tr>\n",
       "                        <th id=\"T_cb0c08e2_2bc0_11eb_ac0d_acd1b8a5e586level0_row2\" class=\"row_heading level0 row2\" >Engine_size</th>\n",
       "                        <td id=\"T_cb0c08e2_2bc0_11eb_ac0d_acd1b8a5e586row2_col0\" class=\"data row2 col0\" >-0.0845</td>\n",
       "                        <td id=\"T_cb0c08e2_2bc0_11eb_ac0d_acd1b8a5e586row2_col1\" class=\"data row2 col1\" >0.0693</td>\n",
       "                        <td id=\"T_cb0c08e2_2bc0_11eb_ac0d_acd1b8a5e586row2_col2\" class=\"data row2 col2\" >1</td>\n",
       "                        <td id=\"T_cb0c08e2_2bc0_11eb_ac0d_acd1b8a5e586row2_col3\" class=\"data row2 col3\" >-0.243</td>\n",
       "                        <td id=\"T_cb0c08e2_2bc0_11eb_ac0d_acd1b8a5e586row2_col4\" class=\"data row2 col4\" >-0.368</td>\n",
       "                        <td id=\"T_cb0c08e2_2bc0_11eb_ac0d_acd1b8a5e586row2_col5\" class=\"data row2 col5\" >-0.33</td>\n",
       "                        <td id=\"T_cb0c08e2_2bc0_11eb_ac0d_acd1b8a5e586row2_col6\" class=\"data row2 col6\" >-0.394</td>\n",
       "                        <td id=\"T_cb0c08e2_2bc0_11eb_ac0d_acd1b8a5e586row2_col7\" class=\"data row2 col7\" >0.99</td>\n",
       "                        <td id=\"T_cb0c08e2_2bc0_11eb_ac0d_acd1b8a5e586row2_col8\" class=\"data row2 col8\" >0.246</td>\n",
       "                        <td id=\"T_cb0c08e2_2bc0_11eb_ac0d_acd1b8a5e586row2_col9\" class=\"data row2 col9\" >-0.109</td>\n",
       "            </tr>\n",
       "            <tr>\n",
       "                        <th id=\"T_cb0c08e2_2bc0_11eb_ac0d_acd1b8a5e586level0_row3\" class=\"row_heading level0 row3\" >Horsepower</th>\n",
       "                        <td id=\"T_cb0c08e2_2bc0_11eb_ac0d_acd1b8a5e586row3_col0\" class=\"data row3 col0\" >0.104</td>\n",
       "                        <td id=\"T_cb0c08e2_2bc0_11eb_ac0d_acd1b8a5e586row3_col1\" class=\"data row3 col1\" >0.84</td>\n",
       "                        <td id=\"T_cb0c08e2_2bc0_11eb_ac0d_acd1b8a5e586row3_col2\" class=\"data row3 col2\" >-0.243</td>\n",
       "                        <td id=\"T_cb0c08e2_2bc0_11eb_ac0d_acd1b8a5e586row3_col3\" class=\"data row3 col3\" >1</td>\n",
       "                        <td id=\"T_cb0c08e2_2bc0_11eb_ac0d_acd1b8a5e586row3_col4\" class=\"data row3 col4\" >0.85</td>\n",
       "                        <td id=\"T_cb0c08e2_2bc0_11eb_ac0d_acd1b8a5e586row3_col5\" class=\"data row3 col5\" >0.845</td>\n",
       "                        <td id=\"T_cb0c08e2_2bc0_11eb_ac0d_acd1b8a5e586row3_col6\" class=\"data row3 col6\" >0.857</td>\n",
       "                        <td id=\"T_cb0c08e2_2bc0_11eb_ac0d_acd1b8a5e586row3_col7\" class=\"data row3 col7\" >-0.259</td>\n",
       "                        <td id=\"T_cb0c08e2_2bc0_11eb_ac0d_acd1b8a5e586row3_col8\" class=\"data row3 col8\" >0.727</td>\n",
       "                        <td id=\"T_cb0c08e2_2bc0_11eb_ac0d_acd1b8a5e586row3_col9\" class=\"data row3 col9\" >0.51</td>\n",
       "            </tr>\n",
       "            <tr>\n",
       "                        <th id=\"T_cb0c08e2_2bc0_11eb_ac0d_acd1b8a5e586level0_row4\" class=\"row_heading level0 row4\" >Wheelbase</th>\n",
       "                        <td id=\"T_cb0c08e2_2bc0_11eb_ac0d_acd1b8a5e586row4_col0\" class=\"data row4 col0\" >0.331</td>\n",
       "                        <td id=\"T_cb0c08e2_2bc0_11eb_ac0d_acd1b8a5e586row4_col1\" class=\"data row4 col1\" >0.588</td>\n",
       "                        <td id=\"T_cb0c08e2_2bc0_11eb_ac0d_acd1b8a5e586row4_col2\" class=\"data row4 col2\" >-0.368</td>\n",
       "                        <td id=\"T_cb0c08e2_2bc0_11eb_ac0d_acd1b8a5e586row4_col3\" class=\"data row4 col3\" >0.85</td>\n",
       "                        <td id=\"T_cb0c08e2_2bc0_11eb_ac0d_acd1b8a5e586row4_col4\" class=\"data row4 col4\" >1</td>\n",
       "                        <td id=\"T_cb0c08e2_2bc0_11eb_ac0d_acd1b8a5e586row4_col5\" class=\"data row4 col5\" >0.992</td>\n",
       "                        <td id=\"T_cb0c08e2_2bc0_11eb_ac0d_acd1b8a5e586row4_col6\" class=\"data row4 col6\" >0.993</td>\n",
       "                        <td id=\"T_cb0c08e2_2bc0_11eb_ac0d_acd1b8a5e586row4_col7\" class=\"data row4 col7\" >-0.344</td>\n",
       "                        <td id=\"T_cb0c08e2_2bc0_11eb_ac0d_acd1b8a5e586row4_col8\" class=\"data row4 col8\" >0.733</td>\n",
       "                        <td id=\"T_cb0c08e2_2bc0_11eb_ac0d_acd1b8a5e586row4_col9\" class=\"data row4 col9\" >0.79</td>\n",
       "            </tr>\n",
       "            <tr>\n",
       "                        <th id=\"T_cb0c08e2_2bc0_11eb_ac0d_acd1b8a5e586level0_row5\" class=\"row_heading level0 row5\" >Width</th>\n",
       "                        <td id=\"T_cb0c08e2_2bc0_11eb_ac0d_acd1b8a5e586row5_col0\" class=\"data row5 col0\" >0.319</td>\n",
       "                        <td id=\"T_cb0c08e2_2bc0_11eb_ac0d_acd1b8a5e586row5_col1\" class=\"data row5 col1\" >0.593</td>\n",
       "                        <td id=\"T_cb0c08e2_2bc0_11eb_ac0d_acd1b8a5e586row5_col2\" class=\"data row5 col2\" >-0.33</td>\n",
       "                        <td id=\"T_cb0c08e2_2bc0_11eb_ac0d_acd1b8a5e586row5_col3\" class=\"data row5 col3\" >0.845</td>\n",
       "                        <td id=\"T_cb0c08e2_2bc0_11eb_ac0d_acd1b8a5e586row5_col4\" class=\"data row5 col4\" >0.992</td>\n",
       "                        <td id=\"T_cb0c08e2_2bc0_11eb_ac0d_acd1b8a5e586row5_col5\" class=\"data row5 col5\" >1</td>\n",
       "                        <td id=\"T_cb0c08e2_2bc0_11eb_ac0d_acd1b8a5e586row5_col6\" class=\"data row5 col6\" >0.988</td>\n",
       "                        <td id=\"T_cb0c08e2_2bc0_11eb_ac0d_acd1b8a5e586row5_col7\" class=\"data row5 col7\" >-0.306</td>\n",
       "                        <td id=\"T_cb0c08e2_2bc0_11eb_ac0d_acd1b8a5e586row5_col8\" class=\"data row5 col8\" >0.739</td>\n",
       "                        <td id=\"T_cb0c08e2_2bc0_11eb_ac0d_acd1b8a5e586row5_col9\" class=\"data row5 col9\" >0.815</td>\n",
       "            </tr>\n",
       "            <tr>\n",
       "                        <th id=\"T_cb0c08e2_2bc0_11eb_ac0d_acd1b8a5e586level0_row6\" class=\"row_heading level0 row6\" >Length</th>\n",
       "                        <td id=\"T_cb0c08e2_2bc0_11eb_ac0d_acd1b8a5e586row6_col0\" class=\"data row6 col0\" >0.319</td>\n",
       "                        <td id=\"T_cb0c08e2_2bc0_11eb_ac0d_acd1b8a5e586row6_col1\" class=\"data row6 col1\" >0.575</td>\n",
       "                        <td id=\"T_cb0c08e2_2bc0_11eb_ac0d_acd1b8a5e586row6_col2\" class=\"data row6 col2\" >-0.394</td>\n",
       "                        <td id=\"T_cb0c08e2_2bc0_11eb_ac0d_acd1b8a5e586row6_col3\" class=\"data row6 col3\" >0.857</td>\n",
       "                        <td id=\"T_cb0c08e2_2bc0_11eb_ac0d_acd1b8a5e586row6_col4\" class=\"data row6 col4\" >0.993</td>\n",
       "                        <td id=\"T_cb0c08e2_2bc0_11eb_ac0d_acd1b8a5e586row6_col5\" class=\"data row6 col5\" >0.988</td>\n",
       "                        <td id=\"T_cb0c08e2_2bc0_11eb_ac0d_acd1b8a5e586row6_col6\" class=\"data row6 col6\" >1</td>\n",
       "                        <td id=\"T_cb0c08e2_2bc0_11eb_ac0d_acd1b8a5e586row6_col7\" class=\"data row6 col7\" >-0.375</td>\n",
       "                        <td id=\"T_cb0c08e2_2bc0_11eb_ac0d_acd1b8a5e586row6_col8\" class=\"data row6 col8\" >0.708</td>\n",
       "                        <td id=\"T_cb0c08e2_2bc0_11eb_ac0d_acd1b8a5e586row6_col9\" class=\"data row6 col9\" >0.779</td>\n",
       "            </tr>\n",
       "            <tr>\n",
       "                        <th id=\"T_cb0c08e2_2bc0_11eb_ac0d_acd1b8a5e586level0_row7\" class=\"row_heading level0 row7\" >Curb_weight</th>\n",
       "                        <td id=\"T_cb0c08e2_2bc0_11eb_ac0d_acd1b8a5e586row7_col0\" class=\"data row7 col0\" >-0.0874</td>\n",
       "                        <td id=\"T_cb0c08e2_2bc0_11eb_ac0d_acd1b8a5e586row7_col1\" class=\"data row7 col1\" >0.0664</td>\n",
       "                        <td id=\"T_cb0c08e2_2bc0_11eb_ac0d_acd1b8a5e586row7_col2\" class=\"data row7 col2\" >0.99</td>\n",
       "                        <td id=\"T_cb0c08e2_2bc0_11eb_ac0d_acd1b8a5e586row7_col3\" class=\"data row7 col3\" >-0.259</td>\n",
       "                        <td id=\"T_cb0c08e2_2bc0_11eb_ac0d_acd1b8a5e586row7_col4\" class=\"data row7 col4\" >-0.344</td>\n",
       "                        <td id=\"T_cb0c08e2_2bc0_11eb_ac0d_acd1b8a5e586row7_col5\" class=\"data row7 col5\" >-0.306</td>\n",
       "                        <td id=\"T_cb0c08e2_2bc0_11eb_ac0d_acd1b8a5e586row7_col6\" class=\"data row7 col6\" >-0.375</td>\n",
       "                        <td id=\"T_cb0c08e2_2bc0_11eb_ac0d_acd1b8a5e586row7_col7\" class=\"data row7 col7\" >1</td>\n",
       "                        <td id=\"T_cb0c08e2_2bc0_11eb_ac0d_acd1b8a5e586row7_col8\" class=\"data row7 col8\" >0.269</td>\n",
       "                        <td id=\"T_cb0c08e2_2bc0_11eb_ac0d_acd1b8a5e586row7_col9\" class=\"data row7 col9\" >-0.0566</td>\n",
       "            </tr>\n",
       "            <tr>\n",
       "                        <th id=\"T_cb0c08e2_2bc0_11eb_ac0d_acd1b8a5e586level0_row8\" class=\"row_heading level0 row8\" >Fuel_capacity</th>\n",
       "                        <td id=\"T_cb0c08e2_2bc0_11eb_ac0d_acd1b8a5e586row8_col0\" class=\"data row8 col0\" >0.241</td>\n",
       "                        <td id=\"T_cb0c08e2_2bc0_11eb_ac0d_acd1b8a5e586row8_col1\" class=\"data row8 col1\" >0.703</td>\n",
       "                        <td id=\"T_cb0c08e2_2bc0_11eb_ac0d_acd1b8a5e586row8_col2\" class=\"data row8 col2\" >0.246</td>\n",
       "                        <td id=\"T_cb0c08e2_2bc0_11eb_ac0d_acd1b8a5e586row8_col3\" class=\"data row8 col3\" >0.727</td>\n",
       "                        <td id=\"T_cb0c08e2_2bc0_11eb_ac0d_acd1b8a5e586row8_col4\" class=\"data row8 col4\" >0.733</td>\n",
       "                        <td id=\"T_cb0c08e2_2bc0_11eb_ac0d_acd1b8a5e586row8_col5\" class=\"data row8 col5\" >0.739</td>\n",
       "                        <td id=\"T_cb0c08e2_2bc0_11eb_ac0d_acd1b8a5e586row8_col6\" class=\"data row8 col6\" >0.708</td>\n",
       "                        <td id=\"T_cb0c08e2_2bc0_11eb_ac0d_acd1b8a5e586row8_col7\" class=\"data row8 col7\" >0.269</td>\n",
       "                        <td id=\"T_cb0c08e2_2bc0_11eb_ac0d_acd1b8a5e586row8_col8\" class=\"data row8 col8\" >1</td>\n",
       "                        <td id=\"T_cb0c08e2_2bc0_11eb_ac0d_acd1b8a5e586row8_col9\" class=\"data row8 col9\" >0.548</td>\n",
       "            </tr>\n",
       "            <tr>\n",
       "                        <th id=\"T_cb0c08e2_2bc0_11eb_ac0d_acd1b8a5e586level0_row9\" class=\"row_heading level0 row9\" >Fuel_efficiency</th>\n",
       "                        <td id=\"T_cb0c08e2_2bc0_11eb_ac0d_acd1b8a5e586row9_col0\" class=\"data row9 col0\" >0.306</td>\n",
       "                        <td id=\"T_cb0c08e2_2bc0_11eb_ac0d_acd1b8a5e586row9_col1\" class=\"data row9 col1\" >0.343</td>\n",
       "                        <td id=\"T_cb0c08e2_2bc0_11eb_ac0d_acd1b8a5e586row9_col2\" class=\"data row9 col2\" >-0.109</td>\n",
       "                        <td id=\"T_cb0c08e2_2bc0_11eb_ac0d_acd1b8a5e586row9_col3\" class=\"data row9 col3\" >0.51</td>\n",
       "                        <td id=\"T_cb0c08e2_2bc0_11eb_ac0d_acd1b8a5e586row9_col4\" class=\"data row9 col4\" >0.79</td>\n",
       "                        <td id=\"T_cb0c08e2_2bc0_11eb_ac0d_acd1b8a5e586row9_col5\" class=\"data row9 col5\" >0.815</td>\n",
       "                        <td id=\"T_cb0c08e2_2bc0_11eb_ac0d_acd1b8a5e586row9_col6\" class=\"data row9 col6\" >0.779</td>\n",
       "                        <td id=\"T_cb0c08e2_2bc0_11eb_ac0d_acd1b8a5e586row9_col7\" class=\"data row9 col7\" >-0.0566</td>\n",
       "                        <td id=\"T_cb0c08e2_2bc0_11eb_ac0d_acd1b8a5e586row9_col8\" class=\"data row9 col8\" >0.548</td>\n",
       "                        <td id=\"T_cb0c08e2_2bc0_11eb_ac0d_acd1b8a5e586row9_col9\" class=\"data row9 col9\" >1</td>\n",
       "            </tr>\n",
       "    </tbody></table>"
      ],
      "text/plain": [
       "<pandas.io.formats.style.Styler at 0xfa940c02c8>"
      ]
     },
     "execution_count": 54,
     "metadata": {},
     "output_type": "execute_result"
    }
   ],
   "source": [
    "pd.set_option(\"precision\",3)\n",
    "corr_data.style.background_gradient(cmap=\"coolwarm\")"
   ]
  },
  {
   "cell_type": "code",
   "execution_count": 55,
   "metadata": {},
   "outputs": [
    {
     "data": {
      "text/plain": [
       "Sales_in_thousands    0\n",
       "Vehicle_type          0\n",
       "Price_in_thousands    0\n",
       "Engine_size           0\n",
       "Horsepower            0\n",
       "Wheelbase             0\n",
       "Width                 0\n",
       "Length                0\n",
       "Curb_weight           0\n",
       "Fuel_capacity         0\n",
       "Fuel_efficiency       0\n",
       "dtype: int64"
      ]
     },
     "execution_count": 55,
     "metadata": {},
     "output_type": "execute_result"
    }
   ],
   "source": [
    "df3.isnull().sum()"
   ]
  },
  {
   "cell_type": "code",
   "execution_count": 56,
   "metadata": {},
   "outputs": [
    {
     "data": {
      "text/plain": [
       "[]"
      ]
     },
     "execution_count": 56,
     "metadata": {},
     "output_type": "execute_result"
    },
    {
     "data": {
      "image/png": "[encoded data removed]",
      "text/plain": [
       "<Figure size 432x288 with 1 Axes>"
      ]
     },
     "metadata": {
      "needs_background": "light"
     },
     "output_type": "display_data"
    }
   ],
   "source": [
    "import seaborn as sns\n",
    "#plt.hist(df3['Sales_in_thousands'], bins=\"auto\")\n",
    "sns.distplot(df3['Sales_in_thousands'], bins=10)\n",
    "plt.plot()"
   ]
  },
  {
   "cell_type": "code",
   "execution_count": 61,
   "metadata": {},
   "outputs": [
    {
     "name": "stderr",
     "output_type": "stream",
     "text": [
      "C:\\ProgramData\\Anaconda3\\lib\\site-packages\\ipykernel_launcher.py:1: SettingWithCopyWarning: \n",
      "A value is trying to be set on a copy of a slice from a DataFrame.\n",
      "Try using .loc[row_indexer,col_indexer] = value instead\n",
      "\n",
      "See the caveats in the documentation: http://pandas.pydata.org/pandas-docs/stable/user_guide/indexing.html#returning-a-view-versus-a-copy\n",
      "  \"\"\"Entry point for launching an IPython kernel.\n",
      "C:\\ProgramData\\Anaconda3\\lib\\site-packages\\ipykernel_launcher.py:2: SettingWithCopyWarning: \n",
      "A value is trying to be set on a copy of a slice from a DataFrame.\n",
      "Try using .loc[row_indexer,col_indexer] = value instead\n",
      "\n",
      "See the caveats in the documentation: http://pandas.pydata.org/pandas-docs/stable/user_guide/indexing.html#returning-a-view-versus-a-copy\n",
      "  \n"
     ]
    }
   ],
   "source": [
    "df3['Sales_log']=np.log1p(df3['Sales_in_thousands'])\n",
    "df3['sqrt_Sales_log']=np.log1p(np.sqrt(df3['Sales_in_thousands']))"
   ]
  },
  {
   "cell_type": "code",
   "execution_count": 63,
   "metadata": {},
   "outputs": [
    {
     "data": {
      "text/plain": [
       "[]"
      ]
     },
     "execution_count": 63,
     "metadata": {},
     "output_type": "execute_result"
    },
    {
     "data": {
      "image/png": "[encoded data removed]",
      "text/plain": [
       "<Figure size 432x288 with 1 Axes>"
      ]
     },
     "metadata": {
      "needs_background": "light"
     },
     "output_type": "display_data"
    }
   ],
   "source": [
    "import seaborn as sns\n",
    "#plt.hist(df3['Sales_in_thousands'], bins=\"auto\")\n",
    "# sns.distplot(df3['sqrt_log'], bins=10)\n",
    "#plt.plot()\n",
    "# plt.hist(df3['sqrt_Sales_log'], bins=\"auto\")\n",
    "sns.distplot(df3['sqrt_Sales_log'], bins=10)\n",
    "plt.plot()"
   ]
  },
  {
   "cell_type": "code",
   "execution_count": 64,
   "metadata": {},
   "outputs": [
    {
     "data": {
      "text/plain": [
       "Passenger           101\n",
       "Car                  30\n",
       "4.95427989252485     19\n",
       "27.6717262390846      1\n",
       "34.5509197488687      1\n",
       "Name: Vehicle_type, dtype: int64"
      ]
     },
     "execution_count": 64,
     "metadata": {},
     "output_type": "execute_result"
    }
   ],
   "source": [
    "df3[\"Vehicle_type\"].value_counts()"
   ]
  },
  {
   "cell_type": "code",
   "execution_count": 65,
   "metadata": {},
   "outputs": [
    {
     "name": "stderr",
     "output_type": "stream",
     "text": [
      "C:\\ProgramData\\Anaconda3\\lib\\site-packages\\ipykernel_launcher.py:1: SettingWithCopyWarning: \n",
      "A value is trying to be set on a copy of a slice from a DataFrame.\n",
      "Try using .loc[row_indexer,col_indexer] = value instead\n",
      "\n",
      "See the caveats in the documentation: http://pandas.pydata.org/pandas-docs/stable/user_guide/indexing.html#returning-a-view-versus-a-copy\n",
      "  \"\"\"Entry point for launching an IPython kernel.\n",
      "C:\\ProgramData\\Anaconda3\\lib\\site-packages\\pandas\\core\\frame.py:4102: SettingWithCopyWarning: \n",
      "A value is trying to be set on a copy of a slice from a DataFrame\n",
      "\n",
      "See the caveats in the documentation: http://pandas.pydata.org/pandas-docs/stable/user_guide/indexing.html#returning-a-view-versus-a-copy\n",
      "  errors=errors,\n"
     ]
    }
   ],
   "source": [
    "df3[\"dummy_vehicle\"]=np.where(df3[\"Vehicle_type\"]==\"Car\",1,0)\n",
    "df3.drop( columns=[\"Vehicle_type\"], inplace=True)"
   ]
  },
  {
   "cell_type": "code",
   "execution_count": 66,
   "metadata": {},
   "outputs": [
    {
     "data": {
      "text/plain": [
       "0    122\n",
       "1     30\n",
       "Name: dummy_vehicle, dtype: int64"
      ]
     },
     "execution_count": 66,
     "metadata": {},
     "output_type": "execute_result"
    }
   ],
   "source": [
    "df3[\"dummy_vehicle\"].value_counts()"
   ]
  },
  {
   "cell_type": "code",
   "execution_count": 72,
   "metadata": {},
   "outputs": [
    {
     "name": "stdout",
     "output_type": "stream",
     "text": [
      "                            OLS Regression Results                            \n",
      "==============================================================================\n",
      "Dep. Variable:              Sales_log   R-squared:                       0.530\n",
      "Model:                            OLS   Adj. R-squared:                  0.497\n",
      "Method:                 Least Squares   F-statistic:                     15.92\n",
      "Date:                Sat, 21 Nov 2020   Prob (F-statistic):           7.10e-19\n",
      "Time:                        12:09:00   Log-Likelihood:                -174.45\n",
      "No. Observations:                 152   AIC:                             370.9\n",
      "Df Residuals:                     141   BIC:                             404.2\n",
      "Df Model:                          10                                         \n",
      "Covariance Type:            nonrobust                                         \n",
      "======================================================================================\n",
      "                         coef    std err          t      P>|t|      [0.025      0.975]\n",
      "--------------------------------------------------------------------------------------\n",
      "const                  1.4080      0.238      5.913      0.000       0.937       1.879\n",
      "Price_in_thousands    -0.0623      0.017     -3.710      0.000      -0.096      -0.029\n",
      "Engine_size            0.3820      0.185      2.070      0.040       0.017       0.747\n",
      "Horsepower             0.0014      0.004      0.318      0.751      -0.007       0.010\n",
      "Wheelbase              0.0308      0.024      1.280      0.203      -0.017       0.078\n",
      "Width                 -0.0314      0.027     -1.151      0.252      -0.085       0.022\n",
      "Length                 0.0049      0.012      0.406      0.685      -0.019       0.029\n",
      "Curb_weight           -0.3029      0.210     -1.443      0.151      -0.718       0.112\n",
      "Fuel_capacity          0.0101      0.049      0.205      0.838      -0.087       0.107\n",
      "Fuel_efficiency        0.0363      0.030      1.196      0.234      -0.024       0.096\n",
      "dummy_vehicle          0.6595      0.275      2.401      0.018       0.116       1.202\n",
      "==============================================================================\n",
      "Omnibus:                       26.697   Durbin-Watson:                   1.738\n",
      "Prob(Omnibus):                  0.000   Jarque-Bera (JB):               43.554\n",
      "Skew:                          -0.876   Prob(JB):                     3.49e-10\n",
      "Kurtosis:                       4.951   Cond. No.                     1.24e+03\n",
      "==============================================================================\n",
      "\n",
      "Warnings:\n",
      "[1] Standard Errors assume that the covariance matrix of the errors is correctly specified.\n",
      "[2] The condition number is large, 1.24e+03. This might indicate that there are\n",
      "strong multicollinearity or other numerical problems.\n"
     ]
    },
    {
     "name": "stderr",
     "output_type": "stream",
     "text": [
      "C:\\ProgramData\\Anaconda3\\lib\\site-packages\\numpy\\core\\fromnumeric.py:2389: FutureWarning: Method .ptp is deprecated and will be removed in a future version. Use numpy.ptp instead.\n",
      "  return ptp(axis=axis, out=out, **kwargs)\n"
     ]
    }
   ],
   "source": [
    "import statsmodels.api as sm  # Statical learning\n",
    "\n",
    "X = df3[['Price_in_thousands',\n",
    "         'Engine_size', \n",
    "          'Horsepower', \n",
    "         'Wheelbase', \n",
    "         'Width', \n",
    "          'Length',\n",
    "          'Curb_weight',\n",
    "#           'Fuel_capacity',\n",
    "         'Fuel_efficiency',\n",
    "         \"dummy_vehicle\"\n",
    "        ]]\n",
    "Y = df3['Sales_log']\n",
    "# Y=df3[\"Sales_in_thousands\"]\n",
    "\n",
    "X = sm.add_constant(X) # adding a constant\n",
    "\n",
    "model = sm.OLS(Y, X).fit()\n",
    "#predictions = model.predict(X) \n",
    "\n",
    "\n",
    "print(model.summary())"
   ]
  },
  {
   "cell_type": "code",
   "execution_count": 78,
   "metadata": {},
   "outputs": [
    {
     "name": "stdout",
     "output_type": "stream",
     "text": [
      "                            OLS Regression Results                            \n",
      "==============================================================================\n",
      "Dep. Variable:              Sales_log   R-squared:                       0.514\n",
      "Model:                            OLS   Adj. R-squared:                  0.501\n",
      "Method:                 Least Squares   F-statistic:                     38.83\n",
      "Date:                Sat, 21 Nov 2020   Prob (F-statistic):           3.72e-22\n",
      "Time:                        12:14:26   Log-Likelihood:                -177.09\n",
      "No. Observations:                 152   AIC:                             364.2\n",
      "Df Residuals:                     147   BIC:                             379.3\n",
      "Df Model:                           4                                         \n",
      "Covariance Type:            nonrobust                                         \n",
      "======================================================================================\n",
      "                         coef    std err          t      P>|t|      [0.025      0.975]\n",
      "--------------------------------------------------------------------------------------\n",
      "const                  1.3490      0.231      5.834      0.000       0.892       1.806\n",
      "Price_in_thousands    -0.0623      0.008     -8.216      0.000      -0.077      -0.047\n",
      "Engine_size            0.1083      0.022      4.888      0.000       0.064       0.152\n",
      "Wheelbase              0.0299      0.003     10.949      0.000       0.024       0.035\n",
      "dummy_vehicle          0.4621      0.167      2.769      0.006       0.132       0.792\n",
      "==============================================================================\n",
      "Omnibus:                       26.139   Durbin-Watson:                   1.648\n",
      "Prob(Omnibus):                  0.000   Jarque-Bera (JB):               41.943\n",
      "Skew:                          -0.867   Prob(JB):                     7.80e-10\n",
      "Kurtosis:                       4.901   Cond. No.                         371.\n",
      "==============================================================================\n",
      "\n",
      "Warnings:\n",
      "[1] Standard Errors assume that the covariance matrix of the errors is correctly specified.\n"
     ]
    }
   ],
   "source": [
    "import statsmodels.api as sm  # Statical learning\n",
    "\n",
    "X = df3[['Price_in_thousands',\n",
    "         'Engine_size', \n",
    "#           'Horsepower', \n",
    "         'Wheelbase', \n",
    "#          'Width', \n",
    "#           'Length',\n",
    "#           'Curb_weight',\n",
    "#           'Fuel_capacity',\n",
    "#          'Fuel_efficiency',\n",
    "         \"dummy_vehicle\"\n",
    "        ]]\n",
    "Y = df3['Sales_log']\n",
    "# Y=df3[\"Sales_in_thousands\"]\n",
    "\n",
    "X = sm.add_constant(X) # adding a constant\n",
    "\n",
    "model = sm.OLS(Y, X).fit()\n",
    "#predictions = model.predict(X) \n",
    "\n",
    "\n",
    "print(model.summary())"
   ]
  },
  {
   "cell_type": "code",
   "execution_count": 82,
   "metadata": {},
   "outputs": [
    {
     "name": "stderr",
     "output_type": "stream",
     "text": [
      "C:\\ProgramData\\Anaconda3\\lib\\site-packages\\numpy\\core\\fromnumeric.py:2389: FutureWarning: Method .ptp is deprecated and will be removed in a future version. Use numpy.ptp instead.\n",
      "  return ptp(axis=axis, out=out, **kwargs)\n"
     ]
    }
   ],
   "source": [
    "X = df3[['Price_in_thousands',\n",
    "         'Engine_size', \n",
    "#           'Horsepower', \n",
    "         'Wheelbase', \n",
    "#          'Width', \n",
    "#           'Length',\n",
    "#           'Curb_weight',\n",
    "#           'Fuel_capacity',\n",
    "#          'Fuel_efficiency',\n",
    "         \"dummy_vehicle\"\n",
    "        ]]\n",
    "Y = df3['Sales_log']\n",
    "X = sm.add_constant(X) # adding a constant"
   ]
  },
  {
   "cell_type": "code",
   "execution_count": 93,
   "metadata": {},
   "outputs": [],
   "source": [
    "from sklearn.model_selection import train_test_split\n",
    "xTrain, xTest, yTrain, yTest = train_test_split(X, Y, test_size = .3, random_state = 42)"
   ]
  },
  {
   "cell_type": "code",
   "execution_count": 94,
   "metadata": {},
   "outputs": [],
   "source": [
    "import statsmodels.api as sm  # Statical learning\n",
    "\n",
    "model = sm.OLS(yTrain, xTrain).fit()\n",
    "#predictions = model.predict(X) "
   ]
  },
  {
   "cell_type": "code",
   "execution_count": 95,
   "metadata": {},
   "outputs": [
    {
     "name": "stdout",
     "output_type": "stream",
     "text": [
      "                            OLS Regression Results                            \n",
      "==============================================================================\n",
      "Dep. Variable:              Sales_log   R-squared:                       0.524\n",
      "Model:                            OLS   Adj. R-squared:                  0.506\n",
      "Method:                 Least Squares   F-statistic:                     27.85\n",
      "Date:                Sat, 21 Nov 2020   Prob (F-statistic):           1.37e-15\n",
      "Time:                        12:40:51   Log-Likelihood:                -123.85\n",
      "No. Observations:                 106   AIC:                             257.7\n",
      "Df Residuals:                     101   BIC:                             271.0\n",
      "Df Model:                           4                                         \n",
      "Covariance Type:            nonrobust                                         \n",
      "======================================================================================\n",
      "                         coef    std err          t      P>|t|      [0.025      0.975]\n",
      "--------------------------------------------------------------------------------------\n",
      "const                  1.3779      0.259      5.327      0.000       0.865       1.891\n",
      "Price_in_thousands    -0.0621      0.009     -6.776      0.000      -0.080      -0.044\n",
      "Engine_size            0.1024      0.023      4.466      0.000       0.057       0.148\n",
      "Wheelbase              0.0306      0.003      9.476      0.000       0.024       0.037\n",
      "dummy_vehicle          0.3508      0.203      1.726      0.087      -0.052       0.754\n",
      "==============================================================================\n",
      "Omnibus:                       33.781   Durbin-Watson:                   2.029\n",
      "Prob(Omnibus):                  0.000   Jarque-Bera (JB):               75.196\n",
      "Skew:                          -1.222   Prob(JB):                     4.69e-17\n",
      "Kurtosis:                       6.324   Cond. No.                         338.\n",
      "==============================================================================\n",
      "\n",
      "Warnings:\n",
      "[1] Standard Errors assume that the covariance matrix of the errors is correctly specified.\n"
     ]
    }
   ],
   "source": [
    "print(model.summary())"
   ]
  },
  {
   "cell_type": "code",
   "execution_count": 96,
   "metadata": {},
   "outputs": [
    {
     "data": {
      "text/plain": [
       "115    3.884\n",
       "18     1.729\n",
       "11     3.527\n",
       "127    2.808\n",
       "99     1.729\n",
       "       ...  \n",
       "75     3.035\n",
       "111    3.015\n",
       "16     2.686\n",
       "96     2.086\n",
       "106    3.838\n",
       "Length: 106, dtype: float64"
      ]
     },
     "execution_count": 96,
     "metadata": {},
     "output_type": "execute_result"
    }
   ],
   "source": [
    "model.predict(xTrain)"
   ]
  },
  {
   "cell_type": "code",
   "execution_count": 98,
   "metadata": {},
   "outputs": [
    {
     "name": "stderr",
     "output_type": "stream",
     "text": [
      "C:\\ProgramData\\Anaconda3\\lib\\site-packages\\ipykernel_launcher.py:1: SettingWithCopyWarning: \n",
      "A value is trying to be set on a copy of a slice from a DataFrame.\n",
      "Try using .loc[row_indexer,col_indexer] = value instead\n",
      "\n",
      "See the caveats in the documentation: http://pandas.pydata.org/pandas-docs/stable/user_guide/indexing.html#returning-a-view-versus-a-copy\n",
      "  \"\"\"Entry point for launching an IPython kernel.\n"
     ]
    }
   ],
   "source": [
    "xTrain[\"Predicted_sales\"]=np.exp(model.predict(xTrain))"
   ]
  },
  {
   "cell_type": "code",
   "execution_count": 99,
   "metadata": {},
   "outputs": [
    {
     "name": "stderr",
     "output_type": "stream",
     "text": [
      "C:\\ProgramData\\Anaconda3\\lib\\site-packages\\ipykernel_launcher.py:1: SettingWithCopyWarning: \n",
      "A value is trying to be set on a copy of a slice from a DataFrame.\n",
      "Try using .loc[row_indexer,col_indexer] = value instead\n",
      "\n",
      "See the caveats in the documentation: http://pandas.pydata.org/pandas-docs/stable/user_guide/indexing.html#returning-a-view-versus-a-copy\n",
      "  \"\"\"Entry point for launching an IPython kernel.\n"
     ]
    }
   ],
   "source": [
    "xTrain[\"Actual_sale\"]=np.exp(yTrain)"
   ]
  },
  {
   "cell_type": "code",
   "execution_count": 100,
   "metadata": {},
   "outputs": [],
   "source": [
    "xTrain.to_excel(\"xTrainPredicted.xlsx\")"
   ]
  },
  {
   "cell_type": "code",
   "execution_count": 101,
   "metadata": {},
   "outputs": [
    {
     "name": "stderr",
     "output_type": "stream",
     "text": [
      "C:\\ProgramData\\Anaconda3\\lib\\site-packages\\ipykernel_launcher.py:1: SettingWithCopyWarning: \n",
      "A value is trying to be set on a copy of a slice from a DataFrame.\n",
      "Try using .loc[row_indexer,col_indexer] = value instead\n",
      "\n",
      "See the caveats in the documentation: http://pandas.pydata.org/pandas-docs/stable/user_guide/indexing.html#returning-a-view-versus-a-copy\n",
      "  \"\"\"Entry point for launching an IPython kernel.\n",
      "C:\\ProgramData\\Anaconda3\\lib\\site-packages\\ipykernel_launcher.py:2: SettingWithCopyWarning: \n",
      "A value is trying to be set on a copy of a slice from a DataFrame.\n",
      "Try using .loc[row_indexer,col_indexer] = value instead\n",
      "\n",
      "See the caveats in the documentation: http://pandas.pydata.org/pandas-docs/stable/user_guide/indexing.html#returning-a-view-versus-a-copy\n",
      "  \n"
     ]
    }
   ],
   "source": [
    "xTest[\"Predicted_sales\"]=np.exp(model.predict(xTest))\n",
    "xTest[\"Actual_sale\"]=np.exp(yTest)\n",
    "xTest.to_excel(\"xTestPredicted.xlsx\")"
   ]
  },
  {
   "cell_type": "code",
   "execution_count": 37,
   "metadata": {},
   "outputs": [],
   "source": [
    "X = df3[['Price_in_thousands',\n",
    "         'Engine_size', \n",
    "         'Horsepower', \n",
    "         'Wheelbase', \n",
    "         'Width', \n",
    "         'Length',\n",
    "         'Curb_weight',\n",
    "         'Fuel_capacity',\n",
    "         'Fuel_efficiency',\n",
    "         \"dummy_vehicle\"\n",
    "        ]]\n",
    "Y = df3['Sales_log']"
   ]
  },
  {
   "cell_type": "code",
   "execution_count": 38,
   "metadata": {},
   "outputs": [],
   "source": [
    "from sklearn.model_selection import train_test_split\n",
    "from sklearn.linear_model import LinearRegression "
   ]
  },
  {
   "cell_type": "code",
   "execution_count": 39,
   "metadata": {},
   "outputs": [],
   "source": [
    "xTrain, xTest, yTrain, yTest = train_test_split(X, Y, test_size = .3, random_state = 42)"
   ]
  },
  {
   "cell_type": "code",
   "execution_count": 40,
   "metadata": {},
   "outputs": [],
   "source": [
    "linearRegressor = LinearRegression() "
   ]
  },
  {
   "cell_type": "code",
   "execution_count": 41,
   "metadata": {},
   "outputs": [
    {
     "name": "stdout",
     "output_type": "stream",
     "text": [
      "Help on LinearRegression in module sklearn.linear_model.base object:\n",
      "\n",
      "class LinearRegression(LinearModel, sklearn.base.RegressorMixin, sklearn.base.MultiOutputMixin)\n",
      " |  LinearRegression(fit_intercept=True, normalize=False, copy_X=True, n_jobs=None)\n",
      " |  \n",
      " |  Ordinary least squares Linear Regression.\n",
      " |  \n",
      " |  Parameters\n",
      " |  ----------\n",
      " |  fit_intercept : boolean, optional, default True\n",
      " |      whether to calculate the intercept for this model. If set\n",
      " |      to False, no intercept will be used in calculations\n",
      " |      (e.g. data is expected to be already centered).\n",
      " |  \n",
      " |  normalize : boolean, optional, default False\n",
      " |      This parameter is ignored when ``fit_intercept`` is set to False.\n",
      " |      If True, the regressors X will be normalized before regression by\n",
      " |      subtracting the mean and dividing by the l2-norm.\n",
      " |      If you wish to standardize, please use\n",
      " |      :class:`sklearn.preprocessing.StandardScaler` before calling ``fit`` on\n",
      " |      an estimator with ``normalize=False``.\n",
      " |  \n",
      " |  copy_X : boolean, optional, default True\n",
      " |      If True, X will be copied; else, it may be overwritten.\n",
      " |  \n",
      " |  n_jobs : int or None, optional (default=None)\n",
      " |      The number of jobs to use for the computation. This will only provide\n",
      " |      speedup for n_targets > 1 and sufficient large problems.\n",
      " |      ``None`` means 1 unless in a :obj:`joblib.parallel_backend` context.\n",
      " |      ``-1`` means using all processors. See :term:`Glossary <n_jobs>`\n",
      " |      for more details.\n",
      " |  \n",
      " |  Attributes\n",
      " |  ----------\n",
      " |  coef_ : array, shape (n_features, ) or (n_targets, n_features)\n",
      " |      Estimated coefficients for the linear regression problem.\n",
      " |      If multiple targets are passed during the fit (y 2D), this\n",
      " |      is a 2D array of shape (n_targets, n_features), while if only\n",
      " |      one target is passed, this is a 1D array of length n_features.\n",
      " |  \n",
      " |  intercept_ : array\n",
      " |      Independent term in the linear model.\n",
      " |  \n",
      " |  Examples\n",
      " |  --------\n",
      " |  >>> import numpy as np\n",
      " |  >>> from sklearn.linear_model import LinearRegression\n",
      " |  >>> X = np.array([[1, 1], [1, 2], [2, 2], [2, 3]])\n",
      " |  >>> # y = 1 * x_0 + 2 * x_1 + 3\n",
      " |  >>> y = np.dot(X, np.array([1, 2])) + 3\n",
      " |  >>> reg = LinearRegression().fit(X, y)\n",
      " |  >>> reg.score(X, y)\n",
      " |  1.0\n",
      " |  >>> reg.coef_\n",
      " |  array([1., 2.])\n",
      " |  >>> reg.intercept_ # doctest: +ELLIPSIS\n",
      " |  3.0000...\n",
      " |  >>> reg.predict(np.array([[3, 5]]))\n",
      " |  array([16.])\n",
      " |  \n",
      " |  Notes\n",
      " |  -----\n",
      " |  From the implementation point of view, this is just plain Ordinary\n",
      " |  Least Squares (scipy.linalg.lstsq) wrapped as a predictor object.\n",
      " |  \n",
      " |  Method resolution order:\n",
      " |      LinearRegression\n",
      " |      LinearModel\n",
      " |      sklearn.base.BaseEstimator\n",
      " |      sklearn.base.RegressorMixin\n",
      " |      sklearn.base.MultiOutputMixin\n",
      " |      builtins.object\n",
      " |  \n",
      " |  Methods defined here:\n",
      " |  \n",
      " |  __init__(self, fit_intercept=True, normalize=False, copy_X=True, n_jobs=None)\n",
      " |      Initialize self.  See help(type(self)) for accurate signature.\n",
      " |  \n",
      " |  fit(self, X, y, sample_weight=None)\n",
      " |      Fit linear model.\n",
      " |      \n",
      " |      Parameters\n",
      " |      ----------\n",
      " |      X : array-like or sparse matrix, shape (n_samples, n_features)\n",
      " |          Training data\n",
      " |      \n",
      " |      y : array_like, shape (n_samples, n_targets)\n",
      " |          Target values. Will be cast to X's dtype if necessary\n",
      " |      \n",
      " |      sample_weight : numpy array of shape [n_samples]\n",
      " |          Individual weights for each sample\n",
      " |      \n",
      " |          .. versionadded:: 0.17\n",
      " |             parameter *sample_weight* support to LinearRegression.\n",
      " |      \n",
      " |      Returns\n",
      " |      -------\n",
      " |      self : returns an instance of self.\n",
      " |  \n",
      " |  ----------------------------------------------------------------------\n",
      " |  Data and other attributes defined here:\n",
      " |  \n",
      " |  __abstractmethods__ = frozenset()\n",
      " |  \n",
      " |  ----------------------------------------------------------------------\n",
      " |  Methods inherited from LinearModel:\n",
      " |  \n",
      " |  predict(self, X)\n",
      " |      Predict using the linear model\n",
      " |      \n",
      " |      Parameters\n",
      " |      ----------\n",
      " |      X : array_like or sparse matrix, shape (n_samples, n_features)\n",
      " |          Samples.\n",
      " |      \n",
      " |      Returns\n",
      " |      -------\n",
      " |      C : array, shape (n_samples,)\n",
      " |          Returns predicted values.\n",
      " |  \n",
      " |  ----------------------------------------------------------------------\n",
      " |  Methods inherited from sklearn.base.BaseEstimator:\n",
      " |  \n",
      " |  __getstate__(self)\n",
      " |  \n",
      " |  __repr__(self, N_CHAR_MAX=700)\n",
      " |      Return repr(self).\n",
      " |  \n",
      " |  __setstate__(self, state)\n",
      " |  \n",
      " |  get_params(self, deep=True)\n",
      " |      Get parameters for this estimator.\n",
      " |      \n",
      " |      Parameters\n",
      " |      ----------\n",
      " |      deep : boolean, optional\n",
      " |          If True, will return the parameters for this estimator and\n",
      " |          contained subobjects that are estimators.\n",
      " |      \n",
      " |      Returns\n",
      " |      -------\n",
      " |      params : mapping of string to any\n",
      " |          Parameter names mapped to their values.\n",
      " |  \n",
      " |  set_params(self, **params)\n",
      " |      Set the parameters of this estimator.\n",
      " |      \n",
      " |      The method works on simple estimators as well as on nested objects\n",
      " |      (such as pipelines). The latter have parameters of the form\n",
      " |      ``<component>__<parameter>`` so that it's possible to update each\n",
      " |      component of a nested object.\n",
      " |      \n",
      " |      Returns\n",
      " |      -------\n",
      " |      self\n",
      " |  \n",
      " |  ----------------------------------------------------------------------\n",
      " |  Data descriptors inherited from sklearn.base.BaseEstimator:\n",
      " |  \n",
      " |  __dict__\n",
      " |      dictionary for instance variables (if defined)\n",
      " |  \n",
      " |  __weakref__\n",
      " |      list of weak references to the object (if defined)\n",
      " |  \n",
      " |  ----------------------------------------------------------------------\n",
      " |  Methods inherited from sklearn.base.RegressorMixin:\n",
      " |  \n",
      " |  score(self, X, y, sample_weight=None)\n",
      " |      Returns the coefficient of determination R^2 of the prediction.\n",
      " |      \n",
      " |      The coefficient R^2 is defined as (1 - u/v), where u is the residual\n",
      " |      sum of squares ((y_true - y_pred) ** 2).sum() and v is the total\n",
      " |      sum of squares ((y_true - y_true.mean()) ** 2).sum().\n",
      " |      The best possible score is 1.0 and it can be negative (because the\n",
      " |      model can be arbitrarily worse). A constant model that always\n",
      " |      predicts the expected value of y, disregarding the input features,\n",
      " |      would get a R^2 score of 0.0.\n",
      " |      \n",
      " |      Parameters\n",
      " |      ----------\n",
      " |      X : array-like, shape = (n_samples, n_features)\n",
      " |          Test samples. For some estimators this may be a\n",
      " |          precomputed kernel matrix instead, shape = (n_samples,\n",
      " |          n_samples_fitted], where n_samples_fitted is the number of\n",
      " |          samples used in the fitting for the estimator.\n",
      " |      \n",
      " |      y : array-like, shape = (n_samples) or (n_samples, n_outputs)\n",
      " |          True values for X.\n",
      " |      \n",
      " |      sample_weight : array-like, shape = [n_samples], optional\n",
      " |          Sample weights.\n",
      " |      \n",
      " |      Returns\n",
      " |      -------\n",
      " |      score : float\n",
      " |          R^2 of self.predict(X) wrt. y.\n",
      " |      \n",
      " |      Notes\n",
      " |      -----\n",
      " |      The R2 score used when calling ``score`` on a regressor will use\n",
      " |      ``multioutput='uniform_average'`` from version 0.23 to keep consistent\n",
      " |      with `metrics.r2_score`. This will influence the ``score`` method of\n",
      " |      all the multioutput regressors (except for\n",
      " |      `multioutput.MultiOutputRegressor`). To specify the default value\n",
      " |      manually and avoid the warning, please either call `metrics.r2_score`\n",
      " |      directly or make a custom scorer with `metrics.make_scorer` (the\n",
      " |      built-in scorer ``'r2'`` uses ``multioutput='uniform_average'``).\n",
      "\n"
     ]
    }
   ],
   "source": [
    "help(linearRegressor)"
   ]
  },
  {
   "cell_type": "code",
   "execution_count": 42,
   "metadata": {},
   "outputs": [
    {
     "data": {
      "text/plain": [
       "LinearRegression(copy_X=True, fit_intercept=True, n_jobs=None, normalize=False)"
      ]
     },
     "execution_count": 42,
     "metadata": {},
     "output_type": "execute_result"
    }
   ],
   "source": [
    "linearRegressor.fit(xTrain, yTrain)  # We are training our model"
   ]
  },
  {
   "cell_type": "code",
   "execution_count": 43,
   "metadata": {},
   "outputs": [
    {
     "data": {
      "text/plain": [
       "1.414370936657689"
      ]
     },
     "execution_count": 43,
     "metadata": {},
     "output_type": "execute_result"
    }
   ],
   "source": [
    "linearRegressor.intercept_"
   ]
  },
  {
   "cell_type": "code",
   "execution_count": 44,
   "metadata": {},
   "outputs": [
    {
     "data": {
      "text/plain": [
       "array([-0.07048606,  0.30494313,  0.00561776,  0.06704264, -0.04393271,\n",
       "       -0.01231077, -0.20767244, -0.02090779,  0.04521811,  0.57567776])"
      ]
     },
     "execution_count": 44,
     "metadata": {},
     "output_type": "execute_result"
    }
   ],
   "source": [
    "linearRegressor.coef_"
   ]
  },
  {
   "cell_type": "code",
   "execution_count": 66,
   "metadata": {},
   "outputs": [
    {
     "data": {
      "text/plain": [
       "Index(['Price_in_thousands', 'Engine_size', 'Horsepower', 'Wheelbase', 'Width',\n",
       "       'Length', 'Curb_weight', 'Fuel_capacity', 'Fuel_efficiency',\n",
       "       'dummy_vehicle'],\n",
       "      dtype='object')"
      ]
     },
     "execution_count": 66,
     "metadata": {},
     "output_type": "execute_result"
    }
   ],
   "source": [
    "X.columns"
   ]
  },
  {
   "cell_type": "code",
   "execution_count": 46,
   "metadata": {},
   "outputs": [],
   "source": [
    "yPrediction = linearRegressor.predict(xTrain)"
   ]
  },
  {
   "cell_type": "code",
   "execution_count": 47,
   "metadata": {},
   "outputs": [
    {
     "data": {
      "text/plain": [
       "array([3.73566354, 1.74884365, 3.77483322, 2.41080745, 1.74884365,\n",
       "       3.38892054, 3.85786594, 2.84842667, 4.09872665, 4.01728668,\n",
       "       3.74696824, 3.38204807, 3.48427224, 2.00903898, 3.62970256,\n",
       "       4.57157398, 4.00453132, 4.26332714, 2.73286469, 4.03151693,\n",
       "       3.80539165, 3.3696053 , 1.74884365, 3.13608748, 3.3531833 ,\n",
       "       3.76134101, 3.21531702, 3.86394183, 2.47215272, 3.4799912 ,\n",
       "       1.74528383, 3.78955358, 2.64328177, 4.12499412, 3.50457775,\n",
       "       4.11727994, 1.59503305, 3.81070287, 3.85280772, 4.11692426,\n",
       "       1.74884365, 3.1317278 , 3.54641172, 3.64180633, 4.33095831,\n",
       "       3.09003045, 3.53726235, 1.74884365, 3.51125485, 4.32757528,\n",
       "       3.78019514, 4.24475059, 3.88548195, 2.04298468, 2.67244755,\n",
       "       3.23807321, 2.96407861, 3.45547803, 3.0614179 , 3.93190829,\n",
       "       1.74884365, 2.88816845, 1.74884365, 3.4197222 , 3.28196778,\n",
       "       3.62670847, 2.64589975, 3.60664009, 1.74884365, 3.75411934,\n",
       "       3.37722007, 1.79662042, 4.11978061, 1.74884365, 3.3692228 ,\n",
       "       2.83538891, 2.44135744, 4.00136521, 1.74884365, 4.04729075,\n",
       "       3.89696055, 1.74884365, 1.74884365, 3.0165813 , 3.1775806 ,\n",
       "       4.25529876, 3.01459024, 3.25800171, 3.282541  , 3.41521524,\n",
       "       3.47692783, 1.74884365, 3.87333113, 4.87860021, 3.61278664,\n",
       "       3.98563162, 3.91182044, 1.74884365, 1.74884365, 2.65069051,\n",
       "       4.04548229, 3.02869237, 3.10133826, 2.81977403, 2.07620536,\n",
       "       3.66753429])"
      ]
     },
     "execution_count": 47,
     "metadata": {},
     "output_type": "execute_result"
    }
   ],
   "source": [
    "yPrediction"
   ]
  },
  {
   "cell_type": "code",
   "execution_count": 48,
   "metadata": {},
   "outputs": [],
   "source": [
    "y_pred_anti=np.exp(yPrediction)  #  applying antilog \n",
    "y_act_anti=np.exp(yTrain)"
   ]
  },
  {
   "cell_type": "code",
   "execution_count": 49,
   "metadata": {},
   "outputs": [
    {
     "data": {
      "text/html": [
       "<div>\n",
       "<style scoped>\n",
       "    .dataframe tbody tr th:only-of-type {\n",
       "        vertical-align: middle;\n",
       "    }\n",
       "\n",
       "    .dataframe tbody tr th {\n",
       "        vertical-align: top;\n",
       "    }\n",
       "\n",
       "    .dataframe thead th {\n",
       "        text-align: right;\n",
       "    }\n",
       "</style>\n",
       "<table border=\"1\" class=\"dataframe\">\n",
       "  <thead>\n",
       "    <tr style=\"text-align: right;\">\n",
       "      <th></th>\n",
       "      <th>Actual Sale</th>\n",
       "      <th>Predicted sales</th>\n",
       "    </tr>\n",
       "  </thead>\n",
       "  <tbody>\n",
       "    <tr>\n",
       "      <td>115</td>\n",
       "      <td>6.24000</td>\n",
       "      <td>41.915829</td>\n",
       "    </tr>\n",
       "    <tr>\n",
       "      <td>18</td>\n",
       "      <td>5.95428</td>\n",
       "      <td>5.747952</td>\n",
       "    </tr>\n",
       "    <tr>\n",
       "      <td>11</td>\n",
       "      <td>40.35000</td>\n",
       "      <td>43.590238</td>\n",
       "    </tr>\n",
       "    <tr>\n",
       "      <td>127</td>\n",
       "      <td>10.19100</td>\n",
       "      <td>11.142955</td>\n",
       "    </tr>\n",
       "    <tr>\n",
       "      <td>99</td>\n",
       "      <td>5.95428</td>\n",
       "      <td>5.747952</td>\n",
       "    </tr>\n",
       "    <tr>\n",
       "      <td>80</td>\n",
       "      <td>43.54100</td>\n",
       "      <td>29.633946</td>\n",
       "    </tr>\n",
       "    <tr>\n",
       "      <td>136</td>\n",
       "      <td>143.53500</td>\n",
       "      <td>47.364166</td>\n",
       "    </tr>\n",
       "    <tr>\n",
       "      <td>70</td>\n",
       "      <td>25.07200</td>\n",
       "      <td>17.260604</td>\n",
       "    </tr>\n",
       "    <tr>\n",
       "      <td>116</td>\n",
       "      <td>25.15500</td>\n",
       "      <td>60.263502</td>\n",
       "    </tr>\n",
       "    <tr>\n",
       "      <td>114</td>\n",
       "      <td>33.73400</td>\n",
       "      <td>55.550176</td>\n",
       "    </tr>\n",
       "    <tr>\n",
       "      <td>26</td>\n",
       "      <td>35.55092</td>\n",
       "      <td>42.392363</td>\n",
       "    </tr>\n",
       "    <tr>\n",
       "      <td>0</td>\n",
       "      <td>17.91900</td>\n",
       "      <td>29.430986</td>\n",
       "    </tr>\n",
       "    <tr>\n",
       "      <td>82</td>\n",
       "      <td>6.71100</td>\n",
       "      <td>32.598694</td>\n",
       "    </tr>\n",
       "    <tr>\n",
       "      <td>97</td>\n",
       "      <td>2.52600</td>\n",
       "      <td>7.456148</td>\n",
       "    </tr>\n",
       "    <tr>\n",
       "      <td>30</td>\n",
       "      <td>32.14800</td>\n",
       "      <td>37.701601</td>\n",
       "    </tr>\n",
       "    <tr>\n",
       "      <td>44</td>\n",
       "      <td>102.32300</td>\n",
       "      <td>96.696188</td>\n",
       "    </tr>\n",
       "    <tr>\n",
       "      <td>48</td>\n",
       "      <td>36.06800</td>\n",
       "      <td>54.846113</td>\n",
       "    </tr>\n",
       "    <tr>\n",
       "      <td>68</td>\n",
       "      <td>81.55600</td>\n",
       "      <td>71.045970</td>\n",
       "    </tr>\n",
       "    <tr>\n",
       "      <td>98</td>\n",
       "      <td>12.59200</td>\n",
       "      <td>15.376874</td>\n",
       "    </tr>\n",
       "    <tr>\n",
       "      <td>27</td>\n",
       "      <td>108.99500</td>\n",
       "      <td>56.346320</td>\n",
       "    </tr>\n",
       "    <tr>\n",
       "      <td>25</td>\n",
       "      <td>33.29900</td>\n",
       "      <td>44.942848</td>\n",
       "    </tr>\n",
       "    <tr>\n",
       "      <td>102</td>\n",
       "      <td>89.09400</td>\n",
       "      <td>29.067052</td>\n",
       "    </tr>\n",
       "    <tr>\n",
       "      <td>43</td>\n",
       "      <td>5.95428</td>\n",
       "      <td>5.747952</td>\n",
       "    </tr>\n",
       "    <tr>\n",
       "      <td>148</td>\n",
       "      <td>10.56900</td>\n",
       "      <td>23.013649</td>\n",
       "    </tr>\n",
       "    <tr>\n",
       "      <td>149</td>\n",
       "      <td>6.59600</td>\n",
       "      <td>28.593611</td>\n",
       "    </tr>\n",
       "  </tbody>\n",
       "</table>\n",
       "</div>"
      ],
      "text/plain": [
       "     Actual Sale  Predicted sales\n",
       "115      6.24000        41.915829\n",
       "18       5.95428         5.747952\n",
       "11      40.35000        43.590238\n",
       "127     10.19100        11.142955\n",
       "99       5.95428         5.747952\n",
       "80      43.54100        29.633946\n",
       "136    143.53500        47.364166\n",
       "70      25.07200        17.260604\n",
       "116     25.15500        60.263502\n",
       "114     33.73400        55.550176\n",
       "26      35.55092        42.392363\n",
       "0       17.91900        29.430986\n",
       "82       6.71100        32.598694\n",
       "97       2.52600         7.456148\n",
       "30      32.14800        37.701601\n",
       "44     102.32300        96.696188\n",
       "48      36.06800        54.846113\n",
       "68      81.55600        71.045970\n",
       "98      12.59200        15.376874\n",
       "27     108.99500        56.346320\n",
       "25      33.29900        44.942848\n",
       "102     89.09400        29.067052\n",
       "43       5.95428         5.747952\n",
       "148     10.56900        23.013649\n",
       "149      6.59600        28.593611"
      ]
     },
     "execution_count": 49,
     "metadata": {},
     "output_type": "execute_result"
    }
   ],
   "source": [
    "pred = pd.DataFrame({'Actual Sale': y_act_anti, 'Predicted sales': y_pred_anti})\n",
    "df_pred=pred.head(25)\n",
    "df_pred"
   ]
  },
  {
   "cell_type": "code",
   "execution_count": 73,
   "metadata": {},
   "outputs": [],
   "source": [
    "pred.to_excel(\"Pred_train1.xlsx\")"
   ]
  },
  {
   "cell_type": "code",
   "execution_count": 74,
   "metadata": {},
   "outputs": [
    {
     "data": {
      "image/png": "[encoded data removed]",
      "text/plain": [
       "<Figure size 720x576 with 1 Axes>"
      ]
     },
     "metadata": {
      "needs_background": "light"
     },
     "output_type": "display_data"
    }
   ],
   "source": [
    "df_pred.plot(kind='bar',figsize=(10,8))\n",
    "plt.grid(which='major', linestyle='-', linewidth='0.5', color='green')\n",
    "plt.grid(which='minor', linestyle=':', linewidth='0.5', color='black')\n",
    "plt.show()"
   ]
  },
  {
   "cell_type": "code",
   "execution_count": 50,
   "metadata": {},
   "outputs": [
    {
     "name": "stdout",
     "output_type": "stream",
     "text": [
      "Mean Absolute Error : 21.424947866002\n",
      "Mean Squared Error : 1277.4184119272009\n",
      "Root Mean Squared Error : 35.74099063998088\n"
     ]
    }
   ],
   "source": [
    "from sklearn import metrics\n",
    "print('Mean Absolute Error :', metrics.mean_absolute_error(y_act_anti, y_pred_anti))  \n",
    "print('Mean Squared Error :', metrics.mean_squared_error(y_act_anti, y_pred_anti))  \n",
    "print('Root Mean Squared Error :', np.sqrt(metrics.mean_squared_error(y_act_anti, y_pred_anti)))"
   ]
  },
  {
   "cell_type": "code",
   "execution_count": 52,
   "metadata": {},
   "outputs": [
    {
     "data": {
      "text/plain": [
       "0.28730172027834644"
      ]
     },
     "execution_count": 52,
     "metadata": {},
     "output_type": "execute_result"
    }
   ],
   "source": [
    "from sklearn.metrics import r2_score\n",
    "\n",
    "r2 = r2_score(y_act_anti, y_pred_anti)\n",
    "r2"
   ]
  },
  {
   "cell_type": "code",
   "execution_count": 55,
   "metadata": {
    "scrolled": true
   },
   "outputs": [
    {
     "name": "stdout",
     "output_type": "stream",
     "text": [
      "Mean Absolute Error: 24.303430855020412\n",
      "Mean Squared Error: 1229.2602437998423\n",
      "Root Mean Squared Error: 35.060807803013354\n"
     ]
    }
   ],
   "source": [
    "yPrediction = linearRegressor.predict(xTest)\n",
    "\n",
    "yTest=np.exp(yTest)\n",
    "yPrediction=np.exp(yPrediction)\n",
    "\n",
    "pred = pd.DataFrame({'Actual Sale': yTest, 'Predicted sales': yPrediction})\n",
    "df_pred=pred.head(25)\n",
    "from sklearn import metrics\n",
    "print('Mean Absolute Error:', metrics.mean_absolute_error(yTest, yPrediction))  \n",
    "print('Mean Squared Error:', metrics.mean_squared_error(yTest, yPrediction))  \n",
    "print('Root Mean Squared Error:', np.sqrt(metrics.mean_squared_error(yTest, yPrediction)))"
   ]
  },
  {
   "cell_type": "code",
   "execution_count": 56,
   "metadata": {},
   "outputs": [],
   "source": [
    "from sklearn.metrics import mean_squared_error, r2_score\n",
    "r2 = r2_score(yTest, yPrediction)"
   ]
  },
  {
   "cell_type": "code",
   "execution_count": 57,
   "metadata": {},
   "outputs": [
    {
     "data": {
      "text/plain": [
       "0.41870023439338255"
      ]
     },
     "execution_count": 57,
     "metadata": {},
     "output_type": "execute_result"
    }
   ],
   "source": [
    "r2"
   ]
  },
  {
   "cell_type": "code",
   "execution_count": 90,
   "metadata": {},
   "outputs": [],
   "source": [
    "# Variable selection :- corr , Var ( Cont - cont - T, z test, cont - cat- ANOVA, \n",
    "#  Cat -cat- Chisquare ), STEPWISE Regression,  VIF, \n",
    "# Advanced techniques - variables selection _rough set theory,  Vriables techniques.\n",
    "# Advanced algorithsm - Random forest, Xgboost etc - Variable importance "
   ]
  },
  {
   "cell_type": "code",
   "execution_count": 61,
   "metadata": {},
   "outputs": [],
   "source": [
    "new=pd.read_csv(\"new.csv\")"
   ]
  },
  {
   "cell_type": "code",
   "execution_count": 62,
   "metadata": {},
   "outputs": [
    {
     "data": {
      "text/html": [
       "<div>\n",
       "<style scoped>\n",
       "    .dataframe tbody tr th:only-of-type {\n",
       "        vertical-align: middle;\n",
       "    }\n",
       "\n",
       "    .dataframe tbody tr th {\n",
       "        vertical-align: top;\n",
       "    }\n",
       "\n",
       "    .dataframe thead th {\n",
       "        text-align: right;\n",
       "    }\n",
       "</style>\n",
       "<table border=\"1\" class=\"dataframe\">\n",
       "  <thead>\n",
       "    <tr style=\"text-align: right;\">\n",
       "      <th></th>\n",
       "      <th>Price_in_thousands</th>\n",
       "      <th>Engine_size</th>\n",
       "      <th>Horsepower</th>\n",
       "      <th>Wheelbase</th>\n",
       "      <th>Width</th>\n",
       "      <th>Length</th>\n",
       "      <th>Curb_weight</th>\n",
       "      <th>Fuel_capacity</th>\n",
       "      <th>Fuel_efficiency</th>\n",
       "      <th>dummy_vehicle</th>\n",
       "    </tr>\n",
       "  </thead>\n",
       "  <tbody>\n",
       "    <tr>\n",
       "      <td>0</td>\n",
       "      <td>16.08</td>\n",
       "      <td>2</td>\n",
       "      <td>132</td>\n",
       "      <td>108</td>\n",
       "      <td>71</td>\n",
       "      <td>186.3</td>\n",
       "      <td>2.942</td>\n",
       "      <td>16.0</td>\n",
       "      <td>27.0</td>\n",
       "      <td>0</td>\n",
       "    </tr>\n",
       "    <tr>\n",
       "      <td>1</td>\n",
       "      <td>10.00</td>\n",
       "      <td>5</td>\n",
       "      <td>101</td>\n",
       "      <td>100</td>\n",
       "      <td>40</td>\n",
       "      <td>150.0</td>\n",
       "      <td>2.900</td>\n",
       "      <td>3.7</td>\n",
       "      <td>4.5</td>\n",
       "      <td>0</td>\n",
       "    </tr>\n",
       "    <tr>\n",
       "      <td>2</td>\n",
       "      <td>10.00</td>\n",
       "      <td>4</td>\n",
       "      <td>130</td>\n",
       "      <td>100</td>\n",
       "      <td>40</td>\n",
       "      <td>200.0</td>\n",
       "      <td>4.000</td>\n",
       "      <td>12.0</td>\n",
       "      <td>22.0</td>\n",
       "      <td>1</td>\n",
       "    </tr>\n",
       "  </tbody>\n",
       "</table>\n",
       "</div>"
      ],
      "text/plain": [
       "   Price_in_thousands  Engine_size  Horsepower  Wheelbase  Width  Length  \\\n",
       "0               16.08            2         132        108     71   186.3   \n",
       "1               10.00            5         101        100     40   150.0   \n",
       "2               10.00            4         130        100     40   200.0   \n",
       "\n",
       "   Curb_weight  Fuel_capacity  Fuel_efficiency  dummy_vehicle  \n",
       "0        2.942           16.0             27.0              0  \n",
       "1        2.900            3.7              4.5              0  \n",
       "2        4.000           12.0             22.0              1  "
      ]
     },
     "execution_count": 62,
     "metadata": {},
     "output_type": "execute_result"
    }
   ],
   "source": [
    "new"
   ]
  },
  {
   "cell_type": "code",
   "execution_count": 63,
   "metadata": {},
   "outputs": [
    {
     "data": {
      "text/plain": [
       "array([ 41.91582937, 227.20031999, 279.57923831])"
      ]
     },
     "execution_count": 63,
     "metadata": {},
     "output_type": "execute_result"
    }
   ],
   "source": [
    "np.exp(linearRegressor.predict(new))"
   ]
  },
  {
   "cell_type": "code",
   "execution_count": 7,
   "metadata": {},
   "outputs": [],
   "source": [
    "from joblib import load \n",
    "from joblib import dump"
   ]
  },
  {
   "cell_type": "code",
   "execution_count": 139,
   "metadata": {},
   "outputs": [
    {
     "data": {
      "text/plain": [
       "['LR_carSales.joblib']"
      ]
     },
     "execution_count": 139,
     "metadata": {},
     "output_type": "execute_result"
    }
   ],
   "source": [
    "dump(linearRegressor, \"LR_carSales.joblib\") # Pickle  of model , Saving the model objects"
   ]
  },
  {
   "cell_type": "code",
   "execution_count": 8,
   "metadata": {},
   "outputs": [],
   "source": [
    "lr=load(\"LR_carSales.joblib\")"
   ]
  },
  {
   "cell_type": "code",
   "execution_count": 10,
   "metadata": {},
   "outputs": [
    {
     "data": {
      "text/plain": [
       "array([41.91582937, 21.0825075 ])"
      ]
     },
     "execution_count": 10,
     "metadata": {},
     "output_type": "execute_result"
    }
   ],
   "source": [
    "np.exp(lr.predict(new))"
   ]
  },
  {
   "cell_type": "code",
   "execution_count": null,
   "metadata": {},
   "outputs": [],
   "source": []
  }
 ],
 "metadata": {
  "kernelspec": {
   "display_name": "Python 3",
   "language": "python",
   "name": "python3"
  },
  "language_info": {
   "codemirror_mode": {
    "name": "ipython",
    "version": 3
   },
   "file_extension": ".py",
   "mimetype": "text/x-python",
   "name": "python",
   "nbconvert_exporter": "python",
   "pygments_lexer": "ipython3",
   "version": "3.7.4"
  }
 },
 "nbformat": 4,
 "nbformat_minor": 2
}
