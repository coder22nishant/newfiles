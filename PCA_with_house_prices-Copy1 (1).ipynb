{
 "cells": [
  {
   "cell_type": "code",
   "execution_count": 1,
   "metadata": {
    "colab": {},
    "colab_type": "code",
    "id": "q0fJDP4QjYqU"
   },
   "outputs": [],
   "source": [
    "import pandas as pd\n",
    "import matplotlib.pyplot as plt\n",
    "import seaborn as sns\n",
    "import numpy as np\n",
    "from scipy.stats import norm\n",
    "from sklearn.preprocessing import StandardScaler\n",
    "from scipy import stats\n",
    "import warnings\n",
    "warnings.filterwarnings('ignore')\n",
    "%matplotlib inline\n",
    "import os"
   ]
  },
  {
   "cell_type": "markdown",
   "metadata": {
    "colab_type": "text",
    "id": "1sTXouxAlvtV"
   },
   "source": [
    "### Load the dataset"
   ]
  },
  {
   "cell_type": "code",
   "execution_count": 2,
   "metadata": {},
   "outputs": [],
   "source": [
    "os.chdir(\"C:\\\\Users\\\\Admin\\\\Desktop\\\\Training\\\\Algo_working\\\\PCA\")"
   ]
  },
  {
   "cell_type": "code",
   "execution_count": 0,
   "metadata": {
    "colab": {},
    "colab_type": "code",
    "id": "Fm2gsV8qi6xY"
   },
   "outputs": [],
   "source": [
    "df_house_price = pd.read_csv('house_price.csv')"
   ]
  },
  {
   "cell_type": "code",
   "execution_count": 4,
   "metadata": {
    "colab": {
     "base_uri": "https://localhost:8080/",
     "height": 253
    },
    "colab_type": "code",
    "id": "F7Zv0yaNjwQI",
    "outputId": "9b33557d-6d29-4760-9edf-d567d9e349ec"
   },
   "outputs": [
    {
     "data": {
      "text/html": [
       "<div>\n",
       "<style scoped>\n",
       "    .dataframe tbody tr th:only-of-type {\n",
       "        vertical-align: middle;\n",
       "    }\n",
       "\n",
       "    .dataframe tbody tr th {\n",
       "        vertical-align: top;\n",
       "    }\n",
       "\n",
       "    .dataframe thead th {\n",
       "        text-align: right;\n",
       "    }\n",
       "</style>\n",
       "<table border=\"1\" class=\"dataframe\">\n",
       "  <thead>\n",
       "    <tr style=\"text-align: right;\">\n",
       "      <th></th>\n",
       "      <th>Id</th>\n",
       "      <th>MSSubClass</th>\n",
       "      <th>MSZoning</th>\n",
       "      <th>LotFrontage</th>\n",
       "      <th>LotArea</th>\n",
       "      <th>Street</th>\n",
       "      <th>Alley</th>\n",
       "      <th>LotShape</th>\n",
       "      <th>LandContour</th>\n",
       "      <th>Utilities</th>\n",
       "      <th>...</th>\n",
       "      <th>PoolArea</th>\n",
       "      <th>PoolQC</th>\n",
       "      <th>Fence</th>\n",
       "      <th>MiscFeature</th>\n",
       "      <th>MiscVal</th>\n",
       "      <th>MoSold</th>\n",
       "      <th>YrSold</th>\n",
       "      <th>SaleType</th>\n",
       "      <th>SaleCondition</th>\n",
       "      <th>SalePrice</th>\n",
       "    </tr>\n",
       "  </thead>\n",
       "  <tbody>\n",
       "    <tr>\n",
       "      <th>0</th>\n",
       "      <td>1</td>\n",
       "      <td>60</td>\n",
       "      <td>RL</td>\n",
       "      <td>65.0</td>\n",
       "      <td>8450</td>\n",
       "      <td>Pave</td>\n",
       "      <td>NaN</td>\n",
       "      <td>Reg</td>\n",
       "      <td>Lvl</td>\n",
       "      <td>AllPub</td>\n",
       "      <td>...</td>\n",
       "      <td>0</td>\n",
       "      <td>NaN</td>\n",
       "      <td>NaN</td>\n",
       "      <td>NaN</td>\n",
       "      <td>0</td>\n",
       "      <td>2</td>\n",
       "      <td>2008</td>\n",
       "      <td>WD</td>\n",
       "      <td>Normal</td>\n",
       "      <td>208500</td>\n",
       "    </tr>\n",
       "    <tr>\n",
       "      <th>1</th>\n",
       "      <td>2</td>\n",
       "      <td>20</td>\n",
       "      <td>RL</td>\n",
       "      <td>80.0</td>\n",
       "      <td>9600</td>\n",
       "      <td>Pave</td>\n",
       "      <td>NaN</td>\n",
       "      <td>Reg</td>\n",
       "      <td>Lvl</td>\n",
       "      <td>AllPub</td>\n",
       "      <td>...</td>\n",
       "      <td>0</td>\n",
       "      <td>NaN</td>\n",
       "      <td>NaN</td>\n",
       "      <td>NaN</td>\n",
       "      <td>0</td>\n",
       "      <td>5</td>\n",
       "      <td>2007</td>\n",
       "      <td>WD</td>\n",
       "      <td>Normal</td>\n",
       "      <td>181500</td>\n",
       "    </tr>\n",
       "    <tr>\n",
       "      <th>2</th>\n",
       "      <td>3</td>\n",
       "      <td>60</td>\n",
       "      <td>RL</td>\n",
       "      <td>68.0</td>\n",
       "      <td>11250</td>\n",
       "      <td>Pave</td>\n",
       "      <td>NaN</td>\n",
       "      <td>IR1</td>\n",
       "      <td>Lvl</td>\n",
       "      <td>AllPub</td>\n",
       "      <td>...</td>\n",
       "      <td>0</td>\n",
       "      <td>NaN</td>\n",
       "      <td>NaN</td>\n",
       "      <td>NaN</td>\n",
       "      <td>0</td>\n",
       "      <td>9</td>\n",
       "      <td>2008</td>\n",
       "      <td>WD</td>\n",
       "      <td>Normal</td>\n",
       "      <td>223500</td>\n",
       "    </tr>\n",
       "    <tr>\n",
       "      <th>3</th>\n",
       "      <td>4</td>\n",
       "      <td>70</td>\n",
       "      <td>RL</td>\n",
       "      <td>60.0</td>\n",
       "      <td>9550</td>\n",
       "      <td>Pave</td>\n",
       "      <td>NaN</td>\n",
       "      <td>IR1</td>\n",
       "      <td>Lvl</td>\n",
       "      <td>AllPub</td>\n",
       "      <td>...</td>\n",
       "      <td>0</td>\n",
       "      <td>NaN</td>\n",
       "      <td>NaN</td>\n",
       "      <td>NaN</td>\n",
       "      <td>0</td>\n",
       "      <td>2</td>\n",
       "      <td>2006</td>\n",
       "      <td>WD</td>\n",
       "      <td>Abnorml</td>\n",
       "      <td>140000</td>\n",
       "    </tr>\n",
       "    <tr>\n",
       "      <th>4</th>\n",
       "      <td>5</td>\n",
       "      <td>60</td>\n",
       "      <td>RL</td>\n",
       "      <td>84.0</td>\n",
       "      <td>14260</td>\n",
       "      <td>Pave</td>\n",
       "      <td>NaN</td>\n",
       "      <td>IR1</td>\n",
       "      <td>Lvl</td>\n",
       "      <td>AllPub</td>\n",
       "      <td>...</td>\n",
       "      <td>0</td>\n",
       "      <td>NaN</td>\n",
       "      <td>NaN</td>\n",
       "      <td>NaN</td>\n",
       "      <td>0</td>\n",
       "      <td>12</td>\n",
       "      <td>2008</td>\n",
       "      <td>WD</td>\n",
       "      <td>Normal</td>\n",
       "      <td>250000</td>\n",
       "    </tr>\n",
       "  </tbody>\n",
       "</table>\n",
       "<p>5 rows × 81 columns</p>\n",
       "</div>"
      ],
      "text/plain": [
       "   Id  MSSubClass MSZoning  LotFrontage  LotArea Street Alley LotShape  \\\n",
       "0   1          60       RL         65.0     8450   Pave   NaN      Reg   \n",
       "1   2          20       RL         80.0     9600   Pave   NaN      Reg   \n",
       "2   3          60       RL         68.0    11250   Pave   NaN      IR1   \n",
       "3   4          70       RL         60.0     9550   Pave   NaN      IR1   \n",
       "4   5          60       RL         84.0    14260   Pave   NaN      IR1   \n",
       "\n",
       "  LandContour Utilities    ...     PoolArea PoolQC Fence MiscFeature MiscVal  \\\n",
       "0         Lvl    AllPub    ...            0    NaN   NaN         NaN       0   \n",
       "1         Lvl    AllPub    ...            0    NaN   NaN         NaN       0   \n",
       "2         Lvl    AllPub    ...            0    NaN   NaN         NaN       0   \n",
       "3         Lvl    AllPub    ...            0    NaN   NaN         NaN       0   \n",
       "4         Lvl    AllPub    ...            0    NaN   NaN         NaN       0   \n",
       "\n",
       "  MoSold YrSold  SaleType  SaleCondition  SalePrice  \n",
       "0      2   2008        WD         Normal     208500  \n",
       "1      5   2007        WD         Normal     181500  \n",
       "2      9   2008        WD         Normal     223500  \n",
       "3      2   2006        WD        Abnorml     140000  \n",
       "4     12   2008        WD         Normal     250000  \n",
       "\n",
       "[5 rows x 81 columns]"
      ]
     },
     "execution_count": 4,
     "metadata": {
      "tags": []
     },
     "output_type": "execute_result"
    }
   ],
   "source": [
    "df_house_price.head()"
   ]
  },
  {
   "cell_type": "markdown",
   "metadata": {
    "colab_type": "text",
    "id": "tXAS6A0Rj7zY"
   },
   "source": [
    "###  Exploratory Data Analysis"
   ]
  },
  {
   "cell_type": "code",
   "execution_count": 5,
   "metadata": {
    "colab": {
     "base_uri": "https://localhost:8080/",
     "height": 323
    },
    "colab_type": "code",
    "id": "H83o91avj94r",
    "outputId": "54df69ea-0d66-48ce-d81d-313f60a76146"
   },
   "outputs": [
    {
     "data": {
      "text/plain": [
       "Index(['Id', 'MSSubClass', 'MSZoning', 'LotFrontage', 'LotArea', 'Street',\n",
       "       'Alley', 'LotShape', 'LandContour', 'Utilities', 'LotConfig',\n",
       "       'LandSlope', 'Neighborhood', 'Condition1', 'Condition2', 'BldgType',\n",
       "       'HouseStyle', 'OverallQual', 'OverallCond', 'YearBuilt', 'YearRemodAdd',\n",
       "       'RoofStyle', 'RoofMatl', 'Exterior1st', 'Exterior2nd', 'MasVnrType',\n",
       "       'MasVnrArea', 'ExterQual', 'ExterCond', 'Foundation', 'BsmtQual',\n",
       "       'BsmtCond', 'BsmtExposure', 'BsmtFinType1', 'BsmtFinSF1',\n",
       "       'BsmtFinType2', 'BsmtFinSF2', 'BsmtUnfSF', 'TotalBsmtSF', 'Heating',\n",
       "       'HeatingQC', 'CentralAir', 'Electrical', '1stFlrSF', '2ndFlrSF',\n",
       "       'LowQualFinSF', 'GrLivArea', 'BsmtFullBath', 'BsmtHalfBath', 'FullBath',\n",
       "       'HalfBath', 'BedroomAbvGr', 'KitchenAbvGr', 'KitchenQual',\n",
       "       'TotRmsAbvGrd', 'Functional', 'Fireplaces', 'FireplaceQu', 'GarageType',\n",
       "       'GarageYrBlt', 'GarageFinish', 'GarageCars', 'GarageArea', 'GarageQual',\n",
       "       'GarageCond', 'PavedDrive', 'WoodDeckSF', 'OpenPorchSF',\n",
       "       'EnclosedPorch', '3SsnPorch', 'ScreenPorch', 'PoolArea', 'PoolQC',\n",
       "       'Fence', 'MiscFeature', 'MiscVal', 'MoSold', 'YrSold', 'SaleType',\n",
       "       'SaleCondition', 'SalePrice'],\n",
       "      dtype='object')"
      ]
     },
     "execution_count": 5,
     "metadata": {
      "tags": []
     },
     "output_type": "execute_result"
    }
   ],
   "source": [
    "df_house_price.columns"
   ]
  },
  {
   "cell_type": "code",
   "execution_count": 6,
   "metadata": {
    "colab": {
     "base_uri": "https://localhost:8080/",
     "height": 34
    },
    "colab_type": "code",
    "id": "65dpDRAqmD4s",
    "outputId": "572006c5-a0f9-472d-d1f4-0d34c4b98c8a"
   },
   "outputs": [
    {
     "data": {
      "text/plain": [
       "(1460, 81)"
      ]
     },
     "execution_count": 6,
     "metadata": {
      "tags": []
     },
     "output_type": "execute_result"
    }
   ],
   "source": [
    "df_house_price.shape"
   ]
  },
  {
   "cell_type": "markdown",
   "metadata": {
    "colab_type": "text",
    "id": "bJh0kk4jEo-s"
   },
   "source": [
    "df_house_price has 81 columns (79 features + id and target SalePrice) and 1460 entries (number of rows or house sales)"
   ]
  },
  {
   "cell_type": "code",
   "execution_count": 7,
   "metadata": {
    "colab": {
     "base_uri": "https://localhost:8080/",
     "height": 51
    },
    "colab_type": "code",
    "id": "XqR-Zlt3q1MP",
    "outputId": "aedb3097-ed00-4384-a721-51909a7ac2be"
   },
   "outputs": [
    {
     "name": "stdout",
     "output_type": "stream",
     "text": [
      "Number of Numerical features:  38\n",
      "Number of Categorical features:  43\n"
     ]
    }
   ],
   "source": [
    "numerical_var = df_house_price.dtypes[df_house_price.dtypes != \"object\"].index\n",
    "print(\"Number of Numerical features: \", len(numerical_var))\n",
    "\n",
    "categorical_var = df_house_price.dtypes[df_house_price.dtypes == \"object\"]\n",
    "print(\"Number of Categorical features: \", len(categorical_var))"
   ]
  },
  {
   "cell_type": "markdown",
   "metadata": {
    "colab_type": "text",
    "id": "TTrZXZIYcUY9"
   },
   "source": [
    "The main check points would be the correlation between the numeric variables and target variable with multicollinearity."
   ]
  },
  {
   "cell_type": "code",
   "execution_count": 8,
   "metadata": {
    "colab": {
     "base_uri": "https://localhost:8080/",
     "height": 765
    },
    "colab_type": "code",
    "id": "ww0H2AijURGV",
    "outputId": "fcfc88ee-b858-40d7-cc08-ac567db10942"
   },
   "outputs": [
    {
     "data": {
      "image/png": "[encoded data removed]",
      "text/plain": [
       "<Figure size 1440x864 with 2 Axes>"
      ]
     },
     "metadata": {
      "tags": []
     },
     "output_type": "display_data"
    }
   ],
   "source": [
    "#filter numeric column only \n",
    "data_num = df_house_price[numerical_var]\n",
    "\n",
    "#calculating correlation among numeric variable \n",
    "corr_matrix = data_num.corr() \n",
    "\n",
    "#filter correlation values above 0.5\n",
    "filter_corr = corr_matrix[corr_matrix > 0.5]\n",
    "\n",
    "#plot correlation matrix\n",
    "plt.figure(figsize=(20,12))\n",
    "sns.heatmap(filter_corr,\n",
    "            cmap='coolwarm',\n",
    "            annot=True);"
   ]
  },
  {
   "cell_type": "markdown",
   "metadata": {
    "colab_type": "text",
    "id": "Plc0Vr6_ahJp"
   },
   "source": [
    "Based on the above correlation matrix, correlation among the variables been observed. For example, \n",
    "\"SalePrice\" are correlated with \"OverallQual\" , \"YearBuilt\", \"YearRemodAdd\", \"TotalBsmtSF\", \"1stFlrSF\", \"GrLivArea\", \"FullBath\", \"TotRmsAbvGrd\", \"GarageCars\", and \"GarageArea\". \n",
    "\n",
    "It also show the multicollinearity. For example: the correlation between GarageCars and GarageArea is very high (0.88)\n",
    "\n"
   ]
  },
  {
   "cell_type": "markdown",
   "metadata": {
    "colab_type": "text",
    "id": "-IXQzLNYnm1k"
   },
   "source": [
    "### SalePrice\n"
   ]
  },
  {
   "cell_type": "code",
   "execution_count": 9,
   "metadata": {
    "colab": {
     "base_uri": "https://localhost:8080/",
     "height": 296
    },
    "colab_type": "code",
    "id": "upM2zMprmTbK",
    "outputId": "4b764a2d-420d-49a3-ca67-820f9ac6c0c8"
   },
   "outputs": [
    {
     "data": {
      "text/plain": [
       "<matplotlib.axes._subplots.AxesSubplot at 0x7f567e368828>"
      ]
     },
     "execution_count": 9,
     "metadata": {
      "tags": []
     },
     "output_type": "execute_result"
    },
    {
     "data": {
      "image/png": "[encoded data removed]",
      "text/plain": [
       "<Figure size 432x288 with 1 Axes>"
      ]
     },
     "metadata": {
      "tags": []
     },
     "output_type": "display_data"
    }
   ],
   "source": [
    "sns.distplot(df_house_price['SalePrice'])"
   ]
  },
  {
   "cell_type": "markdown",
   "metadata": {
    "colab_type": "text",
    "id": "6HLt3c-P1esP"
   },
   "source": [
    "From the above result, We can notice that values of \"SalePrice\" are not a normal distribution. It is positively skewed.\n",
    "\n",
    "A Few people have very expensive house"
   ]
  },
  {
   "cell_type": "markdown",
   "metadata": {
    "colab_type": "text",
    "id": "z6waBfEC3WBQ"
   },
   "source": [
    "### Relationship with numerical variables\n"
   ]
  },
  {
   "cell_type": "markdown",
   "metadata": {
    "colab_type": "text",
    "id": "cHEucwdpf9BO"
   },
   "source": [
    "### Overall Quality"
   ]
  },
  {
   "cell_type": "code",
   "execution_count": 10,
   "metadata": {
    "colab": {
     "base_uri": "https://localhost:8080/",
     "height": 320
    },
    "colab_type": "code",
    "id": "6kza-dqScQOI",
    "outputId": "aafac468-4fc6-4382-e41b-75aeb675111c"
   },
   "outputs": [
    {
     "name": "stderr",
     "output_type": "stream",
     "text": [
      "'c' argument looks like a single numeric RGB or RGBA sequence, which should be avoided as value-mapping will have precedence in case its length matches with 'x' & 'y'.  Please use a 2-D array with a single row if you really want to specify the same RGB or RGBA value for all points.\n"
     ]
    },
    {
     "data": {
      "image/png": "[encoded data removed]",
      "text/plain": [
       "<Figure size 432x288 with 1 Axes>"
      ]
     },
     "metadata": {
      "tags": []
     },
     "output_type": "display_data"
    }
   ],
   "source": [
    "#scatter plot OverallQual/saleprice\n",
    "data = pd.concat([df_house_price[\"SalePrice\"], df_house_price[\"OverallQual\"]],axis=1)\n",
    "data.plot.scatter(x=\"OverallQual\", y=\"SalePrice\", ylim=(0,800000));"
   ]
  },
  {
   "cell_type": "markdown",
   "metadata": {
    "colab_type": "text",
    "id": "PV9HvD4pgQCl"
   },
   "source": [
    "From the above result, We can say that the price of the house will be when the overall quality of the house is high. We can notice that for the same quality different price. Why?.\n",
    "\"SalePrice\" is correlated with other variables and \"OverallQual\" might be correlated with other variables. "
   ]
  },
  {
   "cell_type": "markdown",
   "metadata": {
    "colab_type": "text",
    "id": "2oKshLQsjOML"
   },
   "source": [
    "### Year Built\n"
   ]
  },
  {
   "cell_type": "code",
   "execution_count": 11,
   "metadata": {
    "colab": {
     "base_uri": "https://localhost:8080/",
     "height": 320
    },
    "colab_type": "code",
    "id": "-dGRjKb9jhH3",
    "outputId": "116bce14-c960-41bd-f201-cb169b8847b6"
   },
   "outputs": [
    {
     "name": "stderr",
     "output_type": "stream",
     "text": [
      "'c' argument looks like a single numeric RGB or RGBA sequence, which should be avoided as value-mapping will have precedence in case its length matches with 'x' & 'y'.  Please use a 2-D array with a single row if you really want to specify the same RGB or RGBA value for all points.\n"
     ]
    },
    {
     "data": {
      "image/png": "[encoded data removed]",
      "text/plain": [
       "<Figure size 432x288 with 1 Axes>"
      ]
     },
     "metadata": {
      "tags": []
     },
     "output_type": "display_data"
    }
   ],
   "source": [
    "#scatter plot YearBuilt/saleprice\n",
    "data = pd.concat([df_house_price[\"SalePrice\"], df_house_price[\"YearBuilt\"]],axis=1)\n",
    "data.plot.scatter(x=\"YearBuilt\", y=\"SalePrice\", ylim=(0,800000));\n"
   ]
  },
  {
   "cell_type": "markdown",
   "metadata": {
    "colab_type": "text",
    "id": "THp0j5Oej8Q7"
   },
   "source": [
    "From the above plot, we can observe that the price of a house is comparatively more than the house was built recently. We also can notice that there are some outlier which means even if the house is too old, the price of the house is moderately high due to influences of other variables."
   ]
  },
  {
   "cell_type": "markdown",
   "metadata": {
    "colab_type": "text",
    "id": "eeqgs8poXkKZ"
   },
   "source": [
    "### Ground Living Area"
   ]
  },
  {
   "cell_type": "code",
   "execution_count": 12,
   "metadata": {
    "colab": {
     "base_uri": "https://localhost:8080/",
     "height": 320
    },
    "colab_type": "code",
    "id": "tE5Eil0g3Ui2",
    "outputId": "22f06cc2-a6f9-4328-a4ab-6e4d86315d4b"
   },
   "outputs": [
    {
     "name": "stderr",
     "output_type": "stream",
     "text": [
      "'c' argument looks like a single numeric RGB or RGBA sequence, which should be avoided as value-mapping will have precedence in case its length matches with 'x' & 'y'.  Please use a 2-D array with a single row if you really want to specify the same RGB or RGBA value for all points.\n"
     ]
    },
    {
     "data": {
      "image/png": "[encoded data removed]",
      "text/plain": [
       "<Figure size 432x288 with 1 Axes>"
      ]
     },
     "metadata": {
      "tags": []
     },
     "output_type": "display_data"
    }
   ],
   "source": [
    "#scatter plot grlivarea/saleprice\n",
    "data = pd.concat([df_house_price[\"SalePrice\"], df_house_price[\"GrLivArea\"]],axis=1)\n",
    "data.plot.scatter(x=\"GrLivArea\", y=\"SalePrice\", ylim=(0,800000));"
   ]
  },
  {
   "cell_type": "markdown",
   "metadata": {
    "colab_type": "text",
    "id": "taXapNGyD6mL"
   },
   "source": [
    "While the size of the ground living area is increasing, the price of the houses is increasing. But\n",
    "even if the ground living area is high, the price of the house is low and when the ground living area is high, the price of the house is too high. Why?. \n",
    "\n",
    "We know the influence of other variables affects the price change of house.\n",
    "\n",
    "When \"GrLivArea\" of a house is highly correlated with other variables, the price of the house is increasing and when \"GrLivArea\" of a house is not highly correlated with other variables, the price of the house is decreasing."
   ]
  },
  {
   "cell_type": "markdown",
   "metadata": {
    "colab_type": "text",
    "id": "YG-uBV0qD6mM"
   },
   "source": [
    "### TotalBsmtSF"
   ]
  },
  {
   "cell_type": "code",
   "execution_count": 13,
   "metadata": {
    "colab": {
     "base_uri": "https://localhost:8080/",
     "height": 320
    },
    "colab_type": "code",
    "id": "BLTS9ufBD6mN",
    "outputId": "29d9c99a-e738-40bf-8779-0d4e907c325c"
   },
   "outputs": [
    {
     "name": "stderr",
     "output_type": "stream",
     "text": [
      "'c' argument looks like a single numeric RGB or RGBA sequence, which should be avoided as value-mapping will have precedence in case its length matches with 'x' & 'y'.  Please use a 2-D array with a single row if you really want to specify the same RGB or RGBA value for all points.\n"
     ]
    },
    {
     "data": {
      "image/png": "[encoded data removed]",
      "text/plain": [
       "<Figure size 432x288 with 1 Axes>"
      ]
     },
     "metadata": {
      "tags": []
     },
     "output_type": "display_data"
    }
   ],
   "source": [
    "data = pd.concat([df_house_price[\"SalePrice\"],df_house_price[\"TotalBsmtSF\"]], axis=1)\n",
    "data.plot.scatter(x=\"TotalBsmtSF\", y=\"SalePrice\", ylim=(0,800000));"
   ]
  },
  {
   "cell_type": "markdown",
   "metadata": {
    "colab_type": "text",
    "id": "eB4cUe1bD6mR"
   },
   "source": [
    "We can notice that \"SalePrice\" and \"TotalBsmtSF\" is with a linear relationship. We can see the value of \"SalePrice\" is going straight when the value of \"TotalBsmtSF\" is 0. Total square feet of basement area of a house is high but the price of the house is low due to the influence of other variables."
   ]
  },
  {
   "cell_type": "markdown",
   "metadata": {
    "colab_type": "text",
    "id": "lMffE6WEuD3c"
   },
   "source": [
    "\n",
    "### Visualizing categorical variables with \"SalePrice\".\n"
   ]
  },
  {
   "cell_type": "markdown",
   "metadata": {
    "colab_type": "text",
    "id": "2xqWy2N-udup"
   },
   "source": [
    "### House Style"
   ]
  },
  {
   "cell_type": "code",
   "execution_count": 14,
   "metadata": {
    "colab": {
     "base_uri": "https://localhost:8080/",
     "height": 557
    },
    "colab_type": "code",
    "id": "-f8gHigftxMi",
    "outputId": "bb1d9131-40c8-46f6-c6b9-8a8303968315"
   },
   "outputs": [
    {
     "data": {
      "text/plain": [
       "<matplotlib.axes._subplots.AxesSubplot at 0x7f567c8aeb38>"
      ]
     },
     "execution_count": 14,
     "metadata": {
      "tags": []
     },
     "output_type": "execute_result"
    },
    {
     "data": {
      "image/png": "[encoded data removed]",
      "text/plain": [
       "<Figure size 576x576 with 1 Axes>"
      ]
     },
     "metadata": {
      "tags": []
     },
     "output_type": "display_data"
    }
   ],
   "source": [
    "df_house_price.boxplot(column=\"SalePrice\",        # Column to plot\n",
    "                 by= \"HouseStyle\",         # Column to split upon\n",
    "                 figsize= (8,8))"
   ]
  },
  {
   "cell_type": "markdown",
   "metadata": {
    "colab_type": "text",
    "id": "-ujBPUi2vKRZ"
   },
   "source": [
    "### Foundation"
   ]
  },
  {
   "cell_type": "code",
   "execution_count": 15,
   "metadata": {
    "colab": {
     "base_uri": "https://localhost:8080/",
     "height": 557
    },
    "colab_type": "code",
    "id": "rxatzUzru59f",
    "outputId": "d09db715-3cea-4c1f-af8b-d1ee2f52de9b"
   },
   "outputs": [
    {
     "data": {
      "text/plain": [
       "<matplotlib.axes._subplots.AxesSubplot at 0x7f567c890c18>"
      ]
     },
     "execution_count": 15,
     "metadata": {
      "tags": []
     },
     "output_type": "execute_result"
    },
    {
     "data": {
      "image/png": "[encoded data removed]",
      "text/plain": [
       "<Figure size 576x576 with 1 Axes>"
      ]
     },
     "metadata": {
      "tags": []
     },
     "output_type": "display_data"
    }
   ],
   "source": [
    "df_house_price.boxplot(column=\"SalePrice\",        # Column to plot\n",
    "                 by= \"Foundation\",         # Column to split upon\n",
    "                 figsize= (8,8))"
   ]
  },
  {
   "cell_type": "markdown",
   "metadata": {
    "colab_type": "text",
    "id": "bVNMN1dA4H0o"
   },
   "source": [
    "From the above plot, we can observe that if a house has \"Poured Concrete\" foundation, the price of the house is higher than other house prices."
   ]
  },
  {
   "cell_type": "markdown",
   "metadata": {
    "colab_type": "text",
    "id": "6PLzFF_W5JZA"
   },
   "source": [
    "### Garage Quality"
   ]
  },
  {
   "cell_type": "code",
   "execution_count": 16,
   "metadata": {
    "colab": {
     "base_uri": "https://localhost:8080/",
     "height": 557
    },
    "colab_type": "code",
    "id": "1rZ0QKUtt9Z9",
    "outputId": "39692ed9-4855-42ff-deb8-4b05aa2cf776"
   },
   "outputs": [
    {
     "data": {
      "text/plain": [
       "<matplotlib.axes._subplots.AxesSubplot at 0x7f567c765978>"
      ]
     },
     "execution_count": 16,
     "metadata": {
      "tags": []
     },
     "output_type": "execute_result"
    },
    {
     "data": {
      "image/png": "[encoded data removed]",
      "text/plain": [
       "<Figure size 576x576 with 1 Axes>"
      ]
     },
     "metadata": {
      "tags": []
     },
     "output_type": "display_data"
    }
   ],
   "source": [
    "\n",
    "df_house_price.boxplot(column=\"SalePrice\",        # Column to plot\n",
    "                 by= \"GarageQual\",         # Column to split upon\n",
    "                 figsize= (8,8))"
   ]
  },
  {
   "cell_type": "markdown",
   "metadata": {
    "colab_type": "text",
    "id": "83a_3_Em22g-"
   },
   "source": [
    "From the above plot, we can observe that if a house has a good garage, the price of the house is higher than other house prices. Some houses have an excellent garage. So the price of this kind of house is higher than all."
   ]
  },
  {
   "cell_type": "markdown",
   "metadata": {
    "colab_type": "text",
    "id": "KwKXQ7OEk1FF"
   },
   "source": [
    "So far, we have compared some variables with the target variable. We observed that what is the variables impact on target variable based EDA. If we want to reduce dimension, we can take only impact variables. This is one kind of way. Now we will use PCA to reduce the dimension of this dataset."
   ]
  },
  {
   "cell_type": "markdown",
   "metadata": {
    "colab_type": "text",
    "id": "hlp-Nn4_miIY"
   },
   "source": [
    "### Before apply PCA we have to handle missing value."
   ]
  },
  {
   "cell_type": "code",
   "execution_count": 17,
   "metadata": {
    "colab": {
     "base_uri": "https://localhost:8080/",
     "height": 669
    },
    "colab_type": "code",
    "id": "Gh6NsedkvvKt",
    "outputId": "eb96d1b6-9edf-4590-8917-644dcd572165"
   },
   "outputs": [
    {
     "data": {
      "text/html": [
       "<div>\n",
       "<style scoped>\n",
       "    .dataframe tbody tr th:only-of-type {\n",
       "        vertical-align: middle;\n",
       "    }\n",
       "\n",
       "    .dataframe tbody tr th {\n",
       "        vertical-align: top;\n",
       "    }\n",
       "\n",
       "    .dataframe thead th {\n",
       "        text-align: right;\n",
       "    }\n",
       "</style>\n",
       "<table border=\"1\" class=\"dataframe\">\n",
       "  <thead>\n",
       "    <tr style=\"text-align: right;\">\n",
       "      <th></th>\n",
       "      <th>Total</th>\n",
       "      <th>Percent</th>\n",
       "    </tr>\n",
       "  </thead>\n",
       "  <tbody>\n",
       "    <tr>\n",
       "      <th>PoolQC</th>\n",
       "      <td>1453</td>\n",
       "      <td>0.995205</td>\n",
       "    </tr>\n",
       "    <tr>\n",
       "      <th>MiscFeature</th>\n",
       "      <td>1406</td>\n",
       "      <td>0.963014</td>\n",
       "    </tr>\n",
       "    <tr>\n",
       "      <th>Alley</th>\n",
       "      <td>1369</td>\n",
       "      <td>0.937671</td>\n",
       "    </tr>\n",
       "    <tr>\n",
       "      <th>Fence</th>\n",
       "      <td>1179</td>\n",
       "      <td>0.807534</td>\n",
       "    </tr>\n",
       "    <tr>\n",
       "      <th>FireplaceQu</th>\n",
       "      <td>690</td>\n",
       "      <td>0.472603</td>\n",
       "    </tr>\n",
       "    <tr>\n",
       "      <th>LotFrontage</th>\n",
       "      <td>259</td>\n",
       "      <td>0.177397</td>\n",
       "    </tr>\n",
       "    <tr>\n",
       "      <th>GarageCond</th>\n",
       "      <td>81</td>\n",
       "      <td>0.055479</td>\n",
       "    </tr>\n",
       "    <tr>\n",
       "      <th>GarageType</th>\n",
       "      <td>81</td>\n",
       "      <td>0.055479</td>\n",
       "    </tr>\n",
       "    <tr>\n",
       "      <th>GarageYrBlt</th>\n",
       "      <td>81</td>\n",
       "      <td>0.055479</td>\n",
       "    </tr>\n",
       "    <tr>\n",
       "      <th>GarageFinish</th>\n",
       "      <td>81</td>\n",
       "      <td>0.055479</td>\n",
       "    </tr>\n",
       "    <tr>\n",
       "      <th>GarageQual</th>\n",
       "      <td>81</td>\n",
       "      <td>0.055479</td>\n",
       "    </tr>\n",
       "    <tr>\n",
       "      <th>BsmtExposure</th>\n",
       "      <td>38</td>\n",
       "      <td>0.026027</td>\n",
       "    </tr>\n",
       "    <tr>\n",
       "      <th>BsmtFinType2</th>\n",
       "      <td>38</td>\n",
       "      <td>0.026027</td>\n",
       "    </tr>\n",
       "    <tr>\n",
       "      <th>BsmtFinType1</th>\n",
       "      <td>37</td>\n",
       "      <td>0.025342</td>\n",
       "    </tr>\n",
       "    <tr>\n",
       "      <th>BsmtCond</th>\n",
       "      <td>37</td>\n",
       "      <td>0.025342</td>\n",
       "    </tr>\n",
       "    <tr>\n",
       "      <th>BsmtQual</th>\n",
       "      <td>37</td>\n",
       "      <td>0.025342</td>\n",
       "    </tr>\n",
       "    <tr>\n",
       "      <th>MasVnrArea</th>\n",
       "      <td>8</td>\n",
       "      <td>0.005479</td>\n",
       "    </tr>\n",
       "    <tr>\n",
       "      <th>MasVnrType</th>\n",
       "      <td>8</td>\n",
       "      <td>0.005479</td>\n",
       "    </tr>\n",
       "    <tr>\n",
       "      <th>Electrical</th>\n",
       "      <td>1</td>\n",
       "      <td>0.000685</td>\n",
       "    </tr>\n",
       "    <tr>\n",
       "      <th>Utilities</th>\n",
       "      <td>0</td>\n",
       "      <td>0.000000</td>\n",
       "    </tr>\n",
       "  </tbody>\n",
       "</table>\n",
       "</div>"
      ],
      "text/plain": [
       "              Total   Percent\n",
       "PoolQC         1453  0.995205\n",
       "MiscFeature    1406  0.963014\n",
       "Alley          1369  0.937671\n",
       "Fence          1179  0.807534\n",
       "FireplaceQu     690  0.472603\n",
       "LotFrontage     259  0.177397\n",
       "GarageCond       81  0.055479\n",
       "GarageType       81  0.055479\n",
       "GarageYrBlt      81  0.055479\n",
       "GarageFinish     81  0.055479\n",
       "GarageQual       81  0.055479\n",
       "BsmtExposure     38  0.026027\n",
       "BsmtFinType2     38  0.026027\n",
       "BsmtFinType1     37  0.025342\n",
       "BsmtCond         37  0.025342\n",
       "BsmtQual         37  0.025342\n",
       "MasVnrArea        8  0.005479\n",
       "MasVnrType        8  0.005479\n",
       "Electrical        1  0.000685\n",
       "Utilities         0  0.000000"
      ]
     },
     "execution_count": 17,
     "metadata": {
      "tags": []
     },
     "output_type": "execute_result"
    }
   ],
   "source": [
    "#missing data\n",
    "total_missing_value = df_house_price.isnull().sum().sort_values(ascending=False)\n",
    "percent_of_missign_value = (df_house_price.isnull().sum()/df_house_price.isnull().count()).sort_values(ascending=False)\n",
    "missing_data = pd.concat([total_missing_value, percent_of_missign_value], axis=1, keys=['Total', 'Percent'])\n",
    "missing_data.head(20)"
   ]
  },
  {
   "cell_type": "markdown",
   "metadata": {
    "colab_type": "text",
    "id": "WNtruSfhD6mV"
   },
   "source": [
    "From above plot, We can see that which variable is correlated with \"SalePrice\"."
   ]
  },
  {
   "cell_type": "markdown",
   "metadata": {
    "colab_type": "text",
    "id": "FjcLpwhsD6mV"
   },
   "source": [
    "### Imputing missing values"
   ]
  },
  {
   "cell_type": "markdown",
   "metadata": {
    "colab_type": "text",
    "id": "xR12tO7UD6mW"
   },
   "source": [
    "PooQC: Data description says NA means \"No Pool\". In this data set, it has huge ratio of missing value(99%) and majority of houses have no Pool at all in general."
   ]
  },
  {
   "cell_type": "code",
   "execution_count": 0,
   "metadata": {
    "colab": {},
    "colab_type": "code",
    "id": "1xFOtvykD6mX"
   },
   "outputs": [],
   "source": [
    "df_house_price[\"PoolQC\"] = df_house_price[\"PoolQC\"].fillna(\"None\")"
   ]
  },
  {
   "cell_type": "markdown",
   "metadata": {
    "colab_type": "text",
    "id": "tL13Zl4KD6mc"
   },
   "source": [
    "### MiscFeature"
   ]
  },
  {
   "cell_type": "markdown",
   "metadata": {
    "colab_type": "text",
    "id": "q0KRaVQwD6mf"
   },
   "source": [
    "Data description says NA means \"no misc feature\""
   ]
  },
  {
   "cell_type": "code",
   "execution_count": 0,
   "metadata": {
    "colab": {},
    "colab_type": "code",
    "id": "ghzCdIG_D6mg"
   },
   "outputs": [],
   "source": [
    "df_house_price[\"MiscFeature\"] = df_house_price[\"MiscFeature\"].fillna(\"None\")"
   ]
  },
  {
   "cell_type": "markdown",
   "metadata": {
    "colab_type": "text",
    "id": "fDi5GC2LD6mi"
   },
   "source": [
    "### Alley"
   ]
  },
  {
   "cell_type": "markdown",
   "metadata": {
    "colab_type": "text",
    "id": "7xZCSk8MD6mj"
   },
   "source": [
    "Data description says NA means \"no alley access\""
   ]
  },
  {
   "cell_type": "code",
   "execution_count": 0,
   "metadata": {
    "colab": {},
    "colab_type": "code",
    "id": "QgR9UDXhD6mk"
   },
   "outputs": [],
   "source": [
    "df_house_price[\"Alley\"] = df_house_price[\"Alley\"].fillna(\"None\")"
   ]
  },
  {
   "cell_type": "markdown",
   "metadata": {
    "colab_type": "text",
    "id": "GPpr6qW7D6mm"
   },
   "source": [
    "### Fence"
   ]
  },
  {
   "cell_type": "markdown",
   "metadata": {
    "colab_type": "text",
    "id": "t_aGH4p0D6mn"
   },
   "source": [
    "This column has NA value means \"no fence\""
   ]
  },
  {
   "cell_type": "code",
   "execution_count": 0,
   "metadata": {
    "colab": {},
    "colab_type": "code",
    "id": "g8knsm4nD6mo"
   },
   "outputs": [],
   "source": [
    "df_house_price[\"Fence\"] = df_house_price[\"Fence\"].fillna(\"None\")"
   ]
  },
  {
   "cell_type": "markdown",
   "metadata": {
    "colab_type": "text",
    "id": "XkMwYsylD6mp"
   },
   "source": [
    "### FireplaceQu"
   ]
  },
  {
   "cell_type": "markdown",
   "metadata": {
    "colab_type": "text",
    "id": "SzFvl_YCD6mq"
   },
   "source": [
    "This column has NA means \"no fireplace\""
   ]
  },
  {
   "cell_type": "code",
   "execution_count": 0,
   "metadata": {
    "colab": {},
    "colab_type": "code",
    "id": "x530ItPTD6mr"
   },
   "outputs": [],
   "source": [
    "df_house_price[\"FireplaceQu\"] = df_house_price[\"FireplaceQu\"].fillna(\"None\")"
   ]
  },
  {
   "cell_type": "markdown",
   "metadata": {
    "colab_type": "text",
    "id": "yZydsP79D6mt"
   },
   "source": [
    "### LotFrontage"
   ]
  },
  {
   "cell_type": "markdown",
   "metadata": {
    "colab_type": "text",
    "id": "4Yufc9FAD6mt"
   },
   "source": [
    "The area of each street connected to the house property most likely have a similar area to other houses in its neighborhood. So we can fill in missing values by the median LotFrontage of the neighborhood."
   ]
  },
  {
   "cell_type": "code",
   "execution_count": 0,
   "metadata": {
    "colab": {},
    "colab_type": "code",
    "id": "ObWo4cWND6mu"
   },
   "outputs": [],
   "source": [
    "df_house_price[\"LotFrontage\"] = df_house_price.groupby(\"Neighborhood\")[\"LotFrontage\"].transform(lambda x: x.fillna(x.median()))"
   ]
  },
  {
   "cell_type": "markdown",
   "metadata": {
    "colab_type": "text",
    "id": "q-8lMAVXD6mw"
   },
   "source": [
    "### GarageType, GarageFinish, GarageQual and GarageCond : Replacing missing data with None\n"
   ]
  },
  {
   "cell_type": "code",
   "execution_count": 0,
   "metadata": {
    "colab": {},
    "colab_type": "code",
    "id": "edAadbHyD6mx"
   },
   "outputs": [],
   "source": [
    "for i in ('GarageType', 'GarageFinish', 'GarageQual', 'GarageCond'):\n",
    "    df_house_price[i] = df_house_price[i].fillna('None')"
   ]
  },
  {
   "cell_type": "markdown",
   "metadata": {
    "colab_type": "text",
    "id": "Q60KY8A5D6mz"
   },
   "source": [
    "### GarageYrBlt, GarageArea and GarageCars : Replacing missing data with 0 (Since No garage = no cars in such garage.)\n"
   ]
  },
  {
   "cell_type": "code",
   "execution_count": 0,
   "metadata": {
    "colab": {},
    "colab_type": "code",
    "id": "dJCTgrtyD6m0"
   },
   "outputs": [],
   "source": [
    "for i in ('GarageYrBlt', 'GarageArea', 'GarageCars'):\n",
    "    df_house_price[i] = df_house_price[i].fillna(0)"
   ]
  },
  {
   "cell_type": "markdown",
   "metadata": {
    "colab_type": "text",
    "id": "JsPHHnM8D6m3"
   },
   "source": [
    "BsmtFinSF1, BsmtFinSF2, BsmtUnfSF, TotalBsmtSF, BsmtFullBath and BsmtHalfBath : missing values are likely zero for having no basement"
   ]
  },
  {
   "cell_type": "markdown",
   "metadata": {
    "colab_type": "text",
    "id": "MnNuaO6UD6m4"
   },
   "source": [
    "for i in ('BsmtFinSF1', 'BsmtFinSF2', 'BsmtUnfSF','TotalBsmtSF', 'BsmtFullBath', 'BsmtHalfBath'):\n",
    "    df_house_price[i] = df_house_price[i].fillna(0)"
   ]
  },
  {
   "cell_type": "markdown",
   "metadata": {
    "colab_type": "text",
    "id": "mMn3w-VED6m5"
   },
   "source": [
    "BsmtQual, BsmtCond, BsmtExposure, BsmtFinType1 and BsmtFinType2 : For all these categorical basement-related features, NaN means that there is no basement."
   ]
  },
  {
   "cell_type": "code",
   "execution_count": 0,
   "metadata": {
    "colab": {},
    "colab_type": "code",
    "id": "CoxsQegwD6m6"
   },
   "outputs": [],
   "source": [
    "for i in ('BsmtQual', 'BsmtCond', 'BsmtExposure', 'BsmtFinType1', 'BsmtFinType2'):\n",
    "    df_house_price[i] = df_house_price[i].fillna('None')"
   ]
  },
  {
   "cell_type": "markdown",
   "metadata": {
    "colab_type": "text",
    "id": "ggIpjIz5D6m8"
   },
   "source": [
    "MasVnrArea and MasVnrType : NA most likely means no masonry veneer for these houses. We can fill 0 for the area and None for the type."
   ]
  },
  {
   "cell_type": "code",
   "execution_count": 0,
   "metadata": {
    "colab": {},
    "colab_type": "code",
    "id": "fNk4BmecD6m8"
   },
   "outputs": [],
   "source": [
    "df_house_price[\"MasVnrType\"] = df_house_price[\"MasVnrType\"].fillna(\"None\")\n",
    "df_house_price[\"MasVnrArea\"] = df_house_price[\"MasVnrArea\"].fillna(0)"
   ]
  },
  {
   "cell_type": "markdown",
   "metadata": {
    "colab_type": "text",
    "id": "fk2AAqjfD6m_"
   },
   "source": [
    "MSZoning (The general zoning classification) : 'RL' is by far the most common value. So we can fill in missing values with 'RL'"
   ]
  },
  {
   "cell_type": "code",
   "execution_count": 0,
   "metadata": {
    "colab": {},
    "colab_type": "code",
    "id": "zpRDsS9HD6nA"
   },
   "outputs": [],
   "source": [
    "df_house_price['MSZoning'] = df_house_price['MSZoning'].fillna(df_house_price['MSZoning'].mode()[0])\n"
   ]
  },
  {
   "cell_type": "markdown",
   "metadata": {
    "colab_type": "text",
    "id": "ZpFCudOeD6nE"
   },
   "source": [
    "Utilities : For this categorical feature all records are \"AllPub\", except for one \"NoSeWa\" and 2 NA . Since the house with 'NoSewa' is in the training set, this feature won't help in predictive modelling. We can then safely remove it.\n"
   ]
  },
  {
   "cell_type": "code",
   "execution_count": 0,
   "metadata": {
    "colab": {},
    "colab_type": "code",
    "id": "yXwKgeu7D6nE"
   },
   "outputs": [],
   "source": [
    "df_house_price = df_house_price.drop(['Utilities'], axis=1)\n"
   ]
  },
  {
   "cell_type": "markdown",
   "metadata": {
    "colab_type": "text",
    "id": "KbiWTzSzD6nH"
   },
   "source": [
    "Functional : data description says NA means typical"
   ]
  },
  {
   "cell_type": "code",
   "execution_count": 0,
   "metadata": {
    "colab": {},
    "colab_type": "code",
    "id": "6t-blmESD6nH"
   },
   "outputs": [],
   "source": [
    "df_house_price[\"Functional\"] = df_house_price[\"Functional\"].fillna(\"Typ\")"
   ]
  },
  {
   "cell_type": "markdown",
   "metadata": {
    "colab_type": "text",
    "id": "WNkuuOLZD6nJ"
   },
   "source": [
    "Electrical : It has one NA value. Since this feature has mostly 'SBrkr', we can set that for the missing value"
   ]
  },
  {
   "cell_type": "code",
   "execution_count": 0,
   "metadata": {
    "colab": {},
    "colab_type": "code",
    "id": "QW8-GRFBD6nJ"
   },
   "outputs": [],
   "source": [
    "df_house_price['Electrical'] = df_house_price['Electrical'].fillna(df_house_price['Electrical'].mode()[0])"
   ]
  },
  {
   "cell_type": "markdown",
   "metadata": {
    "colab_type": "text",
    "id": "w9q0i8dLD6nL"
   },
   "source": [
    "KitchenQual: Only one NA value, and same as Electrical, we set 'TA' (which is the most frequent) for the missing value in KitchenQual."
   ]
  },
  {
   "cell_type": "code",
   "execution_count": 0,
   "metadata": {
    "colab": {},
    "colab_type": "code",
    "id": "BdglCVUdD6nL"
   },
   "outputs": [],
   "source": [
    "df_house_price['KitchenQual'] = df_house_price['KitchenQual'].fillna(df_house_price['KitchenQual'].mode()[0])"
   ]
  },
  {
   "cell_type": "markdown",
   "metadata": {
    "colab_type": "text",
    "id": "vvKikWOBD6nN"
   },
   "source": [
    "Exterior1st and Exterior2nd : Again Both Exterior 1 & 2 have only one missing value. We will just substitute in the most common string"
   ]
  },
  {
   "cell_type": "code",
   "execution_count": 0,
   "metadata": {
    "colab": {},
    "colab_type": "code",
    "id": "A4kwXZYED6nN"
   },
   "outputs": [],
   "source": [
    "df_house_price['Exterior1st'] = df_house_price['Exterior1st'].fillna(df_house_price['Exterior1st'].mode()[0])\n",
    "df_house_price['Exterior2nd'] = df_house_price['Exterior2nd'].fillna(df_house_price['Exterior2nd'].mode()[0])"
   ]
  },
  {
   "cell_type": "markdown",
   "metadata": {
    "colab_type": "text",
    "id": "-7hnKaroD6nQ"
   },
   "source": [
    "SaleType : Fill in again with most frequent which is \"WD\""
   ]
  },
  {
   "cell_type": "code",
   "execution_count": 0,
   "metadata": {
    "colab": {},
    "colab_type": "code",
    "id": "1IKVlhLID6nT"
   },
   "outputs": [],
   "source": [
    "df_house_price['SaleType'] = df_house_price['SaleType'].fillna(df_house_price['SaleType'].mode()[0])"
   ]
  },
  {
   "cell_type": "markdown",
   "metadata": {
    "colab_type": "text",
    "id": "OnWLDlJmD6nV"
   },
   "source": [
    "MSSubClass : Na most likely means No building class. We can replace missing values with None"
   ]
  },
  {
   "cell_type": "code",
   "execution_count": 0,
   "metadata": {
    "colab": {},
    "colab_type": "code",
    "id": "2EZaFeaqD6nV"
   },
   "outputs": [],
   "source": [
    "df_house_price['MSSubClass'] = df_house_price['MSSubClass'].fillna(\"None\")"
   ]
  },
  {
   "cell_type": "code",
   "execution_count": 0,
   "metadata": {
    "colab": {},
    "colab_type": "code",
    "id": "DwiZ523mD6nX"
   },
   "outputs": [],
   "source": [
    "categorical_var = df_house_price.dtypes[df_house_price.dtypes == \"object\"]"
   ]
  },
  {
   "cell_type": "markdown",
   "metadata": {
    "colab_type": "text",
    "id": "n6f4PFG5D6nd"
   },
   "source": [
    "Transforming some numerical variables that are really categorical"
   ]
  },
  {
   "cell_type": "code",
   "execution_count": 37,
   "metadata": {
    "colab": {
     "base_uri": "https://localhost:8080/",
     "height": 34
    },
    "colab_type": "code",
    "id": "yDeZO4ZBD6nd",
    "outputId": "2fdda9d0-68fd-45f4-cf8c-c512d70e1207"
   },
   "outputs": [
    {
     "data": {
      "text/plain": [
       "dtype('int64')"
      ]
     },
     "execution_count": 37,
     "metadata": {
      "tags": []
     },
     "output_type": "execute_result"
    }
   ],
   "source": [
    "df_house_price['OverallCond'].dtype"
   ]
  },
  {
   "cell_type": "markdown",
   "metadata": {
    "colab_type": "text",
    "id": "cl4QZspAD6ng"
   },
   "source": [
    "If we take the variable \"OverallCond\" which represents rates the overall condition of the house. So value of this column is from 1 to 10.\n",
    "\n",
    "       10\tVery Excellent\n",
    "       9\tExcellent\n",
    "       8\tVery Good\n",
    "       7\tGood\n",
    "       6\tAbove Average\t\n",
    "       5\tAverage\n",
    "       4\tBelow Average\t\n",
    "       3\tFair\n",
    "       2\tPoor\n",
    "       1\tVery Poor\n",
    "       \n",
    "The datatype of this column is in \"int64\", but it should be in categorical. \n",
    "\n",
    "So we handle like this column."
   ]
  },
  {
   "cell_type": "code",
   "execution_count": 0,
   "metadata": {
    "colab": {},
    "colab_type": "code",
    "id": "SAcPV-MtD6nh"
   },
   "outputs": [],
   "source": [
    "#Changing OverallCond into a categorical variable\n",
    "df_house_price['OverallCond'] = df_house_price['OverallCond'].astype(str)"
   ]
  },
  {
   "cell_type": "code",
   "execution_count": 0,
   "metadata": {
    "colab": {},
    "colab_type": "code",
    "id": "gx0jpIl9D6nk"
   },
   "outputs": [],
   "source": [
    "#MSSubClass=The building class\n",
    "df_house_price['MSSubClass'] = df_house_price['MSSubClass'].apply(str)"
   ]
  },
  {
   "cell_type": "code",
   "execution_count": 0,
   "metadata": {
    "colab": {},
    "colab_type": "code",
    "id": "ySKTKaB6D6nn"
   },
   "outputs": [],
   "source": [
    "#Year and month sold are transformed into categorical features.\n",
    "df_house_price['YrSold'] = df_house_price['YrSold'].astype(str)\n",
    "df_house_price['MoSold'] = df_house_price['MoSold'].astype(str)"
   ]
  },
  {
   "cell_type": "markdown",
   "metadata": {
    "colab_type": "text",
    "id": "kQVwS7LvD6np"
   },
   "source": [
    "Label Encoding some categorical variables that may contain information in their ordering set"
   ]
  },
  {
   "cell_type": "code",
   "execution_count": 0,
   "metadata": {
    "colab": {},
    "colab_type": "code",
    "id": "II7Brj2bD6nq"
   },
   "outputs": [],
   "source": [
    "from sklearn.preprocessing import LabelEncoder\n",
    "cols = ('FireplaceQu', 'BsmtQual', 'BsmtCond', 'GarageQual', 'GarageCond', \n",
    "        'ExterQual', 'ExterCond','HeatingQC', 'PoolQC', 'KitchenQual', 'BsmtFinType1', \n",
    "        'BsmtFinType2', 'Functional', 'Fence', 'BsmtExposure', 'GarageFinish', 'LandSlope',\n",
    "        'LotShape', 'PavedDrive', 'Street', 'Alley', 'CentralAir', 'MSSubClass', 'OverallCond', \n",
    "        'YrSold', 'MoSold')"
   ]
  },
  {
   "cell_type": "code",
   "execution_count": 0,
   "metadata": {
    "colab": {},
    "colab_type": "code",
    "id": "G-fOwLZJD6ns"
   },
   "outputs": [],
   "source": [
    "# process columns, apply LabelEncoder to categorical features\n",
    "for c in cols:\n",
    "    label_ec = LabelEncoder() \n",
    "    label_ec.fit(list(df_house_price[c].values)) \n",
    "    df_house_price[c] = label_ec.transform(list(df_house_price[c].values))\n"
   ]
  },
  {
   "cell_type": "code",
   "execution_count": 43,
   "metadata": {
    "colab": {
     "base_uri": "https://localhost:8080/",
     "height": 34
    },
    "colab_type": "code",
    "id": "ChnjRhCWD6nx",
    "outputId": "8d83cf0d-ce71-4c2f-bf51-f4a205f14822"
   },
   "outputs": [
    {
     "name": "stdout",
     "output_type": "stream",
     "text": [
      "(1460, 222)\n"
     ]
    }
   ],
   "source": [
    "df_house_price = pd.get_dummies(df_house_price)\n",
    "print(df_house_price.shape)"
   ]
  },
  {
   "cell_type": "code",
   "execution_count": 44,
   "metadata": {
    "colab": {
     "base_uri": "https://localhost:8080/",
     "height": 253
    },
    "colab_type": "code",
    "id": "bx0Db1KQD6n1",
    "outputId": "1c77616b-9909-4d03-b8b6-0b78fec8b3fe"
   },
   "outputs": [
    {
     "data": {
      "text/html": [
       "<div>\n",
       "<style scoped>\n",
       "    .dataframe tbody tr th:only-of-type {\n",
       "        vertical-align: middle;\n",
       "    }\n",
       "\n",
       "    .dataframe tbody tr th {\n",
       "        vertical-align: top;\n",
       "    }\n",
       "\n",
       "    .dataframe thead th {\n",
       "        text-align: right;\n",
       "    }\n",
       "</style>\n",
       "<table border=\"1\" class=\"dataframe\">\n",
       "  <thead>\n",
       "    <tr style=\"text-align: right;\">\n",
       "      <th></th>\n",
       "      <th>Id</th>\n",
       "      <th>MSSubClass</th>\n",
       "      <th>LotFrontage</th>\n",
       "      <th>LotArea</th>\n",
       "      <th>Street</th>\n",
       "      <th>Alley</th>\n",
       "      <th>LotShape</th>\n",
       "      <th>LandSlope</th>\n",
       "      <th>OverallQual</th>\n",
       "      <th>OverallCond</th>\n",
       "      <th>...</th>\n",
       "      <th>SaleType_ConLw</th>\n",
       "      <th>SaleType_New</th>\n",
       "      <th>SaleType_Oth</th>\n",
       "      <th>SaleType_WD</th>\n",
       "      <th>SaleCondition_Abnorml</th>\n",
       "      <th>SaleCondition_AdjLand</th>\n",
       "      <th>SaleCondition_Alloca</th>\n",
       "      <th>SaleCondition_Family</th>\n",
       "      <th>SaleCondition_Normal</th>\n",
       "      <th>SaleCondition_Partial</th>\n",
       "    </tr>\n",
       "  </thead>\n",
       "  <tbody>\n",
       "    <tr>\n",
       "      <th>0</th>\n",
       "      <td>1</td>\n",
       "      <td>9</td>\n",
       "      <td>65.0</td>\n",
       "      <td>8450</td>\n",
       "      <td>1</td>\n",
       "      <td>1</td>\n",
       "      <td>3</td>\n",
       "      <td>0</td>\n",
       "      <td>7</td>\n",
       "      <td>4</td>\n",
       "      <td>...</td>\n",
       "      <td>0</td>\n",
       "      <td>0</td>\n",
       "      <td>0</td>\n",
       "      <td>1</td>\n",
       "      <td>0</td>\n",
       "      <td>0</td>\n",
       "      <td>0</td>\n",
       "      <td>0</td>\n",
       "      <td>1</td>\n",
       "      <td>0</td>\n",
       "    </tr>\n",
       "    <tr>\n",
       "      <th>1</th>\n",
       "      <td>2</td>\n",
       "      <td>4</td>\n",
       "      <td>80.0</td>\n",
       "      <td>9600</td>\n",
       "      <td>1</td>\n",
       "      <td>1</td>\n",
       "      <td>3</td>\n",
       "      <td>0</td>\n",
       "      <td>6</td>\n",
       "      <td>7</td>\n",
       "      <td>...</td>\n",
       "      <td>0</td>\n",
       "      <td>0</td>\n",
       "      <td>0</td>\n",
       "      <td>1</td>\n",
       "      <td>0</td>\n",
       "      <td>0</td>\n",
       "      <td>0</td>\n",
       "      <td>0</td>\n",
       "      <td>1</td>\n",
       "      <td>0</td>\n",
       "    </tr>\n",
       "    <tr>\n",
       "      <th>2</th>\n",
       "      <td>3</td>\n",
       "      <td>9</td>\n",
       "      <td>68.0</td>\n",
       "      <td>11250</td>\n",
       "      <td>1</td>\n",
       "      <td>1</td>\n",
       "      <td>0</td>\n",
       "      <td>0</td>\n",
       "      <td>7</td>\n",
       "      <td>4</td>\n",
       "      <td>...</td>\n",
       "      <td>0</td>\n",
       "      <td>0</td>\n",
       "      <td>0</td>\n",
       "      <td>1</td>\n",
       "      <td>0</td>\n",
       "      <td>0</td>\n",
       "      <td>0</td>\n",
       "      <td>0</td>\n",
       "      <td>1</td>\n",
       "      <td>0</td>\n",
       "    </tr>\n",
       "    <tr>\n",
       "      <th>3</th>\n",
       "      <td>4</td>\n",
       "      <td>10</td>\n",
       "      <td>60.0</td>\n",
       "      <td>9550</td>\n",
       "      <td>1</td>\n",
       "      <td>1</td>\n",
       "      <td>0</td>\n",
       "      <td>0</td>\n",
       "      <td>7</td>\n",
       "      <td>4</td>\n",
       "      <td>...</td>\n",
       "      <td>0</td>\n",
       "      <td>0</td>\n",
       "      <td>0</td>\n",
       "      <td>1</td>\n",
       "      <td>1</td>\n",
       "      <td>0</td>\n",
       "      <td>0</td>\n",
       "      <td>0</td>\n",
       "      <td>0</td>\n",
       "      <td>0</td>\n",
       "    </tr>\n",
       "    <tr>\n",
       "      <th>4</th>\n",
       "      <td>5</td>\n",
       "      <td>9</td>\n",
       "      <td>84.0</td>\n",
       "      <td>14260</td>\n",
       "      <td>1</td>\n",
       "      <td>1</td>\n",
       "      <td>0</td>\n",
       "      <td>0</td>\n",
       "      <td>8</td>\n",
       "      <td>4</td>\n",
       "      <td>...</td>\n",
       "      <td>0</td>\n",
       "      <td>0</td>\n",
       "      <td>0</td>\n",
       "      <td>1</td>\n",
       "      <td>0</td>\n",
       "      <td>0</td>\n",
       "      <td>0</td>\n",
       "      <td>0</td>\n",
       "      <td>1</td>\n",
       "      <td>0</td>\n",
       "    </tr>\n",
       "  </tbody>\n",
       "</table>\n",
       "<p>5 rows × 222 columns</p>\n",
       "</div>"
      ],
      "text/plain": [
       "   Id  MSSubClass  LotFrontage  LotArea  Street  Alley  LotShape  LandSlope  \\\n",
       "0   1           9         65.0     8450       1      1         3          0   \n",
       "1   2           4         80.0     9600       1      1         3          0   \n",
       "2   3           9         68.0    11250       1      1         0          0   \n",
       "3   4          10         60.0     9550       1      1         0          0   \n",
       "4   5           9         84.0    14260       1      1         0          0   \n",
       "\n",
       "   OverallQual  OverallCond          ...            SaleType_ConLw  \\\n",
       "0            7            4          ...                         0   \n",
       "1            6            7          ...                         0   \n",
       "2            7            4          ...                         0   \n",
       "3            7            4          ...                         0   \n",
       "4            8            4          ...                         0   \n",
       "\n",
       "   SaleType_New  SaleType_Oth  SaleType_WD  SaleCondition_Abnorml  \\\n",
       "0             0             0            1                      0   \n",
       "1             0             0            1                      0   \n",
       "2             0             0            1                      0   \n",
       "3             0             0            1                      1   \n",
       "4             0             0            1                      0   \n",
       "\n",
       "   SaleCondition_AdjLand  SaleCondition_Alloca  SaleCondition_Family  \\\n",
       "0                      0                     0                     0   \n",
       "1                      0                     0                     0   \n",
       "2                      0                     0                     0   \n",
       "3                      0                     0                     0   \n",
       "4                      0                     0                     0   \n",
       "\n",
       "   SaleCondition_Normal  SaleCondition_Partial  \n",
       "0                     1                      0  \n",
       "1                     1                      0  \n",
       "2                     1                      0  \n",
       "3                     0                      0  \n",
       "4                     1                      0  \n",
       "\n",
       "[5 rows x 222 columns]"
      ]
     },
     "execution_count": 44,
     "metadata": {
      "tags": []
     },
     "output_type": "execute_result"
    }
   ],
   "source": [
    "df_house_price.head()"
   ]
  },
  {
   "cell_type": "markdown",
   "metadata": {
    "colab_type": "text",
    "id": "lRU_SBQm5oOi"
   },
   "source": [
    "Remove target variable"
   ]
  },
  {
   "cell_type": "code",
   "execution_count": 0,
   "metadata": {
    "colab": {},
    "colab_type": "code",
    "id": "vFi6JgEvD6n4"
   },
   "outputs": [],
   "source": [
    "X = df_house_price.drop('SalePrice',axis=1)  "
   ]
  },
  {
   "cell_type": "markdown",
   "metadata": {
    "colab_type": "text",
    "id": "qhMrJyYE58-S"
   },
   "source": [
    "\n",
    "### Standardizing input variables"
   ]
  },
  {
   "cell_type": "code",
   "execution_count": 0,
   "metadata": {
    "colab": {},
    "colab_type": "code",
    "id": "ZlMHoAqfD6n7"
   },
   "outputs": [],
   "source": [
    "from sklearn.preprocessing import StandardScaler  \n",
    "import numpy as np\n",
    "\n",
    "# standardized the dataset\n",
    "sc_x = StandardScaler()    \n",
    "X_std = sc_x.fit_transform(X)"
   ]
  },
  {
   "cell_type": "markdown",
   "metadata": {
    "colab_type": "text",
    "id": "WweB4gWnaLgl"
   },
   "source": [
    "#PCA from scratch using python"
   ]
  },
  {
   "cell_type": "markdown",
   "metadata": {
    "colab_type": "text",
    "id": "vYwYlTj66cTy"
   },
   "source": [
    "### 1. Computing the mean vector\n",
    "find the mean for each column"
   ]
  },
  {
   "cell_type": "code",
   "execution_count": 0,
   "metadata": {
    "colab": {},
    "colab_type": "code",
    "id": "NzVe0DhDD6n_"
   },
   "outputs": [],
   "source": [
    "import numpy as np\n",
    "mean_vec = np.mean(X_std, axis=0)"
   ]
  },
  {
   "cell_type": "markdown",
   "metadata": {
    "colab_type": "text",
    "id": "cgwr05Lk6gtF"
   },
   "source": [
    "### 2. Computing the Covariance Matrix\n",
    "find the covariance among variables\n"
   ]
  },
  {
   "cell_type": "code",
   "execution_count": 48,
   "metadata": {
    "colab": {
     "base_uri": "https://localhost:8080/",
     "height": 255
    },
    "colab_type": "code",
    "id": "7akP914PD6oA",
    "outputId": "c8679869-5913-43fa-a856-acea7e8d39dd"
   },
   "outputs": [
    {
     "name": "stdout",
     "output_type": "stream",
     "text": [
      "Covariance matrix \n",
      "[[ 1.0006854   0.01992535 -0.00338295 ...  0.00486876  0.01589233\n",
      "  -0.02075242]\n",
      " [ 0.01992535  1.0006854   0.23801249 ...  0.02782127  0.02428959\n",
      "  -0.09045685]\n",
      " [-0.00338295  0.23801249  1.0006854  ...  0.01367554 -0.07309658\n",
      "   0.12098879]\n",
      " ...\n",
      " [ 0.00486876  0.02782127  0.01367554 ...  1.0006854  -0.25217909\n",
      "  -0.03608658]\n",
      " [ 0.01589233  0.02428959 -0.07309658 ... -0.25217909  1.0006854\n",
      "  -0.6547714 ]\n",
      " [-0.02075242 -0.09045685  0.12098879 ... -0.03608658 -0.6547714\n",
      "   1.0006854 ]]\n"
     ]
    }
   ],
   "source": [
    "cov_mat = (X_std - mean_vec).T.dot((X_std - mean_vec)) / (X_std.shape[0]-1)\n",
    "print('Covariance matrix \\n%s' %cov_mat)"
   ]
  },
  {
   "cell_type": "markdown",
   "metadata": {
    "colab_type": "text",
    "id": "xPRI35D16iQC"
   },
   "source": [
    "### 3. Computing eigenvectors and corresponding eigenvalues\n",
    "find eigenvalues and eigenvectors\n"
   ]
  },
  {
   "cell_type": "code",
   "execution_count": 49,
   "metadata": {
    "colab": {
     "base_uri": "https://localhost:8080/",
     "height": 1241
    },
    "colab_type": "code",
    "id": "7vpjDJBAD6oC",
    "outputId": "34e360cc-22d0-465d-b63c-a8b7f5a642f7"
   },
   "outputs": [
    {
     "name": "stdout",
     "output_type": "stream",
     "text": [
      "Eigenvectors \n",
      "[[-1.22992607e-03  2.62246297e-03  3.08992209e-03 ... -4.22452877e-16\n",
      "   2.53815289e-16 -3.04954403e-16]\n",
      " [-2.02602159e-02 -5.41907680e-02  2.46423301e-01 ... -3.33109620e-15\n",
      "   1.26140917e-14 -1.24770050e-14]\n",
      " [ 8.56967539e-02  7.81882611e-02  1.90646820e-01 ...  3.65709268e-15\n",
      "  -2.25963029e-15 -4.93138120e-16]\n",
      " ...\n",
      " [-8.57015671e-03  5.35787772e-03  1.05832873e-02 ...  5.55925133e-02\n",
      "  -5.81930766e-03  7.66866274e-03]\n",
      " [-6.10245314e-02  7.54678153e-02  2.87484034e-02 ...  1.83526642e-01\n",
      "  -1.92111839e-02  2.53164292e-02]\n",
      " [ 1.23240525e-01 -1.08621030e-01 -5.82382188e-02 ...  1.33818360e-01\n",
      "  -1.40078252e-02  1.84594618e-02]]\n",
      "\n",
      "Eigenvalues \n",
      "[ 1.43545771e+01  6.99625620e+00  6.20668480e+00  5.05111513e+00\n",
      "  3.91489817e+00  3.73866721e+00  3.65467449e+00  3.32155997e+00\n",
      "  3.23279454e+00  3.03093380e+00  2.83012146e+00  2.72704563e+00\n",
      "  2.65547015e+00  2.58476159e+00  2.54702694e+00  2.41278490e+00\n",
      "  2.33801737e+00  2.33193605e+00  2.24155349e+00  2.18739592e+00\n",
      "  2.16766101e+00  2.11218014e+00  2.07644803e+00  2.01761823e+00\n",
      "  1.99770545e+00  1.93061305e+00  1.91931425e+00  1.91152801e+00\n",
      "  1.89033034e+00  1.86797291e+00  1.79514439e+00  1.77519348e+00\n",
      "  1.73904663e+00  1.72684363e+00  1.69015847e+00  1.65193890e+00\n",
      "  1.60315431e+00  1.58109592e+00  1.55237639e+00  1.53702804e+00\n",
      "  1.51698710e+00  1.47913172e+00  1.48525511e+00  1.45220069e+00\n",
      "  1.43273705e+00  1.42970655e+00  1.40776867e+00  1.39761044e+00\n",
      "  1.36898173e+00  1.36077579e+00  1.34226982e+00  1.31647458e+00\n",
      "  1.30831517e+00  1.29737523e+00  1.27797815e+00  1.27069677e+00\n",
      "  1.26082709e+00  1.24493789e+00  1.23073714e+00  1.22431058e+00\n",
      "  1.20413289e+00  1.17540215e+00  1.18421788e+00  1.15356422e+00\n",
      "  1.14873325e+00  1.14342185e+00  1.12161813e+00  1.11634694e+00\n",
      "  1.10579984e+00  1.08965091e+00  1.08717298e+00  1.07871716e+00\n",
      "  1.07285957e+00  1.06783350e+00  5.29954582e-02  6.06759331e-02\n",
      "  1.05301991e+00  1.05006573e+00  1.04247737e+00  1.02596617e+00\n",
      "  1.02915307e+00  1.00769562e+00  1.00233655e+00  9.91567167e-01\n",
      "  9.80510292e-01  9.75480952e-01  9.71194882e-01  3.60386221e-02\n",
      "  2.99340257e-02  1.28818435e-01  1.25701454e-01  1.08261769e-01\n",
      "  1.01694743e-01  8.96299817e-02  7.28246119e-02  7.46573744e-02\n",
      "  7.57918286e-02  8.31486895e-02  9.54070848e-01  9.40123163e-01\n",
      "  9.35557905e-01  1.45935045e-01  1.51739636e-01  2.13952855e-02\n",
      "  9.25059839e-01  9.18511334e-01  9.01245046e-01  1.90895128e-02\n",
      "  1.61600844e-01  1.65799689e-01  1.84532512e-01  1.97090605e-01\n",
      "  1.72010010e-01  2.05956646e-01  8.87448193e-01  8.72946668e-01\n",
      "  1.51872609e-02  2.09788725e-01  1.59110243e-02  2.61110712e-01\n",
      "  2.50404815e-01  2.27336871e-01  2.29417424e-01  2.37751931e-01\n",
      "  2.35016111e-01  8.69196560e-01  8.61279737e-01  8.52726556e-01\n",
      "  8.21607561e-01  8.26874628e-01  8.42724492e-01  8.40973511e-01\n",
      "  8.13509378e-01  2.65729558e-01  8.00746130e-01  7.92240543e-01\n",
      "  2.78594771e-01  2.77213400e-01  2.94466747e-01  2.98672495e-01\n",
      "  7.82957259e-01  7.72197478e-01  7.75116472e-01  7.54392572e-01\n",
      "  7.41412396e-01  3.74395038e-01  3.64587609e-01  3.32728623e-01\n",
      "  3.43072438e-01  3.52628910e-01  3.12957444e-01  3.16524256e-01\n",
      "  7.32978157e-01  3.88160323e-01  7.39080299e-01  7.26501024e-01\n",
      "  3.91141593e-01  3.48370476e-01  4.00328954e-01  4.12025399e-01\n",
      "  4.18301411e-01  7.08533604e-01  7.12508824e-01  7.01188493e-01\n",
      "  6.86208806e-01  6.78935375e-01  6.60609719e-01  6.56273138e-01\n",
      "  4.84637334e-01  4.90736589e-01  5.02249604e-01  4.63321071e-01\n",
      "  4.35157053e-01  4.40844763e-01  4.46673132e-01  4.56397288e-01\n",
      "  6.47205746e-01  5.33570315e-01  5.46272401e-01  5.28515851e-01\n",
      "  5.19102587e-01  5.10521011e-01  3.18523853e-01  4.52650301e-01\n",
      "  5.07640585e-01  6.39557844e-01  6.11089570e-01  6.20147862e-01\n",
      "  6.17793259e-01  6.01139655e-01  5.70429727e-01  5.76628489e-01\n",
      "  5.62894685e-01  5.55631411e-01  5.96618627e-01  5.90185075e-01\n",
      "  6.36546804e-01  2.65657163e-04 -5.92106089e-15 -7.28106938e-15\n",
      "  6.32536958e-15  4.13842333e-15 -3.44233456e-15 -2.89454063e-15\n",
      " -2.61982131e-15  3.24624241e-15  2.83868221e-15 -1.74993758e-15\n",
      " -1.27017069e-15 -1.16805752e-15 -9.57349624e-16 -7.24345773e-16\n",
      "  2.53693209e-16 -7.75048128e-17  8.67497327e-17  3.28058685e-17\n",
      "  2.47138078e-15  1.08963223e-15  1.15054809e-15  1.46029904e-15\n",
      "  1.62680369e-15]\n"
     ]
    }
   ],
   "source": [
    "eig_vals, eig_vecs = np.linalg.eig(cov_mat)\n",
    "\n",
    "print('Eigenvectors \\n%s' %eig_vecs)\n",
    "print('\\nEigenvalues \\n%s' %eig_vals)"
   ]
  },
  {
   "cell_type": "markdown",
   "metadata": {
    "colab_type": "text",
    "id": "9hOkkCGZ23Vu"
   },
   "source": [
    "If eigen value is high for eigen vector that means the vector has a lot of variance. "
   ]
  },
  {
   "cell_type": "markdown",
   "metadata": {
    "colab_type": "text",
    "id": "zPwr8B_Z6nGD"
   },
   "source": [
    "### 4. Sorting the eigenvectors by decreasing eigenvalues"
   ]
  },
  {
   "cell_type": "code",
   "execution_count": 50,
   "metadata": {
    "colab": {
     "base_uri": "https://localhost:8080/",
     "height": 3791
    },
    "colab_type": "code",
    "id": "2f4WyahDD6oG",
    "outputId": "235be1f2-41f9-43af-f303-594e068671bd"
   },
   "outputs": [
    {
     "name": "stdout",
     "output_type": "stream",
     "text": [
      "Eigenvalues in descending order:\n",
      "14.354577076732316\n",
      "6.996256202959564\n",
      "6.206684796549194\n",
      "5.05111512742084\n",
      "3.9148981706571466\n",
      "3.7386672115577766\n",
      "3.654674487236089\n",
      "3.321559971460142\n",
      "3.2327945420388398\n",
      "3.0309338017003893\n",
      "2.8301214592050794\n",
      "2.7270456268508\n",
      "2.6554701471687867\n",
      "2.584761594104859\n",
      "2.547026938598449\n",
      "2.41278490291402\n",
      "2.338017370998678\n",
      "2.3319360544216483\n",
      "2.241553491101328\n",
      "2.187395916863241\n",
      "2.16766100815939\n",
      "2.1121801427456295\n",
      "2.0764480336014786\n",
      "2.0176182307177872\n",
      "1.9977054456313683\n",
      "1.9306130480646497\n",
      "1.9193142462523844\n",
      "1.9115280065976203\n",
      "1.8903303364247688\n",
      "1.8679729067827453\n",
      "1.7951443883406475\n",
      "1.7751934828791125\n",
      "1.7390466275551533\n",
      "1.7268436335267197\n",
      "1.6901584700009356\n",
      "1.651938904629074\n",
      "1.6031543058673585\n",
      "1.5810959243658895\n",
      "1.5523763902067678\n",
      "1.5370280425880272\n",
      "1.5169870977167024\n",
      "1.4852551062523704\n",
      "1.4791317223412839\n",
      "1.4522006912114407\n",
      "1.4327370457774993\n",
      "1.4297065538575118\n",
      "1.4077686741279234\n",
      "1.3976104428176492\n",
      "1.3689817282273533\n",
      "1.3607757896602055\n",
      "1.3422698168749938\n",
      "1.3164745797540809\n",
      "1.3083151706193676\n",
      "1.2973752315840297\n",
      "1.2779781503850913\n",
      "1.2706967657296604\n",
      "1.2608270882663766\n",
      "1.2449378903160115\n",
      "1.230737143511802\n",
      "1.2243105824273062\n",
      "1.204132885943517\n",
      "1.1842178827428518\n",
      "1.1754021534489414\n",
      "1.153564218191443\n",
      "1.1487332519484155\n",
      "1.143421846013834\n",
      "1.1216181265276315\n",
      "1.1163469416535077\n",
      "1.1057998391567523\n",
      "1.0896509144761415\n",
      "1.0871729843307572\n",
      "1.0787171646836615\n",
      "1.0728595718462661\n",
      "1.0678335014902685\n",
      "1.053019912994459\n",
      "1.0500657286456858\n",
      "1.042477368886745\n",
      "1.0291530666538709\n",
      "1.0259661686263173\n",
      "1.0076956186594361\n",
      "1.002336547669565\n",
      "0.9915671672881864\n",
      "0.980510292449699\n",
      "0.9754809522450151\n",
      "0.9711948818010754\n",
      "0.9540708475606186\n",
      "0.9401231634622864\n",
      "0.935557904621583\n",
      "0.9250598392790735\n",
      "0.9185113336908886\n",
      "0.9012450460139481\n",
      "0.8874481930364732\n",
      "0.8729466677346843\n",
      "0.8691965604812184\n",
      "0.8612797369518085\n",
      "0.852726555763191\n",
      "0.8427244915115262\n",
      "0.8409735111134989\n",
      "0.8268746279791404\n",
      "0.8216075613848154\n",
      "0.8135093782030216\n",
      "0.8007461304322907\n",
      "0.792240542826542\n",
      "0.7829572588769114\n",
      "0.7751164718308858\n",
      "0.7721974778708383\n",
      "0.754392572307678\n",
      "0.7414123963903324\n",
      "0.7390802986190369\n",
      "0.7329781574525982\n",
      "0.7265010240521456\n",
      "0.7125088236880874\n",
      "0.7085336041478493\n",
      "0.7011884933107683\n",
      "0.6862088056347132\n",
      "0.6789353753830242\n",
      "0.6606097187384788\n",
      "0.6562731376174126\n",
      "0.6472057461033206\n",
      "0.6395578439177165\n",
      "0.6365468036422333\n",
      "0.6201478622247645\n",
      "0.6177932592743469\n",
      "0.6110895702977829\n",
      "0.6011396552403103\n",
      "0.5966186267646899\n",
      "0.5901850745117709\n",
      "0.5766284886859009\n",
      "0.5704297268537503\n",
      "0.5628946847777208\n",
      "0.5556314108052123\n",
      "0.5462724010123565\n",
      "0.5335703145380588\n",
      "0.5285158514191965\n",
      "0.5191025867465386\n",
      "0.5105210111139403\n",
      "0.507640585284917\n",
      "0.5022496036019446\n",
      "0.49073658932329517\n",
      "0.484637334432958\n",
      "0.4633210705640963\n",
      "0.45639728824440806\n",
      "0.4526503014620053\n",
      "0.4466731316618771\n",
      "0.4408447630155672\n",
      "0.4351570527288821\n",
      "0.41830141121430764\n",
      "0.4120253994568839\n",
      "0.40032895354228265\n",
      "0.3911415930988645\n",
      "0.38816032347576074\n",
      "0.37439503771172866\n",
      "0.3645876087205\n",
      "0.35262890950200526\n",
      "0.3483704755560905\n",
      "0.3430724380543785\n",
      "0.3327286229534054\n",
      "0.3185238525149092\n",
      "0.31652425642931864\n",
      "0.31295744432210204\n",
      "0.29867249547916\n",
      "0.2944667469973277\n",
      "0.2785947707091479\n",
      "0.27721340006592515\n",
      "0.2657295584296622\n",
      "0.26111071219490406\n",
      "0.25040481545013277\n",
      "0.237751930642634\n",
      "0.23501611064220848\n",
      "0.22941742449453958\n",
      "0.22733687143879622\n",
      "0.20978872498888337\n",
      "0.2059566456288454\n",
      "0.197090604741497\n",
      "0.1845325115799683\n",
      "0.17201000953804033\n",
      "0.16579968941884796\n",
      "0.16160084423325377\n",
      "0.1517396359675027\n",
      "0.1459350449117592\n",
      "0.12881843516383343\n",
      "0.12570145363904808\n",
      "0.10826176927231883\n",
      "0.1016947426253149\n",
      "0.08962998166988007\n",
      "0.08314868948120963\n",
      "0.07579182857631875\n",
      "0.07465737438689676\n",
      "0.07282461187637258\n",
      "0.06067593307521104\n",
      "0.052995458226768856\n",
      "0.03603862209497594\n",
      "0.029934025677871925\n",
      "0.021395285481154953\n",
      "0.019089512805893067\n",
      "0.01591102434871676\n",
      "0.015187260867269542\n",
      "0.00026565716252857814\n",
      "7.281069377359575e-15\n",
      "6.3253695819849016e-15\n",
      "5.9210608925809894e-15\n",
      "4.138423331266168e-15\n",
      "3.4423345623948374e-15\n",
      "3.2462424062963584e-15\n",
      "2.8945406255918663e-15\n",
      "2.838682212898278e-15\n",
      "2.6198213134402388e-15\n",
      "2.471380784828469e-15\n",
      "1.7499375832006621e-15\n",
      "1.6268036925835065e-15\n",
      "1.4602990425022203e-15\n",
      "1.2701706932944947e-15\n",
      "1.1680575199778698e-15\n",
      "1.1505480900525629e-15\n",
      "1.08963222792043e-15\n",
      "9.57349623518712e-16\n",
      "7.243457729191405e-16\n",
      "2.536932085762907e-16\n",
      "8.674973266625471e-17\n",
      "7.75048128281813e-17\n",
      "3.280586849911489e-17\n"
     ]
    }
   ],
   "source": [
    "# Make a list of (eigenvalue, eigenvector) tuples\n",
    "eig_pairs = [[np.abs(eig_vals[i]), eig_vecs[:,i]] for i in range(len(eig_vals))]\n",
    "\n",
    "# Sort the (eigenvalue, eigenvector) tuples from high to low\n",
    "eig_pairs.sort(key=lambda x: x[0], reverse=True)\n",
    "\n",
    "# Visually confirm that the list is correctly sorted by decreasing eigenvalues\n",
    "print('Eigenvalues in descending order:')\n",
    "for i in eig_pairs:\n",
    "    print(i[0])"
   ]
  },
  {
   "cell_type": "markdown",
   "metadata": {
    "colab_type": "text",
    "id": "I-mrD6zs3VHv"
   },
   "source": [
    "All the eigen values are sorted in an ascending order."
   ]
  },
  {
   "cell_type": "markdown",
   "metadata": {
    "colab_type": "text",
    "id": "4wOqhlWkazRt"
   },
   "source": [
    "### 5. Select components based on eigen values"
   ]
  },
  {
   "cell_type": "markdown",
   "metadata": {
    "colab_type": "text",
    "id": "xtl8EubxXsIW"
   },
   "source": [
    "We have 221 components from which we have to select components based on engen value which has high value.\n",
    "\n",
    "Here, filter out eigen values which has above 0.5"
   ]
  },
  {
   "cell_type": "code",
   "execution_count": 51,
   "metadata": {
    "colab": {
     "base_uri": "https://localhost:8080/",
     "height": 34
    },
    "colab_type": "code",
    "id": "JzEl_WZUCAKp",
    "outputId": "137b2dae-9b57-41d5-a94b-de280fd20e90"
   },
   "outputs": [
    {
     "name": "stdout",
     "output_type": "stream",
     "text": [
      "Number of components: 138\n"
     ]
    }
   ],
   "source": [
    "pairs = np.array(eig_pairs)\n",
    "count = 0\n",
    "components = []\n",
    "for i in range(len(eig_pairs)):\n",
    "  if eig_pairs[i][0] >= 0.5:\n",
    "    count += 1\n",
    "    components.append(pairs[i])\n",
    "    \n",
    "print(\"Number of components: \" + str(count))\n",
    "\n",
    "  "
   ]
  },
  {
   "cell_type": "markdown",
   "metadata": {
    "colab_type": "text",
    "id": "i_EEzqYLZfsr"
   },
   "source": [
    "When we select eigen value as 0.5 or above 0.5, we get 138 components.\n",
    "0.5 is not a threshold eigen value. We use this value to check the percentage of information the selected component carry. if the selected component gives less information, we select more components and this can be achieved by setting eigen value below 0.5."
   ]
  },
  {
   "cell_type": "markdown",
   "metadata": {
    "colab_type": "text",
    "id": "jrhFtpBFZnOt"
   },
   "source": [
    "Let's check how much information the selected components contains."
   ]
  },
  {
   "cell_type": "code",
   "execution_count": 0,
   "metadata": {
    "colab": {},
    "colab_type": "code",
    "id": "LYaXmP9WUXwY"
   },
   "outputs": [],
   "source": [
    "# calculate Explained Variance\n",
    "total = 0\n",
    "ein = []\n",
    "for i in range(len(components)):\n",
    "  total += components[i][0]\n",
    "  ein.append(components[i][0])\n",
    "  \n",
    "#divide eigen value by total eigen value and then multiple with 100 for the selected components   \n",
    "var_exp = [(i / sum(eig_vals))*100 for i in sorted(ein, reverse=True)]\n",
    "cum_var_exp = np.cumsum(var_exp)\n"
   ]
  },
  {
   "cell_type": "code",
   "execution_count": 53,
   "metadata": {
    "colab": {
     "base_uri": "https://localhost:8080/",
     "height": 493
    },
    "colab_type": "code",
    "id": "nKiLvZlaXdTm",
    "outputId": "ab67f133-4e94-47ee-a3c1-325f5f1fa0a2"
   },
   "outputs": [
    {
     "data": {
      "text/plain": [
       "array([ 6.49083492,  9.6543934 , 12.46092446, 14.74493146, 16.51516527,\n",
       "       18.20571119, 19.85827739, 21.36021627, 22.82201731, 24.19254121,\n",
       "       25.47226203, 26.70537415, 27.90612136, 29.07489567, 30.22660716,\n",
       "       31.31761725, 32.37481906, 33.42927102, 34.44285391, 35.43194789,\n",
       "       36.41211817, 37.36720117, 38.30612688, 39.218451  , 40.12177098,\n",
       "       40.9947532 , 41.86262634, 42.72697871, 43.58174595, 44.42640363,\n",
       "       45.2381298 , 46.04083459, 46.82719455, 47.60803657, 48.37229034,\n",
       "       49.11926203, 49.84417436, 50.55911236, 51.261064  , 51.95607544,\n",
       "       52.64202479, 53.31362561, 53.98245756, 54.63911188, 55.28696514,\n",
       "       55.93344809, 56.57001118, 57.20198095, 57.82100541, 58.43631933,\n",
       "       59.04326523, 59.63854708, 60.23013942, 60.81678495, 61.39465953,\n",
       "       61.96924162, 62.53936086, 63.10229533, 63.65880853, 64.21241578,\n",
       "       64.7568991 , 65.29237728, 65.82386917, 66.34548641, 66.86491919,\n",
       "       67.38195027, 67.88912217, 68.39391055, 68.89392976, 69.38664676,\n",
       "       69.8782433 , 70.36601629, 70.8511406 , 71.33399224, 71.81014548,\n",
       "       72.2849629 , 72.75634903, 73.22171019, 73.68563031, 74.14128887,\n",
       "       74.59452417, 75.04288978, 75.48625572, 75.92734749, 76.36650119,\n",
       "       76.79791177, 77.2230155 , 77.64605491, 78.06434733, 78.47967865,\n",
       "       78.88720252, 79.28848775, 79.68321569, 80.07624792, 80.46570032,\n",
       "       80.85128516, 81.23234728, 81.61261765, 81.98651279, 82.35802628,\n",
       "       82.72587795, 83.08795835, 83.44619269, 83.80022934, 84.15072055,\n",
       "       84.49989185, 84.84101215, 85.17626309, 85.51045951, 85.84189666,\n",
       "       86.170405  , 86.49258636, 86.81297021, 87.13003275, 87.4403218 ,\n",
       "       87.74732196, 88.04603565, 88.34278843, 88.63544112, 88.9246356 ,\n",
       "       89.21246854, 89.49288624, 89.77223923, 90.04856096, 90.32038354,\n",
       "       90.59016181, 90.85703097, 91.11777013, 91.37570634, 91.63023536,\n",
       "       91.88148009, 92.12849286, 92.36976203, 92.60874567, 92.84347284,\n",
       "       93.0743196 , 93.30386389, 93.5309705 ])"
      ]
     },
     "execution_count": 53,
     "metadata": {
      "tags": []
     },
     "output_type": "execute_result"
    }
   ],
   "source": [
    "cum_var_exp"
   ]
  },
  {
   "cell_type": "markdown",
   "metadata": {
    "colab_type": "text",
    "id": "lQWLASc4bNCB"
   },
   "source": [
    "We can notice that 138 components has 93.5% information among all components.\n",
    "\n",
    "When we select 138 components we lose 6.5% information."
   ]
  },
  {
   "cell_type": "markdown",
   "metadata": {
    "colab_type": "text",
    "id": "j5GYxBujbCjY"
   },
   "source": [
    "### 6. Select components based on scree plot"
   ]
  },
  {
   "cell_type": "code",
   "execution_count": 54,
   "metadata": {
    "colab": {
     "base_uri": "https://localhost:8080/",
     "height": 349
    },
    "colab_type": "code",
    "id": "Dndxxsduoudd",
    "outputId": "1ac6e1d8-d6b1-4455-a86d-f9b65e89d885"
   },
   "outputs": [
    {
     "data": {
      "image/png": "[encoded data removed]",
      "text/plain": [
       "<Figure size 576x360 with 1 Axes>"
      ]
     },
     "metadata": {
      "tags": []
     },
     "output_type": "display_data"
    }
   ],
   "source": [
    "import numpy as np\n",
    "import matplotlib\n",
    "import matplotlib.pyplot as plt\n",
    "\n",
    "#Make a random array and then make it positive-definite\n",
    "num_vars = len(eig_vals)\n",
    "num_obs = 9\n",
    "\n",
    "fig = plt.figure(figsize=(8,5))\n",
    "sing_vals = np.arange(num_vars) + 1\n",
    "plt.plot(sing_vals, eig_vals, 'ro-', linewidth=2)\n",
    "\n",
    "plt.title('Scree Plot')\n",
    "plt.xlabel('Principal Component')\n",
    "plt.ylabel('Eigenvalue')\n",
    "plt.xlim(0,225)                \n",
    "plt.show()"
   ]
  },
  {
   "cell_type": "markdown",
   "metadata": {
    "colab_type": "text",
    "id": "mw1lHYBC2nIE"
   },
   "source": [
    "Scree Plot shows eigen value for each component.\n",
    "starting components has high value and in middle , some componenet has higher than others.\n",
    "What can we do using scree plot?\n",
    "We can select components based scree plot. If we select 150 components based on scree plot, We have to check how much information has the selected components."
   ]
  },
  {
   "cell_type": "markdown",
   "metadata": {
    "colab_type": "text",
    "id": "vKVIqGni0D5A"
   },
   "source": [
    "The following plot to shows percentage of variance explained by each of the selected components."
   ]
  },
  {
   "cell_type": "code",
   "execution_count": 0,
   "metadata": {
    "colab": {},
    "colab_type": "code",
    "id": "QBH5u7P3D5OK"
   },
   "outputs": [],
   "source": [
    "# calculate Explained Variance\n",
    "total = sum(eig_vals)\n",
    "#divide eigen value by total eigen value and then multiple with 100 for the selected components   \n",
    "var_exp = [(i / total)*100 for i in sorted(eig_vals, reverse=True)]\n",
    "cum_var_exp = np.cumsum(var_exp)\n"
   ]
  },
  {
   "cell_type": "code",
   "execution_count": 56,
   "metadata": {
    "colab": {
     "base_uri": "https://localhost:8080/",
     "height": 294
    },
    "colab_type": "code",
    "id": "mTeYhvKAExcR",
    "outputId": "82b6acc6-427c-4216-c69e-7f15b973d167"
   },
   "outputs": [
    {
     "data": {
      "image/png": "[encoded data removed]",
      "text/plain": [
       "<Figure size 432x288 with 1 Axes>"
      ]
     },
     "metadata": {
      "tags": []
     },
     "output_type": "display_data"
    }
   ],
   "source": [
    "plt.figure()\n",
    "plt.scatter([150],[cum_var_exp[150]],color='g')\n",
    "plt.plot(cum_var_exp)\n",
    "plt.xlabel('Principal Component')\n",
    "plt.ylabel('Variance (%)') #for each component\n",
    "plt.title('Dataset Explained Variance')\n",
    "plt.show()"
   ]
  },
  {
   "cell_type": "markdown",
   "metadata": {
    "colab_type": "text",
    "id": "ERgbHnD0hWYs"
   },
   "source": [
    "From the above plot, we can observe that the variance remains constant after the number of components reaches 150"
   ]
  },
  {
   "cell_type": "code",
   "execution_count": 57,
   "metadata": {
    "colab": {
     "base_uri": "https://localhost:8080/",
     "height": 34
    },
    "colab_type": "code",
    "id": "JL37hiPJEjoc",
    "outputId": "11df24ab-3d98-43bf-9f7c-130eebc7417c"
   },
   "outputs": [
    {
     "data": {
      "text/plain": [
       "96.09951554070106"
      ]
     },
     "execution_count": 57,
     "metadata": {
      "tags": []
     },
     "output_type": "execute_result"
    }
   ],
   "source": [
    "cum_var_exp[150]"
   ]
  },
  {
   "cell_type": "markdown",
   "metadata": {
    "colab_type": "text",
    "id": "zbkPPVWxErZ8"
   },
   "source": [
    "From the above result, we can see that the selected 150 components has 96% information. Here we lose 4% information. We have to select less component than original variable, at the same time, the selected component must contain as much as information. "
   ]
  },
  {
   "cell_type": "markdown",
   "metadata": {
    "colab_type": "text",
    "id": "Q_EF20gliFsw"
   },
   "source": [
    "### 7. Deriving the new data set"
   ]
  },
  {
   "cell_type": "markdown",
   "metadata": {
    "colab_type": "text",
    "id": "VDcfG5U_2xzU"
   },
   "source": [
    "Finally, we select only 150 components.\n",
    "Filter out eigen vector of the selected components."
   ]
  },
  {
   "cell_type": "code",
   "execution_count": 0,
   "metadata": {
    "colab": {},
    "colab_type": "code",
    "id": "aQCR9BadpHYH"
   },
   "outputs": [],
   "source": [
    "N = 221\n",
    "M = 150\n",
    "\n",
    "a = np.ndarray(shape = (N, 0))\n",
    "for i in range(M):\n",
    "    b = eig_pairs[i][1].reshape(N,1)\n",
    "    a = np.hstack((a, b))"
   ]
  },
  {
   "cell_type": "markdown",
   "metadata": {
    "colab_type": "text",
    "id": "0pQlH9e18UKv"
   },
   "source": [
    "Perform matrix calculation of original dataset with eigen vector of the selected components."
   ]
  },
  {
   "cell_type": "code",
   "execution_count": 0,
   "metadata": {
    "colab": {},
    "colab_type": "code",
    "id": "6-VQzyv9iI8w"
   },
   "outputs": [],
   "source": [
    "# Projection Onto the New Feature Space\n",
    "Y = X_std.dot(a)"
   ]
  },
  {
   "cell_type": "code",
   "execution_count": 60,
   "metadata": {
    "colab": {
     "base_uri": "https://localhost:8080/",
     "height": 34
    },
    "colab_type": "code",
    "id": "ReS64YWtiQh8",
    "outputId": "9cb288c3-cc4e-42a0-f0f9-ed9d04ffa70e"
   },
   "outputs": [
    {
     "data": {
      "text/plain": [
       "(1460, 150)"
      ]
     },
     "execution_count": 60,
     "metadata": {
      "tags": []
     },
     "output_type": "execute_result"
    }
   ],
   "source": [
    "Y.shape"
   ]
  },
  {
   "cell_type": "markdown",
   "metadata": {
    "colab_type": "text",
    "id": "ZGJfSak_-DaM"
   },
   "source": [
    "We reduced the number of columns from 221 to 150."
   ]
  },
  {
   "cell_type": "code",
   "execution_count": 61,
   "metadata": {
    "colab": {
     "base_uri": "https://localhost:8080/",
     "height": 238
    },
    "colab_type": "code",
    "id": "4zubMZwakIZT",
    "outputId": "6c33d1a4-1d40-45e6-dca2-f5691623a50a"
   },
   "outputs": [
    {
     "data": {
      "text/plain": [
       "array([[ 3.15172011, -1.21878173, -0.34350202, ..., -0.05412658,\n",
       "         0.07858162, -0.14685771],\n",
       "       [-0.40369184,  2.94273142, -0.37119922, ..., -0.29748698,\n",
       "        -0.9795956 ,  0.02092249],\n",
       "       [ 3.45984419, -0.84736524, -0.09569296, ...,  0.21419079,\n",
       "         0.2568009 ,  0.14140836],\n",
       "       ...,\n",
       "       [ 0.24086792, -1.7220848 ,  3.21917314, ..., -1.0885956 ,\n",
       "        -1.9170509 ,  0.6719719 ],\n",
       "       [-3.0151936 ,  3.09806924, -1.58955202, ...,  0.59981306,\n",
       "         0.03426459,  0.22867934],\n",
       "       [-0.92426149,  3.52702079, -0.87559633, ...,  0.61270902,\n",
       "        -0.08401412,  0.81225212]])"
      ]
     },
     "execution_count": 61,
     "metadata": {
      "tags": []
     },
     "output_type": "execute_result"
    }
   ],
   "source": [
    "Y"
   ]
  },
  {
   "cell_type": "markdown",
   "metadata": {
    "colab_type": "text",
    "id": "ApY7-c897bT4"
   },
   "source": [
    "# PCA using sklearn"
   ]
  },
  {
   "cell_type": "markdown",
   "metadata": {
    "colab_type": "text",
    "id": "8HFGQ4NKclE5"
   },
   "source": [
    "### Loading PCA module from sklearn\n",
    "loading pca module from sklearn\n"
   ]
  },
  {
   "cell_type": "code",
   "execution_count": 0,
   "metadata": {
    "colab": {},
    "colab_type": "code",
    "id": "OPVHo9iU7aoZ"
   },
   "outputs": [],
   "source": [
    "from sklearn.decomposition import PCA as sklearnPCA"
   ]
  },
  {
   "cell_type": "markdown",
   "metadata": {
    "colab_type": "text",
    "id": "2XQyKvNOc41X"
   },
   "source": [
    "We have 221 columns. So first we choose 221 components"
   ]
  },
  {
   "cell_type": "code",
   "execution_count": 0,
   "metadata": {
    "colab": {},
    "colab_type": "code",
    "id": "5QkbbqTm8Gci"
   },
   "outputs": [],
   "source": [
    "# create instance for pca\n",
    "sklearn_pca = sklearnPCA(n_components=221)\n",
    "\n",
    "# fit and transform the instance on datad\n",
    "Y_sklearn = sklearn_pca.fit_transform(X_std)\n"
   ]
  },
  {
   "cell_type": "code",
   "execution_count": 64,
   "metadata": {
    "colab": {
     "base_uri": "https://localhost:8080/",
     "height": 969
    },
    "colab_type": "code",
    "id": "Kz0XuGaI8Kbl",
    "outputId": "ab442585-e374-438c-99f0-605fdd9dcc47"
   },
   "outputs": [
    {
     "name": "stdout",
     "output_type": "stream",
     "text": [
      "[6.49083492e-02 3.16355848e-02 2.80653106e-02 2.28400700e-02\n",
      " 1.77023382e-02 1.69054592e-02 1.65256619e-02 1.50193888e-02\n",
      " 1.46180104e-02 1.37052390e-02 1.27972082e-02 1.23311212e-02\n",
      " 1.20074721e-02 1.16877430e-02 1.15171149e-02 1.09101010e-02\n",
      " 1.05720181e-02 1.05445196e-02 1.01358289e-02 9.89093982e-03\n",
      " 9.80170275e-03 9.55083006e-03 9.38925705e-03 9.12324118e-03\n",
      " 9.03319979e-03 8.72982222e-03 8.67873144e-03 8.64352371e-03\n",
      " 8.54767235e-03 8.44657680e-03 8.11726171e-03 8.02704795e-03\n",
      " 7.86359955e-03 7.80842020e-03 7.64253768e-03 7.46971692e-03\n",
      " 7.24912333e-03 7.14938001e-03 7.01951637e-03 6.95011441e-03\n",
      " 6.85949351e-03 6.71600818e-03 6.68831954e-03 6.56654314e-03\n",
      " 6.47853267e-03 6.46482942e-03 6.36563099e-03 6.31969763e-03\n",
      " 6.19024466e-03 6.15313915e-03 6.06945907e-03 5.95281848e-03\n",
      " 5.91592337e-03 5.86645529e-03 5.77874580e-03 5.74582093e-03\n",
      " 5.70119234e-03 5.62934477e-03 5.56513200e-03 5.53607246e-03\n",
      " 5.44483320e-03 5.35478179e-03 5.31491893e-03 5.21617242e-03\n",
      " 5.19432782e-03 5.17031077e-03 5.07171898e-03 5.04788380e-03\n",
      " 5.00019205e-03 4.92717004e-03 4.91596536e-03 4.87772994e-03\n",
      " 4.85124315e-03 4.82851633e-03 4.76153243e-03 4.74817423e-03\n",
      " 4.71386128e-03 4.65361162e-03 4.63920114e-03 4.55658559e-03\n",
      " 4.53235301e-03 4.48365616e-03 4.43365932e-03 4.41091771e-03\n",
      " 4.39153701e-03 4.31410577e-03 4.25103730e-03 4.23039417e-03\n",
      " 4.18292415e-03 4.15331320e-03 4.07523871e-03 4.01285227e-03\n",
      " 3.94727945e-03 3.93032226e-03 3.89452407e-03 3.85584840e-03\n",
      " 3.81062119e-03 3.80270363e-03 3.73895147e-03 3.71513492e-03\n",
      " 3.67851665e-03 3.62080396e-03 3.58234349e-03 3.54036646e-03\n",
      " 3.50491208e-03 3.49171301e-03 3.41120301e-03 3.35250941e-03\n",
      " 3.34196416e-03 3.31437157e-03 3.28508335e-03 3.22181359e-03\n",
      " 3.20383849e-03 3.17062546e-03 3.10289050e-03 3.07000159e-03\n",
      " 2.98713686e-03 2.96752776e-03 2.92652694e-03 2.89194475e-03\n",
      " 2.87832947e-03 2.80417694e-03 2.79352992e-03 2.76321727e-03\n",
      " 2.71822586e-03 2.69778273e-03 2.66869158e-03 2.60739157e-03\n",
      " 2.57936209e-03 2.54529023e-03 2.51244725e-03 2.47012779e-03\n",
      " 2.41269165e-03 2.38983644e-03 2.34727166e-03 2.30846760e-03\n",
      " 2.29544292e-03 2.27106605e-03 2.21900664e-03 2.19142711e-03\n",
      " 2.09503949e-03 2.06373162e-03 2.04678854e-03 2.01976105e-03\n",
      " 1.99340640e-03 1.96768778e-03 1.89147015e-03 1.86309136e-03\n",
      " 1.81020251e-03 1.76865922e-03 1.75517855e-03 1.69293485e-03\n",
      " 1.64858774e-03 1.59451304e-03 1.57525731e-03 1.55130071e-03\n",
      " 1.50452817e-03 1.44029722e-03 1.43125547e-03 1.41512710e-03\n",
      " 1.35053360e-03 1.33151610e-03 1.25974639e-03 1.25350013e-03\n",
      " 1.20157263e-03 1.18068719e-03 1.13227740e-03 1.07506374e-03\n",
      " 1.06269294e-03 1.03737687e-03 1.02796906e-03 9.48620064e-04\n",
      " 9.31292215e-04 8.91201861e-04 8.34416830e-04 7.77792735e-04\n",
      " 7.49710986e-04 7.30724700e-04 6.86134410e-04 6.59887282e-04\n",
      " 5.82489608e-04 5.68395279e-04 4.89536730e-04 4.59842030e-04\n",
      " 4.05287743e-04 3.75980716e-04 3.42714554e-04 3.37584793e-04\n",
      " 3.29297430e-04 2.74363684e-04 2.39634208e-04 1.62958996e-04\n",
      " 1.35355307e-04 9.67449374e-05 8.63187231e-05 7.19462732e-05\n",
      " 6.86735685e-05 1.20124527e-06 1.28009148e-32 2.76497381e-33\n",
      " 2.53558747e-33 2.10147142e-33 1.83491201e-33 1.75517609e-33\n",
      " 1.60320298e-33 1.55116153e-33 1.30374930e-33 1.17993601e-33\n",
      " 9.76796417e-34 8.62093854e-34 6.46767433e-34 6.24576212e-34\n",
      " 4.81361584e-34 4.62560532e-34 3.63992091e-34 2.84641488e-34\n",
      " 2.43157495e-34 1.35206974e-34 1.05773543e-34 4.01145786e-35\n",
      " 1.00208333e-35]\n"
     ]
    }
   ],
   "source": [
    "print(sklearn_pca.explained_variance_ratio_)"
   ]
  },
  {
   "cell_type": "markdown",
   "metadata": {
    "colab_type": "text",
    "id": "2oBOMl1ophyH"
   },
   "source": [
    "Percentage of variance explained by each of the selected components.\n"
   ]
  },
  {
   "cell_type": "markdown",
   "metadata": {
    "colab_type": "text",
    "id": "9eOnJjqonN7f"
   },
   "source": [
    "### Select components based on singular value instead of eigen value as we saw before."
   ]
  },
  {
   "cell_type": "code",
   "execution_count": 65,
   "metadata": {
    "colab": {
     "base_uri": "https://localhost:8080/",
     "height": 969
    },
    "colab_type": "code",
    "id": "uJ1TSjo1mhuR",
    "outputId": "5f5f09c3-e083-4276-f85e-d097861575db"
   },
   "outputs": [
    {
     "data": {
      "text/plain": [
       "array([1.44718098e+02, 1.01032360e+02, 9.51606700e+01, 8.58462403e+01,\n",
       "       7.55766924e+01, 7.38560455e+01, 7.30217096e+01, 6.96143376e+01,\n",
       "       6.86778511e+01, 6.64991159e+01, 6.42584408e+01, 6.30774093e+01,\n",
       "       6.22441238e+01, 6.14098296e+01, 6.09599237e+01, 5.93317215e+01,\n",
       "       5.84051996e+01, 5.83291925e+01, 5.71876433e+01, 5.64925716e+01,\n",
       "       5.62371533e+01, 5.55127988e+01, 5.50412362e+01, 5.42559213e+01,\n",
       "       5.39875193e+01, 5.30731989e+01, 5.29176670e+01, 5.28102202e+01,\n",
       "       5.25165875e+01, 5.22051000e+01, 5.11772964e+01, 5.08921142e+01,\n",
       "       5.03713116e+01, 5.01942712e+01, 4.96582441e+01, 4.90935725e+01,\n",
       "       4.83632312e+01, 4.80293551e+01, 4.75911457e+01, 4.73552945e+01,\n",
       "       4.70455543e+01, 4.65509098e+01, 4.64548510e+01, 4.60299990e+01,\n",
       "       4.57204916e+01, 4.56721125e+01, 4.53203541e+01, 4.51565459e+01,\n",
       "       4.46916585e+01, 4.45575120e+01, 4.42534932e+01, 4.38262069e+01,\n",
       "       4.36901801e+01, 4.35071312e+01, 4.31806684e+01, 4.30574800e+01,\n",
       "       4.28899373e+01, 4.26188266e+01, 4.23750574e+01, 4.22642773e+01,\n",
       "       4.19145545e+01, 4.15664996e+01, 4.14114929e+01, 4.10249948e+01,\n",
       "       4.09390011e+01, 4.08442465e+01, 4.04529461e+01, 4.03577773e+01,\n",
       "       4.01666773e+01, 3.98723047e+01, 3.98269429e+01, 3.96717575e+01,\n",
       "       3.95638991e+01, 3.94711170e+01, 3.91963781e+01, 3.91413579e+01,\n",
       "       3.89996728e+01, 3.87496364e+01, 3.86895934e+01, 3.83435511e+01,\n",
       "       3.82414569e+01, 3.80354637e+01, 3.78228042e+01, 3.77256771e+01,\n",
       "       3.76427062e+01, 3.73093737e+01, 3.70356544e+01, 3.69456220e+01,\n",
       "       3.67377504e+01, 3.66074861e+01, 3.62617777e+01, 3.59831476e+01,\n",
       "       3.56879418e+01, 3.56112030e+01, 3.54486549e+01, 3.52721993e+01,\n",
       "       3.50647263e+01, 3.50282793e+01, 3.47334145e+01, 3.46226145e+01,\n",
       "       3.44515628e+01, 3.41802370e+01, 3.39982198e+01, 3.37984414e+01,\n",
       "       3.36287813e+01, 3.35654006e+01, 3.31761776e+01, 3.28895224e+01,\n",
       "       3.28377550e+01, 3.27019133e+01, 3.25571036e+01, 3.22420591e+01,\n",
       "       3.21519910e+01, 3.19849029e+01, 3.16414072e+01, 3.14732698e+01,\n",
       "       3.10456048e+01, 3.09435374e+01, 3.07290284e+01, 3.05469294e+01,\n",
       "       3.04749370e+01, 3.00798227e+01, 3.00226642e+01, 2.98593316e+01,\n",
       "       2.96152453e+01, 2.95036706e+01, 2.93441651e+01, 2.90051886e+01,\n",
       "       2.88488643e+01, 2.86576926e+01, 2.84722010e+01, 2.82313909e+01,\n",
       "       2.79012381e+01, 2.77687707e+01, 2.75203683e+01, 2.72919430e+01,\n",
       "       2.72148418e+01, 2.70699496e+01, 2.67578901e+01, 2.65910863e+01,\n",
       "       2.59997200e+01, 2.58047213e+01, 2.56985756e+01, 2.55283391e+01,\n",
       "       2.53612403e+01, 2.51971058e+01, 2.47042862e+01, 2.45182597e+01,\n",
       "       2.41677459e+01, 2.38888171e+01, 2.37976031e+01, 2.33718283e+01,\n",
       "       2.30636797e+01, 2.26822746e+01, 2.25449002e+01, 2.23728113e+01,\n",
       "       2.20329540e+01, 2.15575115e+01, 2.14897392e+01, 2.13683156e+01,\n",
       "       2.08749412e+01, 2.07274452e+01, 2.01610955e+01, 2.01110505e+01,\n",
       "       1.96900845e+01, 1.95182102e+01, 1.91138857e+01, 1.86247166e+01,\n",
       "       1.85172489e+01, 1.82953552e+01, 1.82122073e+01, 1.74951922e+01,\n",
       "       1.73346689e+01, 1.69574524e+01, 1.64083191e+01, 1.58417993e+01,\n",
       "       1.55531909e+01, 1.53549872e+01, 1.48791172e+01, 1.45917521e+01,\n",
       "       1.37093434e+01, 1.35424673e+01, 1.25679720e+01, 1.21808304e+01,\n",
       "       1.14354774e+01, 1.10142607e+01, 1.05157158e+01, 1.04367193e+01,\n",
       "       1.03078178e+01, 9.40883555e+00, 8.79320042e+00, 7.25123090e+00,\n",
       "       6.60861131e+00, 5.58710314e+00, 5.27746143e+00, 4.81811006e+00,\n",
       "       4.70725117e+00, 6.22570317e-01, 6.42677459e-14, 2.98688207e-14,\n",
       "       2.86030183e-14, 2.60396000e-14, 2.43321333e-14, 2.37975864e-14,\n",
       "       2.27439986e-14, 2.23718077e-14, 2.05101865e-14, 1.95120003e-14,\n",
       "       1.77531161e-14, 1.66782254e-14, 1.44459676e-14, 1.41959769e-14,\n",
       "       1.24625892e-14, 1.22167828e-14, 1.08372362e-14, 9.58344524e-15,\n",
       "       8.85760675e-15, 6.60498920e-15, 5.84199377e-15, 3.59768953e-15,\n",
       "       1.79814406e-15])"
      ]
     },
     "execution_count": 65,
     "metadata": {
      "tags": []
     },
     "output_type": "execute_result"
    }
   ],
   "source": [
    "\n",
    "sklearn_pca.singular_values_"
   ]
  },
  {
   "cell_type": "code",
   "execution_count": 66,
   "metadata": {
    "colab": {
     "base_uri": "https://localhost:8080/",
     "height": 34
    },
    "colab_type": "code",
    "id": "NMlX0k02nPK8",
    "outputId": "277ff61a-81b0-4420-9215-2685d2b79c00"
   },
   "outputs": [
    {
     "name": "stdout",
     "output_type": "stream",
     "text": [
      "Number of components: 155\n"
     ]
    }
   ],
   "source": [
    "count = 0\n",
    "for i in range(len(sklearn_pca.singular_values_)):\n",
    "    if sklearn_pca.singular_values_[i]>= 22.5:\n",
    "    count += 1\n",
    "\n",
    "print(\"Number of components: \" + str(count))"
   ]
  },
  {
   "cell_type": "markdown",
   "metadata": {
    "colab_type": "text",
    "id": "K9lyAEfeuDDb"
   },
   "source": [
    "When we select singular value as 22.5 , we get 138 components.\n",
    "We use this value to check the percentage of information the selected component carry. If the selected component gives less information, we select more components and this can be achieved by setting singular value below 22.5."
   ]
  },
  {
   "cell_type": "code",
   "execution_count": 67,
   "metadata": {
    "colab": {
     "base_uri": "https://localhost:8080/",
     "height": 34
    },
    "colab_type": "code",
    "id": "C14PW3iNrwC-",
    "outputId": "4d4484ca-7aa9-4e3b-e6d5-ca4da6242737"
   },
   "outputs": [
    {
     "data": {
      "text/plain": [
       "0.9690577490692737"
      ]
     },
     "execution_count": 67,
     "metadata": {
      "tags": []
     },
     "output_type": "execute_result"
    }
   ],
   "source": [
    "cum_sum = np.cumsum(sklearn_pca.explained_variance_ratio_)\n",
    "cum_sum[155]\n"
   ]
  },
  {
   "cell_type": "markdown",
   "metadata": {
    "colab_type": "text",
    "id": "TX4-V_5iC4mJ"
   },
   "source": [
    "155 components has 96.9% of information about dataset."
   ]
  },
  {
   "cell_type": "markdown",
   "metadata": {
    "colab_type": "text",
    "id": "Qhl10eUZbudV"
   },
   "source": [
    "### Select components based on Scree Plot"
   ]
  },
  {
   "cell_type": "code",
   "execution_count": 68,
   "metadata": {
    "colab": {
     "base_uri": "https://localhost:8080/",
     "height": 349
    },
    "colab_type": "code",
    "id": "afwSgj1-qSof",
    "outputId": "270e066d-7505-45db-e205-07b81f302f7d"
   },
   "outputs": [
    {
     "data": {
      "image/png": "[encoded data removed]",
      "text/plain": [
       "<Figure size 576x360 with 1 Axes>"
      ]
     },
     "metadata": {
      "tags": []
     },
     "output_type": "display_data"
    }
   ],
   "source": [
    "import numpy as np\n",
    "import matplotlib\n",
    "import matplotlib.pyplot as plt\n",
    "\n",
    "#Make a random array and then make it positive-definite\n",
    "num_vars = len(sklearn_pca.singular_values_)\n",
    "num_obs = 9\n",
    "\n",
    "fig = plt.figure(figsize=(8,5))\n",
    "sing_vals = np.arange(num_vars) + 1\n",
    "plt.plot(sing_vals,sklearn_pca.singular_values_, 'ro-', linewidth=2)\n",
    " \n",
    "plt.title('Scree Plot')\n",
    "plt.xlabel('Principal Component')\n",
    "plt.ylabel('Singular value')\n",
    "plt.xlim(0,221)                \n",
    "plt.show()"
   ]
  },
  {
   "cell_type": "markdown",
   "metadata": {
    "colab_type": "text",
    "id": "of8ynfXiu8DK"
   },
   "source": [
    "Scree Plot shows singular value for each component.\n",
    "starting components has high value.\n",
    "What can we do using scree plot? \n",
    "\n",
    "From the above plot, we can observe that 150 components has singular value above 22.5\n",
    "\n",
    "We can select components based on scree plot. If we select 150 components based on scree plot, we have to check how much information does the selected components has."
   ]
  },
  {
   "cell_type": "markdown",
   "metadata": {
    "colab_type": "text",
    "id": "41JhR_oXunRf"
   },
   "source": [
    "The following plot shows percentage of variance explained by each of the selected components."
   ]
  },
  {
   "cell_type": "code",
   "execution_count": 69,
   "metadata": {
    "colab": {
     "base_uri": "https://localhost:8080/",
     "height": 294
    },
    "colab_type": "code",
    "id": "WZyYtyBxJyrg",
    "outputId": "3b585c64-1996-4813-fc16-00181990690b"
   },
   "outputs": [
    {
     "data": {
      "image/png": "[encoded data removed]",
      "text/plain": [
       "<Figure size 432x288 with 1 Axes>"
      ]
     },
     "metadata": {
      "tags": []
     },
     "output_type": "display_data"
    }
   ],
   "source": [
    "plt.figure()\n",
    "cum_sum = np.cumsum(sklearn_pca.explained_variance_ratio_)\n",
    "plt.scatter([150],[cum_sum[150]],color='r')\n",
    "plt.plot(np.cumsum(sklearn_pca.explained_variance_ratio_))\n",
    "plt.xlabel('Principal Component')\n",
    "plt.ylabel('Variance (%)') #for each component\n",
    "plt.title('Dataset Explained Variance')\n",
    "plt.show()"
   ]
  },
  {
   "cell_type": "markdown",
   "metadata": {
    "colab_type": "text",
    "id": "qwYBU4SZd1_Q"
   },
   "source": [
    "From the above plot, we can observe that the variance remains constant after the number of components reaches 150\n"
   ]
  },
  {
   "cell_type": "code",
   "execution_count": 70,
   "metadata": {
    "colab": {
     "base_uri": "https://localhost:8080/",
     "height": 34
    },
    "colab_type": "code",
    "id": "XwaZFasCfVRQ",
    "outputId": "df205576-a7ba-48aa-c973-9f7e035bd1d2"
   },
   "outputs": [
    {
     "data": {
      "text/plain": [
       "0.9609951554070107"
      ]
     },
     "execution_count": 70,
     "metadata": {
      "tags": []
     },
     "output_type": "execute_result"
    }
   ],
   "source": [
    "cum_sum = np.cumsum(sklearn_pca.explained_variance_ratio_)\n",
    "cum_sum[150]"
   ]
  },
  {
   "cell_type": "markdown",
   "metadata": {
    "colab_type": "text",
    "id": "CcAU8p-mwf-f"
   },
   "source": [
    "150 components has 96% information about the dataset."
   ]
  },
  {
   "cell_type": "markdown",
   "metadata": {
    "colab_type": "text",
    "id": "WWny1QutaBNP"
   },
   "source": [
    "Finaly we select 150 components "
   ]
  },
  {
   "cell_type": "code",
   "execution_count": 0,
   "metadata": {
    "colab": {},
    "colab_type": "code",
    "id": "txLLk17BZ0-K"
   },
   "outputs": [],
   "source": [
    "# create instance for pca\n",
    "sklearn_pca = sklearnPCA(n_components=150)\n",
    "# fit and transform the instance on datad\n",
    "Y_sklearn = sklearn_pca.fit_transform(X_std)"
   ]
  },
  {
   "cell_type": "markdown",
   "metadata": {
    "colab_type": "text",
    "id": "FrcAd-_6753T"
   },
   "source": [
    "### Print the new dataset"
   ]
  },
  {
   "cell_type": "code",
   "execution_count": 72,
   "metadata": {
    "colab": {
     "base_uri": "https://localhost:8080/",
     "height": 238
    },
    "colab_type": "code",
    "id": "fQJ0Q4QE7e6b",
    "outputId": "8fbf226c-7631-4000-c513-1c697fbf30b8"
   },
   "outputs": [
    {
     "data": {
      "text/plain": [
       "array([[ 3.15172009, -1.21878156, -0.34350136, ...,  0.14653231,\n",
       "        -0.14062326, -0.13345489],\n",
       "       [-0.40369192,  2.94273236, -0.37120302, ..., -0.18354783,\n",
       "        -0.4104699 ,  0.15649909],\n",
       "       [ 3.45984416, -0.84736541, -0.09569279, ..., -0.12879717,\n",
       "         0.21952702,  0.1828322 ],\n",
       "       ...,\n",
       "       [ 0.24086795, -1.72208536,  3.21917392, ...,  1.36175786,\n",
       "        -1.86584482,  0.94780501],\n",
       "       [-3.01519369,  3.09806832, -1.58954869, ..., -0.47119886,\n",
       "         0.05975886,  0.20634297],\n",
       "       [-0.92426147,  3.52702078, -0.87559381, ..., -0.82129923,\n",
       "         0.62247337,  0.32541719]])"
      ]
     },
     "execution_count": 72,
     "metadata": {
      "tags": []
     },
     "output_type": "execute_result"
    }
   ],
   "source": [
    "Y_sklearn"
   ]
  },
  {
   "cell_type": "markdown",
   "metadata": {
    "colab_type": "text",
    "id": "Lz62EQpM-Dae"
   },
   "source": [
    "We reduced the number of columns from 221 to 150."
   ]
  }
 ],
 "metadata": {
  "colab": {
   "collapsed_sections": [
    "z6waBfEC3WBQ",
    "cHEucwdpf9BO",
    "2oKshLQsjOML",
    "eeqgs8poXkKZ",
    "YG-uBV0qD6mM",
    "lMffE6WEuD3c",
    "2xqWy2N-udup",
    "-ujBPUi2vKRZ",
    "6PLzFF_W5JZA",
    "hlp-Nn4_miIY",
    "FjcLpwhsD6mV",
    "tL13Zl4KD6mc",
    "fDi5GC2LD6mi",
    "GPpr6qW7D6mm",
    "XkMwYsylD6mp",
    "yZydsP79D6mt",
    "q-8lMAVXD6mw",
    "Q60KY8A5D6mz",
    "qhMrJyYE58-S",
    "vYwYlTj66cTy",
    "cgwr05Lk6gtF",
    "xPRI35D16iQC",
    "zPwr8B_Z6nGD",
    "4wOqhlWkazRt",
    "j5GYxBujbCjY",
    "Q_EF20gliFsw",
    "8HFGQ4NKclE5",
    "9eOnJjqonN7f",
    "Qhl10eUZbudV",
    "FrcAd-_6753T"
   ],
   "name": "PCA_with_house_prices.ipynb",
   "provenance": [],
   "version": "0.3.2"
  },
  "kernelspec": {
   "display_name": "Python 3",
   "language": "python",
   "name": "python3"
  },
  "language_info": {
   "codemirror_mode": {
    "name": "ipython",
    "version": 3
   },
   "file_extension": ".py",
   "mimetype": "text/x-python",
   "name": "python",
   "nbconvert_exporter": "python",
   "pygments_lexer": "ipython3",
   "version": "3.6.12"
  }
 },
 "nbformat": 4,
 "nbformat_minor": 1
}
